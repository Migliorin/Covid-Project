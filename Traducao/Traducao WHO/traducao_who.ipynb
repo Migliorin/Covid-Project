{
 "cells": [
  {
   "cell_type": "code",
   "execution_count": 1,
   "metadata": {},
   "outputs": [],
   "source": [
    "from googletrans import Translator\n",
    "from pandas import*\n",
    "import httpcore,os,json"
   ]
  },
  {
   "cell_type": "code",
   "execution_count": 2,
   "metadata": {},
   "outputs": [],
   "source": [
    "def fun_translater(pergunta):         \n",
    "    loop = True\n",
    "    while(loop):\n",
    "        try:\n",
    "            translator = Translator()\n",
    "            pergunta_br = translator.translate(pergunta, dest='pt',src='en')\n",
    "            time.sleep(5)\n",
    "            loop = False # Stop the loop\n",
    "            return pergunta_br\n",
    "\n",
    "        except AttributeError:\n",
    "            time.sleep(10)"
   ]
  },
  {
   "cell_type": "code",
   "execution_count": 3,
   "metadata": {},
   "outputs": [],
   "source": [
    "df = read_csv('./who.csv')"
   ]
  },
  {
   "cell_type": "code",
   "execution_count": 4,
   "metadata": {},
   "outputs": [],
   "source": [
    "path = './backup'\n",
    "if(not os.path.exists(path)):\n",
    "    os.mkdir(path)"
   ]
  },
  {
   "cell_type": "code",
   "execution_count": null,
   "metadata": {},
   "outputs": [],
   "source": [
    "perguntas_trad = []\n",
    "respostas_trad = []\n",
    "for pergunta,resposta,i in zip(df['questions'].values,df['answers'].values,range(1,df.shape[0] + 1)):\n",
    "    try:\n",
    "        texto = [pergunta,resposta]\n",
    "        texto_traduzido = fun_translater(texto) \n",
    "        perguntas_trad.append(texto_traduzido[0].text)\n",
    "        respostas_trad.append(texto_traduzido[1].text)\n",
    "        \n",
    "        with open('./backup/perguntas.json','w') as outfile:\n",
    "            json.dump(perguntas_trad,outfile,ensure_ascii=False)\n",
    "            outfile.close()\n",
    "        \n",
    "        with open('./backup/respostas.json','w') as outfile:\n",
    "            json.dump(respostas_trad,outfile,ensure_ascii=False)\n",
    "            outfile.close()\n",
    "        \n",
    "        f = open('output.txt','w')\n",
    "        f.write(\"%d de %d\"%(i,df.shape[0]))\n",
    "        f.close()\n",
    "        \n",
    "    except (KeyboardInterrupt or httpcore._exceptions.ConnectError) as x:\n",
    "        \n",
    "        with open('./backup/perguntas.json','w') as outfile:\n",
    "            json.dump(perguntas_trad,outfile,ensure_ascii=False)\n",
    "            outfile.close()\n",
    "        \n",
    "        with open('./backup/respostas.json','w') as outfile:\n",
    "            json.dump(respostas_trad,outfile,ensure_ascii=False)\n",
    "            outfile.close()\n",
    "        \n",
    "        f = open('output.txt','w')\n",
    "        f.write(\"Traducao parada na posicao %d\"%(i))\n",
    "        f.close()\n",
    "        \n",
    "        DataFrame({'perguntas' : perguntas_trad, 'respostas' : respostas_trad}).to_csv('./backup/backupWHO.csv',index=False)\n",
    "        \n",
    "DataFrame({'perguntas' : perguntas_trad, 'respostas' : respostas_trad}).to_csv('./who.csv',index=False)\n",
    "f = open('output.txt','w')\n",
    "f.write(\"Traducao concluida\")\n",
    "f.close()"
   ]
  },
  {
   "cell_type": "code",
   "execution_count": null,
   "metadata": {},
   "outputs": [],
   "source": []
  }
 ],
 "metadata": {
  "kernelspec": {
   "display_name": "Python 3",
   "language": "python",
   "name": "python3"
  },
  "language_info": {
   "codemirror_mode": {
    "name": "ipython",
    "version": 3
   },
   "file_extension": ".py",
   "mimetype": "text/x-python",
   "name": "python",
   "nbconvert_exporter": "python",
   "pygments_lexer": "ipython3",
   "version": "3.9.0"
  }
 },
 "nbformat": 4,
 "nbformat_minor": 4
}
