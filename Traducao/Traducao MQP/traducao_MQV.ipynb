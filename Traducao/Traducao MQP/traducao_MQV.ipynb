{
 "cells": [
  {
   "cell_type": "code",
   "execution_count": 1,
   "metadata": {},
   "outputs": [],
   "source": [
    "from textblob import TextBlob\n",
    "from pandas import*\n",
    "import os,json,time"
   ]
  },
  {
   "cell_type": "code",
   "execution_count": null,
   "metadata": {},
   "outputs": [],
   "source": [
    "def fun_translater(texto):\n",
    "    pergunta_br = []\n",
    "    for pergunta in texto:\n",
    "        loop = True\n",
    "        while(loop):\n",
    "            try:\n",
    "                blob = TextBlob(pergunta)\n",
    "                pergunta_br.append(blob.translate(from_lang='en',to='pt').string)\n",
    "                time.sleep(5)\n",
    "                loop = False # Stop the loop\n",
    "\n",
    "            except:\n",
    "                time.sleep(10)\n",
    "    return pergunta_br\n",
    "\n",
    "if('__main__' == __name__):\n",
    "\n",
    "    df = read_csv('./mqp.csv',names = ['dr_id', 'question_1', 'question_2', 'label'])\n",
    "\n",
    "    path = './backup'\n",
    "    if(not os.path.exists(path)):\n",
    "        os.mkdir(path)\n",
    "\n",
    "\n",
    "    pergunta_um = []\n",
    "    pergunta_dois = []\n",
    "\n",
    "    for i in range(463,df.shape[0]):\n",
    "        texto = [df['question_1'].values[i],df['question_2'].values[i]]\n",
    "        try:\n",
    "            traduzido = fun_translater(texto)\n",
    "            pergunta_um.append(traduzido[0])\n",
    "            pergunta_dois.append(traduzido[1])\n",
    "            \n",
    "        except:\n",
    "            f = open('output.txt','a')\n",
    "            f.write(\"Traducao parada na posicao %d\\n\"%(i))\n",
    "            f.close()   \n",
    "        \n",
    "        finally:\n",
    "            \n",
    "            with open('./backup/pergunta_um.json','w') as outfile:\n",
    "                json.dump(pergunta_um,outfile,ensure_ascii=False)\n",
    "                outfile.close()\n",
    "\n",
    "            with open('./backup/pergunta_dois.json','w') as outfile:\n",
    "                json.dump(pergunta_dois,outfile,ensure_ascii=False)\n",
    "                outfile.close()\n",
    "\n",
    "            f = open('output.txt','a')\n",
    "            f.write(\"%d de %d\\n\"%(i + 1,df.shape[0]))\n",
    "            f.close()\n",
    "\n",
    "            DataFrame({'pergunta_um' : pergunta_um, 'pergunta_dois' : pergunta_dois}).to_csv('./backup/backupMQP.csv',index=False)\n",
    "            \n",
    "\n",
    "        \n",
    "\n",
    "    DataFrame({'pergunta_um' : pergunta_um, 'pergunta_dois' : pergunta_dois, 'label' : df['label']}).to_csv('./mqp.csv',index=False)\n",
    "    f = open('output.txt','a')\n",
    "    f.write(\"Traducao concluida\\n\")\n",
    "    f.close()\n"
   ]
  },
  {
   "cell_type": "code",
   "execution_count": 3,
   "metadata": {},
   "outputs": [],
   "source": [
    "df_dois = read_csv('./Servidor LSI 2/backupMQP.csv')"
   ]
  },
  {
   "cell_type": "code",
   "execution_count": 4,
   "metadata": {},
   "outputs": [],
   "source": [
    "df_um = read_csv('./Servidor LSI 1/backupMQP.csv')"
   ]
  },
  {
   "cell_type": "code",
   "execution_count": 8,
   "metadata": {},
   "outputs": [],
   "source": [
    "df = read_csv('mqp.csv',names = ['dr_id', 'question_1', 'question_2', 'label'])"
   ]
  },
  {
   "cell_type": "code",
   "execution_count": 7,
   "metadata": {},
   "outputs": [
    {
     "name": "stdout",
     "output_type": "stream",
     "text": [
      "Tamanho: 3048\n"
     ]
    }
   ],
   "source": [
    "result = concat([df_um,df_dois])\n",
    "print(\"Tamanho: %d\"%(result.shape[0]))"
   ]
  },
  {
   "cell_type": "code",
   "execution_count": 10,
   "metadata": {},
   "outputs": [],
   "source": [
    "result['label'] = df['label']"
   ]
  },
  {
   "cell_type": "code",
   "execution_count": 11,
   "metadata": {},
   "outputs": [
    {
     "data": {
      "text/html": [
       "<div>\n",
       "<style scoped>\n",
       "    .dataframe tbody tr th:only-of-type {\n",
       "        vertical-align: middle;\n",
       "    }\n",
       "\n",
       "    .dataframe tbody tr th {\n",
       "        vertical-align: top;\n",
       "    }\n",
       "\n",
       "    .dataframe thead th {\n",
       "        text-align: right;\n",
       "    }\n",
       "</style>\n",
       "<table border=\"1\" class=\"dataframe\">\n",
       "  <thead>\n",
       "    <tr style=\"text-align: right;\">\n",
       "      <th></th>\n",
       "      <th>pergunta_um</th>\n",
       "      <th>pergunta_dois</th>\n",
       "      <th>label</th>\n",
       "    </tr>\n",
       "  </thead>\n",
       "  <tbody>\n",
       "    <tr>\n",
       "      <th>0</th>\n",
       "      <td>Depois de quantas horas depois de beber um ant...</td>\n",
       "      <td>Tenho uma festa esta noite e tomei minha últim...</td>\n",
       "      <td>1</td>\n",
       "    </tr>\n",
       "    <tr>\n",
       "      <th>1</th>\n",
       "      <td>Depois de quantas horas depois de beber um ant...</td>\n",
       "      <td>Vomitei esta manhã e não tenho certeza se é o ...</td>\n",
       "      <td>0</td>\n",
       "    </tr>\n",
       "    <tr>\n",
       "      <th>2</th>\n",
       "      <td>Estou acima do peso (192,9) para a minha idade...</td>\n",
       "      <td>Eu sou um homem de 39 anos pesando atualmente ...</td>\n",
       "      <td>1</td>\n",
       "    </tr>\n",
       "    <tr>\n",
       "      <th>3</th>\n",
       "      <td>Estou acima do peso (192,9) para a minha idade...</td>\n",
       "      <td>Qual dieta é boa para perder peso? Keto ou veg...</td>\n",
       "      <td>0</td>\n",
       "    </tr>\n",
       "    <tr>\n",
       "      <th>4</th>\n",
       "      <td>Alergia à aspirina - vale a pena comprar uma p...</td>\n",
       "      <td>Quanta Aspirina posso tomar para minha dor de ...</td>\n",
       "      <td>0</td>\n",
       "    </tr>\n",
       "    <tr>\n",
       "      <th>...</th>\n",
       "      <td>...</td>\n",
       "      <td>...</td>\n",
       "      <td>...</td>\n",
       "    </tr>\n",
       "    <tr>\n",
       "      <th>2580</th>\n",
       "      <td>15 milhões de espermatozóides podem ser um pai?</td>\n",
       "      <td>Minha contagem de espermatozóides é de 15 milh...</td>\n",
       "      <td>1</td>\n",
       "    </tr>\n",
       "    <tr>\n",
       "      <th>2581</th>\n",
       "      <td>26 anos com história de insuficiência venosa p...</td>\n",
       "      <td>Olá, doutor, pode me dizer alguns dos sintomas...</td>\n",
       "      <td>0</td>\n",
       "    </tr>\n",
       "    <tr>\n",
       "      <th>2582</th>\n",
       "      <td>26 anos com história de insuficiência venosa p...</td>\n",
       "      <td>Olá doutor, sou um homem de 26 anos com insufi...</td>\n",
       "      <td>1</td>\n",
       "    </tr>\n",
       "    <tr>\n",
       "      <th>2583</th>\n",
       "      <td>32 semanas de gravidez. Dor de cabeça estranha...</td>\n",
       "      <td>Estou grávida de 32 semanas e tive forte dor d...</td>\n",
       "      <td>0</td>\n",
       "    </tr>\n",
       "    <tr>\n",
       "      <th>2584</th>\n",
       "      <td>32 semanas de gravidez. Dor de cabeça estranha...</td>\n",
       "      <td>Tenho dor de cabeça, fraqueza nas pernas e 32 ...</td>\n",
       "      <td>1</td>\n",
       "    </tr>\n",
       "  </tbody>\n",
       "</table>\n",
       "<p>3048 rows × 3 columns</p>\n",
       "</div>"
      ],
      "text/plain": [
       "                                            pergunta_um  \\\n",
       "0     Depois de quantas horas depois de beber um ant...   \n",
       "1     Depois de quantas horas depois de beber um ant...   \n",
       "2     Estou acima do peso (192,9) para a minha idade...   \n",
       "3     Estou acima do peso (192,9) para a minha idade...   \n",
       "4     Alergia à aspirina - vale a pena comprar uma p...   \n",
       "...                                                 ...   \n",
       "2580    15 milhões de espermatozóides podem ser um pai?   \n",
       "2581  26 anos com história de insuficiência venosa p...   \n",
       "2582  26 anos com história de insuficiência venosa p...   \n",
       "2583  32 semanas de gravidez. Dor de cabeça estranha...   \n",
       "2584  32 semanas de gravidez. Dor de cabeça estranha...   \n",
       "\n",
       "                                          pergunta_dois  label  \n",
       "0     Tenho uma festa esta noite e tomei minha últim...      1  \n",
       "1     Vomitei esta manhã e não tenho certeza se é o ...      0  \n",
       "2     Eu sou um homem de 39 anos pesando atualmente ...      1  \n",
       "3     Qual dieta é boa para perder peso? Keto ou veg...      0  \n",
       "4     Quanta Aspirina posso tomar para minha dor de ...      0  \n",
       "...                                                 ...    ...  \n",
       "2580  Minha contagem de espermatozóides é de 15 milh...      1  \n",
       "2581  Olá, doutor, pode me dizer alguns dos sintomas...      0  \n",
       "2582  Olá doutor, sou um homem de 26 anos com insufi...      1  \n",
       "2583  Estou grávida de 32 semanas e tive forte dor d...      0  \n",
       "2584  Tenho dor de cabeça, fraqueza nas pernas e 32 ...      1  \n",
       "\n",
       "[3048 rows x 3 columns]"
      ]
     },
     "execution_count": 11,
     "metadata": {},
     "output_type": "execute_result"
    }
   ],
   "source": [
    "result"
   ]
  },
  {
   "cell_type": "code",
   "execution_count": 13,
   "metadata": {},
   "outputs": [],
   "source": [
    "result.to_csv('./mqp_Traduzido.csv',index=False)"
   ]
  },
  {
   "cell_type": "code",
   "execution_count": null,
   "metadata": {},
   "outputs": [],
   "source": []
  }
 ],
 "metadata": {
  "kernelspec": {
   "display_name": "Python 3",
   "language": "python",
   "name": "python3"
  },
  "language_info": {
   "codemirror_mode": {
    "name": "ipython",
    "version": 3
   },
   "file_extension": ".py",
   "mimetype": "text/x-python",
   "name": "python",
   "nbconvert_exporter": "python",
   "pygments_lexer": "ipython3",
   "version": "3.9.0"
  }
 },
 "nbformat": 4,
 "nbformat_minor": 2
}
