{
 "cells": [
  {
   "cell_type": "code",
   "execution_count": 18,
   "metadata": {},
   "outputs": [],
   "source": [
    "from textblob import TextBlob\n",
    "import pandas as pd\n",
    "import numpy as np\n",
    "import httpcore,os,json,time"
   ]
  },
  {
   "cell_type": "code",
   "execution_count": null,
   "metadata": {
    "scrolled": true
   },
   "outputs": [],
   "source": [
    "class TraducaoMqV():\n",
    "    def __init__(self,df):\n",
    "        self.df = df\n",
    "        pergunta_um = []\n",
    "        pergunta_dois = []\n",
    "    \n",
    "    def fun_translater(pergunta):         \n",
    "        loop = True\n",
    "        while(loop):\n",
    "            try:\n",
    "                translator = TextBlob(pergunta)\n",
    "                pergunta_br = translator.translate(to = 'pt')\n",
    "                time.sleep(5)\n",
    "                loop = False # Stop the loop\n",
    "                return pergunta_br\n",
    "\n",
    "            except Exception:\n",
    "                time.sleep(10)\n",
    "            \n",
    "    def init_traducao(self):\n",
    "        for i in range(463,self.df.shape[0]):\n",
    "            try:\n",
    "                pergunta_um_traduzida = self.fun_translater(self.df.loc[i][1])\n",
    "                pergunta_dois_traduzida = self.fun_translater(self.df.loc[i][2])\n",
    "                self.pergunta_um.append(pergunta_um_traduzida.string)\n",
    "                self.pergunta_dois.append(pergunta_dois_traduzida.string)\n",
    "                print(\"debug 1\")\n",
    "\n",
    "                with open('./backup/pergunta_um.json','w+') as outfile_um:\n",
    "                    json.dump(self.pergunta_um,outfile_um,ensure_ascii=False)\n",
    "                    outfile.close()\n",
    "\n",
    "                with open('./backup/pergunta_dois.json','w+') as outfile_dois:\n",
    "                    json.dump(self.pergunta_dois,outfile_dois,ensure_ascii=False)\n",
    "                    outfile.close()\n",
    "\n",
    "                f = open('output.txt','a')\n",
    "                f.write(\"%d de %d\\n\"%(i,self.df.shape[0]))\n",
    "                f.close()\n",
    "\n",
    "                df_ = pd.DataFrame({'pergunta_um' : self.pergunta_um, 'pergunta_dois' : self.pergunta_dois})\n",
    "                df_.to_csv('./backup/backupMQP.csv',index=False)\n",
    "                \n",
    "                print(\"%d de %d\"%(i,self.df.shape[0]))\n",
    "\n",
    "            except (KeyboardInterrupt or httpcore._exceptions.ConnectError) as x:\n",
    "\n",
    "                f = open('output.txt','a')\n",
    "                f.write(\"Traducao parada na posicao %d\\n\"%(i))\n",
    "                f.write(str(x))\n",
    "                f.close()\n",
    "\n",
    "        df_save = pd.DataFrame({'pergunta_um' : self.pergunta_um, 'pergunta_dois' : self.pergunta_dois, 'label' : self.df['label']})\n",
    "        df_save.to_csv('./mqp.csv',index=False)\n",
    "        f = open('output.txt','a')\n",
    "        f.write(\"Traducao concluida\\n\")\n",
    "        f.close()\n",
    "        \n",
    "if('__main__' == __name__):\n",
    "\n",
    "    df = pd.read_csv('./mqp.csv',names = ['dr_id', 'question_1', 'question_2', 'label'])\n",
    "\n",
    "    path = './backup'\n",
    "    if(not os.path.exists(path)):\n",
    "        os.mkdir(path)\n",
    "    \n",
    "    print('oido')\n",
    "    traducao_mqv = TraducaoMqV(df)\n",
    "    traducao_mqv.init_traducao()"
   ]
  },
  {
   "cell_type": "code",
   "execution_count": 17,
   "metadata": {},
   "outputs": [
    {
     "ename": "TypeError",
     "evalue": "data type 's256' not understood",
     "output_type": "error",
     "traceback": [
      "\u001b[0;31m---------------------------------------------------------------------------\u001b[0m",
      "\u001b[0;31mTypeError\u001b[0m                                 Traceback (most recent call last)",
      "\u001b[0;32m<ipython-input-17-0f757f09f9ac>\u001b[0m in \u001b[0;36m<module>\u001b[0;34m\u001b[0m\n\u001b[0;32m----> 1\u001b[0;31m \u001b[0mstrArr\u001b[0m \u001b[0;34m=\u001b[0m \u001b[0mnp\u001b[0m\u001b[0;34m.\u001b[0m\u001b[0mempty\u001b[0m\u001b[0;34m(\u001b[0m\u001b[0;36m10\u001b[0m\u001b[0;34m,\u001b[0m \u001b[0mdtype\u001b[0m\u001b[0;34m=\u001b[0m\u001b[0;34m's256'\u001b[0m\u001b[0;34m)\u001b[0m\u001b[0;34m\u001b[0m\u001b[0;34m\u001b[0m\u001b[0m\n\u001b[0m\u001b[1;32m      2\u001b[0m \u001b[0mstrArr\u001b[0m\u001b[0;34m\u001b[0m\u001b[0;34m\u001b[0m\u001b[0m\n",
      "\u001b[0;31mTypeError\u001b[0m: data type 's256' not understood"
     ]
    }
   ],
   "source": [
    "strArr = np.empty(10, dtype='s256')\n",
    "strArr"
   ]
  },
  {
   "cell_type": "code",
   "execution_count": 15,
   "metadata": {},
   "outputs": [
    {
     "ename": "IndexError",
     "evalue": "too many indices for array: array is 0-dimensional, but 1 were indexed",
     "output_type": "error",
     "traceback": [
      "\u001b[0;31m---------------------------------------------------------------------------\u001b[0m",
      "\u001b[0;31mIndexError\u001b[0m                                Traceback (most recent call last)",
      "\u001b[0;32m<ipython-input-15-b6449b64ab54>\u001b[0m in \u001b[0;36m<module>\u001b[0;34m\u001b[0m\n\u001b[0;32m----> 1\u001b[0;31m \u001b[0mteste\u001b[0m\u001b[0;34m[\u001b[0m\u001b[0;36m0\u001b[0m\u001b[0;34m]\u001b[0m \u001b[0;34m=\u001b[0m \u001b[0;34m'fdsjfnkdsjfn dsfknsdjfsnkd djkfnskjdfnskd'\u001b[0m\u001b[0;34m\u001b[0m\u001b[0;34m\u001b[0m\u001b[0m\n\u001b[0m",
      "\u001b[0;31mIndexError\u001b[0m: too many indices for array: array is 0-dimensional, but 1 were indexed"
     ]
    }
   ],
   "source": [
    "teste[0] = 'fdsjfnkdsjfn dsfknsdjfsnkd djkfnskjdfnskd'"
   ]
  },
  {
   "cell_type": "code",
   "execution_count": 10,
   "metadata": {},
   "outputs": [
    {
     "data": {
      "text/plain": [
       "chararray([b'f', b'3', b'\\x97', ..., b'\\x7f', '', ''], dtype='|S1')"
      ]
     },
     "execution_count": 10,
     "metadata": {},
     "output_type": "execute_result"
    }
   ],
   "source": [
    "teste"
   ]
  },
  {
   "cell_type": "code",
   "execution_count": 1,
   "metadata": {},
   "outputs": [
    {
     "data": {
      "text/plain": [
       "True"
      ]
     },
     "execution_count": 1,
     "metadata": {},
     "output_type": "execute_result"
    }
   ],
   "source": [
    "'__main__' == __name__"
   ]
  },
  {
   "cell_type": "code",
   "execution_count": 5,
   "metadata": {},
   "outputs": [],
   "source": [
    "df = pd.read_csv('./mqp.csv',names = ['dr_id', 'question_1', 'question_2', 'label'])"
   ]
  },
  {
   "cell_type": "code",
   "execution_count": 5,
   "metadata": {},
   "outputs": [
    {
     "data": {
      "text/plain": [
       "'I have a party tonight and I took my last dose of Azithromycin this morning. Can I have a few drinks?'"
      ]
     },
     "execution_count": 5,
     "metadata": {},
     "output_type": "execute_result"
    }
   ],
   "source": [
    "df.loc[0][2]"
   ]
  },
  {
   "cell_type": "code",
   "execution_count": 13,
   "metadata": {},
   "outputs": [],
   "source": [
    "teste = [df[df.index == 463]['question_1'].values[0], df[df.index == 463]['question_2'].values[0]]\n"
   ]
  },
  {
   "cell_type": "code",
   "execution_count": 16,
   "metadata": {},
   "outputs": [
    {
     "data": {
      "text/plain": [
       "['Weeping blisters ontop of foot,red toes...looks terrible.what to do??',\n",
       " \"I think I have a weeping blister on toe, how do I know if it's a simple shoe bite or an infection?\"]"
      ]
     },
     "execution_count": 16,
     "metadata": {},
     "output_type": "execute_result"
    }
   ],
   "source": [
    "teste"
   ]
  },
  {
   "cell_type": "code",
   "execution_count": 33,
   "metadata": {},
   "outputs": [],
   "source": [
    "def fun_translater(pergunta):         \n",
    "    loop = True\n",
    "    lim = 0\n",
    "    while(loop):\n",
    "        try:\n",
    "            translator = TextBlob(pergunta)\n",
    "            pergunta_br = translator.translate(to = 'pt')\n",
    "            time.sleep(5)\n",
    "            loop = False # Stop the loop\n",
    "            return pergunta_br\n",
    "\n",
    "        except Exception:\n",
    "            time.sleep(10)"
   ]
  },
  {
   "cell_type": "code",
   "execution_count": null,
   "metadata": {},
   "outputs": [
    {
     "name": "stdout",
     "output_type": "stream",
     "text": [
      "<class 'KeyboardInterrupt'>\n"
     ]
    }
   ],
   "source": [
    "while(True):\n",
    "    try:\n",
    "        translator = TextBlob(teste[0])\n",
    "        pergunta_br = translator.translate(to = 'pt')\n",
    "    except Exception or KeyboardInterrupt as x:\n",
    "        print(x)\n",
    "        "
   ]
  },
  {
   "cell_type": "code",
   "execution_count": null,
   "metadata": {},
   "outputs": [],
   "source": []
  }
 ],
 "metadata": {
  "kernelspec": {
   "display_name": "Python 3",
   "language": "python",
   "name": "python3"
  },
  "language_info": {
   "codemirror_mode": {
    "name": "ipython",
    "version": 3
   },
   "file_extension": ".py",
   "mimetype": "text/x-python",
   "name": "python",
   "nbconvert_exporter": "python",
   "pygments_lexer": "ipython3",
   "version": "3.9.0"
  }
 },
 "nbformat": 4,
 "nbformat_minor": 2
}
