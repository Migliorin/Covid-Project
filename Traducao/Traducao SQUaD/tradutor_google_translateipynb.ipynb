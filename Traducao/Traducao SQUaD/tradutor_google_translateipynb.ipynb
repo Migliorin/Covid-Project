{
 "cells": [
  {
   "cell_type": "markdown",
   "metadata": {
    "id": "IPGLkah7pT6C"
   },
   "source": [
    "#Instalação de pacotes"
   ]
  },
  {
   "cell_type": "code",
   "execution_count": null,
   "metadata": {
    "colab": {
     "base_uri": "https://localhost:8080/"
    },
    "id": "n3sSrSa4pPWR",
    "outputId": "26e4be53-7287-47a6-c75d-de18df9cf81e"
   },
   "outputs": [
    {
     "name": "stdout",
     "output_type": "stream",
     "text": [
      "Collecting googletrans\n",
      "  Downloading https://files.pythonhosted.org/packages/71/3a/3b19effdd4c03958b90f40fe01c93de6d5280e03843cc5adf6956bfc9512/googletrans-3.0.0.tar.gz\n",
      "Collecting httpx==0.13.3\n",
      "\u001b[?25l  Downloading https://files.pythonhosted.org/packages/54/b4/698b284c6aed4d7c2b4fe3ba5df1fcf6093612423797e76fbb24890dd22f/httpx-0.13.3-py3-none-any.whl (55kB)\n",
      "\u001b[K     |████████████████████████████████| 61kB 2.7MB/s \n",
      "\u001b[?25hCollecting httpcore==0.9.*\n",
      "\u001b[?25l  Downloading https://files.pythonhosted.org/packages/dd/d5/e4ff9318693ac6101a2095e580908b591838c6f33df8d3ee8dd953ba96a8/httpcore-0.9.1-py3-none-any.whl (42kB)\n",
      "\u001b[K     |████████████████████████████████| 51kB 4.8MB/s \n",
      "\u001b[?25hCollecting sniffio\n",
      "  Downloading https://files.pythonhosted.org/packages/52/b0/7b2e028b63d092804b6794595871f936aafa5e9322dcaaad50ebf67445b3/sniffio-1.2.0-py3-none-any.whl\n",
      "Collecting rfc3986<2,>=1.3\n",
      "  Downloading https://files.pythonhosted.org/packages/78/be/7b8b99fd74ff5684225f50dd0e865393d2265656ef3b4ba9eaaaffe622b8/rfc3986-1.4.0-py2.py3-none-any.whl\n",
      "Collecting hstspreload\n",
      "\u001b[?25l  Downloading https://files.pythonhosted.org/packages/fe/f4/a290dfbc9cfebf7957c63e8caca5b80caddfd1d7721821a3e8b40a399923/hstspreload-2020.10.20-py3-none-any.whl (972kB)\n",
      "\u001b[K     |████████████████████████████████| 972kB 8.2MB/s \n",
      "\u001b[?25hRequirement already satisfied: certifi in /usr/local/lib/python3.6/dist-packages (from httpx==0.13.3->googletrans) (2020.6.20)\n",
      "Requirement already satisfied: chardet==3.* in /usr/local/lib/python3.6/dist-packages (from httpx==0.13.3->googletrans) (3.0.4)\n",
      "Requirement already satisfied: idna==2.* in /usr/local/lib/python3.6/dist-packages (from httpx==0.13.3->googletrans) (2.10)\n",
      "Collecting h11<0.10,>=0.8\n",
      "\u001b[?25l  Downloading https://files.pythonhosted.org/packages/5a/fd/3dad730b0f95e78aeeb742f96fa7bbecbdd56a58e405d3da440d5bfb90c6/h11-0.9.0-py2.py3-none-any.whl (53kB)\n",
      "\u001b[K     |████████████████████████████████| 61kB 7.1MB/s \n",
      "\u001b[?25hCollecting h2==3.*\n",
      "\u001b[?25l  Downloading https://files.pythonhosted.org/packages/25/de/da019bcc539eeab02f6d45836f23858ac467f584bfec7a526ef200242afe/h2-3.2.0-py2.py3-none-any.whl (65kB)\n",
      "\u001b[K     |████████████████████████████████| 71kB 8.0MB/s \n",
      "\u001b[?25hCollecting contextvars>=2.1; python_version < \"3.7\"\n",
      "  Downloading https://files.pythonhosted.org/packages/83/96/55b82d9f13763be9d672622e1b8106c85acb83edd7cc2fa5bc67cd9877e9/contextvars-2.4.tar.gz\n",
      "Collecting hyperframe<6,>=5.2.0\n",
      "  Downloading https://files.pythonhosted.org/packages/19/0c/bf88182bcb5dce3094e2f3e4fe20db28a9928cb7bd5b08024030e4b140db/hyperframe-5.2.0-py2.py3-none-any.whl\n",
      "Collecting hpack<4,>=3.0\n",
      "  Downloading https://files.pythonhosted.org/packages/8a/cc/e53517f4a1e13f74776ca93271caef378dadec14d71c61c949d759d3db69/hpack-3.0.0-py2.py3-none-any.whl\n",
      "Collecting immutables>=0.9\n",
      "\u001b[?25l  Downloading https://files.pythonhosted.org/packages/99/e0/ea6fd4697120327d26773b5a84853f897a68e33d3f9376b00a8ff96e4f63/immutables-0.14-cp36-cp36m-manylinux1_x86_64.whl (98kB)\n",
      "\u001b[K     |████████████████████████████████| 102kB 10.2MB/s \n",
      "\u001b[?25hBuilding wheels for collected packages: googletrans, contextvars\n",
      "  Building wheel for googletrans (setup.py) ... \u001b[?25l\u001b[?25hdone\n",
      "  Created wheel for googletrans: filename=googletrans-3.0.0-cp36-none-any.whl size=15736 sha256=edf4ad7baff87ca3c018194fbbf225c0472ec661028244b09b349c29ccf6e82f\n",
      "  Stored in directory: /root/.cache/pip/wheels/28/1a/a7/eaf4d7a3417a0c65796c547cff4deb6d79c7d14c2abd29273e\n",
      "  Building wheel for contextvars (setup.py) ... \u001b[?25l\u001b[?25hdone\n",
      "  Created wheel for contextvars: filename=contextvars-2.4-cp36-none-any.whl size=7666 sha256=aa9ea74925bd5aea4d42b0f0b3c17bc3c76580af7176a14b73af3a253cb1cc15\n",
      "  Stored in directory: /root/.cache/pip/wheels/a5/7d/68/1ebae2668bda2228686e3c1cf16f2c2384cea6e9334ad5f6de\n",
      "Successfully built googletrans contextvars\n",
      "Installing collected packages: h11, hyperframe, hpack, h2, immutables, contextvars, sniffio, httpcore, rfc3986, hstspreload, httpx, googletrans\n",
      "Successfully installed contextvars-2.4 googletrans-3.0.0 h11-0.9.0 h2-3.2.0 hpack-3.0.0 hstspreload-2020.10.20 httpcore-0.9.1 httpx-0.13.3 hyperframe-5.2.0 immutables-0.14 rfc3986-1.4.0 sniffio-1.2.0\n"
     ]
    }
   ],
   "source": [
    "#API Google Translator\n",
    "!pip install googletrans"
   ]
  },
  {
   "cell_type": "markdown",
   "metadata": {
    "id": "L674wxxDpcWg"
   },
   "source": [
    "#Importar pacotes"
   ]
  },
  {
   "cell_type": "code",
   "execution_count": null,
   "metadata": {
    "id": "fHtSnenypdzJ"
   },
   "outputs": [],
   "source": [
    "from googletrans import Translator"
   ]
  },
  {
   "cell_type": "markdown",
   "metadata": {
    "id": "GB9RpZ2cq9Iw"
   },
   "source": [
    "#Tradução"
   ]
  },
  {
   "cell_type": "markdown",
   "metadata": {
    "id": "-4jRMuKBq-_I"
   },
   "source": [
    "Exemplo de pergunta"
   ]
  },
  {
   "cell_type": "code",
   "execution_count": null,
   "metadata": {
    "id": "zEmlgRrMpoUn"
   },
   "outputs": [],
   "source": [
    "pergunta = \"What are the travel restrictions in the European Union?\""
   ]
  },
  {
   "cell_type": "markdown",
   "metadata": {
    "id": "SGzzYdRhrBYq"
   },
   "source": [
    "Texto traduzido"
   ]
  },
  {
   "cell_type": "code",
   "execution_count": null,
   "metadata": {
    "id": "ICj1Nb2Vpyt-"
   },
   "outputs": [],
   "source": [
    "translator = Translator()\n",
    "\n",
    "pergunta_br = translator.translate (pergunta, dest='pt')"
   ]
  },
  {
   "cell_type": "markdown",
   "metadata": {
    "id": "LXRDmvcqP-nm"
   },
   "source": [
    "Imprimir a pergunta traduzida"
   ]
  },
  {
   "cell_type": "code",
   "execution_count": null,
   "metadata": {
    "colab": {
     "base_uri": "https://localhost:8080/"
    },
    "id": "_e4Wzk6aR6wM",
    "outputId": "5306ab03-4245-46fb-a2c9-9552502bf590"
   },
   "outputs": [
    {
     "name": "stdout",
     "output_type": "stream",
     "text": [
      "Quais são as restrições de viagem na União Europeia?\n"
     ]
    }
   ],
   "source": [
    "print (pergunta_br.text)"
   ]
  }
 ],
 "metadata": {
  "colab": {
   "name": "tradutor-google-translateipynb",
   "provenance": []
  },
  "kernelspec": {
   "display_name": "Python 3",
   "language": "python",
   "name": "python3"
  },
  "language_info": {
   "codemirror_mode": {
    "name": "ipython",
    "version": 3
   },
   "file_extension": ".py",
   "mimetype": "text/x-python",
   "name": "python",
   "nbconvert_exporter": "python",
   "pygments_lexer": "ipython3",
   "version": "3.9.0"
  }
 },
 "nbformat": 4,
 "nbformat_minor": 1
}
