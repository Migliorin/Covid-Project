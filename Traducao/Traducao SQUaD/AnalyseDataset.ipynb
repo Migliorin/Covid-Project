{
 "cells": [
  {
   "cell_type": "markdown",
   "metadata": {},
   "source": [
    "# Bibliotecas"
   ]
  },
  {
   "cell_type": "code",
   "execution_count": 2,
   "metadata": {},
   "outputs": [],
   "source": [
    "import json\n",
    "import pandas as pd\n",
    "import os"
   ]
  },
  {
   "cell_type": "markdown",
   "metadata": {},
   "source": [
    "# Open dataset"
   ]
  },
  {
   "cell_type": "code",
   "execution_count": 3,
   "metadata": {},
   "outputs": [],
   "source": [
    "with open('./Servidor LSI Versao 1/backup/dataset.json','r') as f:\n",
    "    df_json = json.load(f)"
   ]
  },
  {
   "cell_type": "code",
   "execution_count": 10,
   "metadata": {},
   "outputs": [
    {
     "data": {
      "text/plain": [
       "[{'question': 'Qual evento nacional fez Beyonce produzir \"Exigir um Plano?\"',\n",
       "  'id': '56bed5983aeaaa14008c94f3',\n",
       "  'answers': [{'text': 'Tiro na escola primária de Sandy Hook',\n",
       "    'answer_start': 280}],\n",
       "  'is_impossible': False},\n",
       " {'question': 'Com que música Beyonce contribuiu para a campanha?',\n",
       "  'id': '56bed5983aeaaa14008c94f4',\n",
       "  'answers': [{'text': 'Eu estive aqui', 'answer_start': 412}],\n",
       "  'is_impossible': False},\n",
       " {'question': 'Beyoncé está contribuindo para qual campanha de doação de alimentos?',\n",
       "  'id': '56bed5983aeaaa14008c94f5',\n",
       "  'answers': [{'text': 'Perca uma refeição', 'answer_start': 1553}],\n",
       "  'is_impossible': False},\n",
       " {'question': 'Em 1 de junho de 2013, onde foi realizado o concerto de \"a Chime for Change\"?',\n",
       "  'id': '56bed5983aeaaa14008c94f6',\n",
       "  'answers': [{'text': 'Londres', 'answer_start': 765}],\n",
       "  'is_impossible': False},\n",
       " {'question': 'Beyoncé estava falando sobre quem quando disse que seu dom era \"encontrar as melhores qualidades em cada ser humano\".',\n",
       "  'id': '56bed5983aeaaa14008c94f7',\n",
       "  'answers': [{'text': 'a mãe dela', 'answer_start': 1277}],\n",
       "  'is_impossible': False},\n",
       " {'question': 'A campanha de vídeo Exija um Plano ocorreu após qual evento trágico?',\n",
       "  'id': '56bfed855a85de14001c7864',\n",
       "  'answers': [{'text': 'Tiro da escola primária de Sandy Hook.',\n",
       "    'answer_start': 280}],\n",
       "  'is_impossible': False},\n",
       " {'question': 'Qual foi o foco da campanha Gucci Chime for Change?',\n",
       "  'id': '56bfed855a85de14001c7866',\n",
       "  'answers': [{'text': 'espalhar o empoderamento feminino',\n",
       "    'answer_start': 616}],\n",
       "  'is_impossible': False},\n",
       " {'question': 'Qual plataforma de crowdfunding foi usada no show?',\n",
       "  'id': '56bfed855a85de14001c7868',\n",
       "  'answers': [{'text': 'Catapulta', 'answer_start': 1409}],\n",
       "  'is_impossible': False},\n",
       " {'question': 'Qual é o nome da campanha em que Beyoncé e outros estão envolvidos que trata do controle de armas?',\n",
       "  'id': '56d4fa2e2ccc5a1400d833ca',\n",
       "  'answers': [{'text': 'Exigir um plano', 'answer_start': 108}],\n",
       "  'is_impossible': False},\n",
       " {'question': 'Que tiroteio em escolas levou à criação do Plano de Demanda A?',\n",
       "  'id': '56d4fa2e2ccc5a1400d833cb',\n",
       "  'answers': [{'text': 'Escola Primária Sandy Hook', 'answer_start': 280}],\n",
       "  'is_impossible': False},\n",
       " {'question': 'Que música Beyoncé doou para a campanha do Dia Mundial Humanitário de 2012?',\n",
       "  'id': '56d4fa2e2ccc5a1400d833cc',\n",
       "  'answers': [{'text': 'Eu estive aqui', 'answer_start': 412}],\n",
       "  'is_impossible': False},\n",
       " {'question': 'Com quem Beyoncé trabalhou em 2013 na campanha Chime for Change?',\n",
       "  'id': '56d4fa2e2ccc5a1400d833cd',\n",
       "  'answers': [{'text': 'Salma Hayek e Frida Giannini', 'answer_start': 533}],\n",
       "  'is_impossible': False},\n",
       " {'question': 'Com quem Beyoncé trabalhou em 2013 na campanha Chime for Change?',\n",
       "  'id': '56d4fa2e2ccc5a1400d833cd',\n",
       "  'answers': [{'text': 'Salma Hayek e Frida Giannini', 'answer_start': 533}],\n",
       "  'is_impossible': False}]"
      ]
     },
     "execution_count": 10,
     "metadata": {},
     "output_type": "execute_result"
    }
   ],
   "source": [
    "df_json['data'][0]['paragraphs'][0]['qas']"
   ]
  },
  {
   "cell_type": "code",
   "execution_count": 34,
   "metadata": {
    "scrolled": true
   },
   "outputs": [
    {
     "data": {
      "text/html": [
       "<div>\n",
       "<style scoped>\n",
       "    .dataframe tbody tr th:only-of-type {\n",
       "        vertical-align: middle;\n",
       "    }\n",
       "\n",
       "    .dataframe tbody tr th {\n",
       "        vertical-align: top;\n",
       "    }\n",
       "\n",
       "    .dataframe thead th {\n",
       "        text-align: right;\n",
       "    }\n",
       "</style>\n",
       "<table border=\"1\" class=\"dataframe\">\n",
       "  <thead>\n",
       "    <tr style=\"text-align: right;\">\n",
       "      <th></th>\n",
       "      <th>title</th>\n",
       "      <th>paragraphs</th>\n",
       "    </tr>\n",
       "  </thead>\n",
       "  <tbody>\n",
       "    <tr>\n",
       "      <th>0</th>\n",
       "      <td>Beyoncé</td>\n",
       "      <td>[{'qas': [{'question': 'Quando Beyonce começou...</td>\n",
       "    </tr>\n",
       "    <tr>\n",
       "      <th>1</th>\n",
       "      <td>Beyoncé</td>\n",
       "      <td>[{'qas': [{'question': 'Quando Beyonce começou...</td>\n",
       "    </tr>\n",
       "    <tr>\n",
       "      <th>2</th>\n",
       "      <td>Frédéric_Chopin</td>\n",
       "      <td>[{'qas': [{'question': 'Quais eram as nacional...</td>\n",
       "    </tr>\n",
       "    <tr>\n",
       "      <th>3</th>\n",
       "      <td>Frédéric_Chopin</td>\n",
       "      <td>[{'qas': [{'question': 'Quais eram as nacional...</td>\n",
       "    </tr>\n",
       "    <tr>\n",
       "      <th>4</th>\n",
       "      <td>Sino-Tibetan_relations_during_the_Ming_dynasty</td>\n",
       "      <td>[{'qas': [{'question': 'Quem eram Wang Jiawei ...</td>\n",
       "    </tr>\n",
       "    <tr>\n",
       "      <th>5</th>\n",
       "      <td>Sino-Tibetan_relations_during_the_Ming_dynasty</td>\n",
       "      <td>[{'qas': [{'question': 'Quem eram Wang Jiawei ...</td>\n",
       "    </tr>\n",
       "    <tr>\n",
       "      <th>6</th>\n",
       "      <td>IPod</td>\n",
       "      <td>[{'qas': [{'question': 'Qual empresa produz o ...</td>\n",
       "    </tr>\n",
       "    <tr>\n",
       "      <th>7</th>\n",
       "      <td>IPod</td>\n",
       "      <td>[{'qas': [{'question': 'Qual empresa produz o ...</td>\n",
       "    </tr>\n",
       "    <tr>\n",
       "      <th>8</th>\n",
       "      <td>The_Legend_of_Zelda: _Twilight_Princess</td>\n",
       "      <td>[{'qas': [{'question': 'Em que categoria de jo...</td>\n",
       "    </tr>\n",
       "  </tbody>\n",
       "</table>\n",
       "</div>"
      ],
      "text/plain": [
       "                                            title  \\\n",
       "0                                         Beyoncé   \n",
       "1                                         Beyoncé   \n",
       "2                                 Frédéric_Chopin   \n",
       "3                                 Frédéric_Chopin   \n",
       "4  Sino-Tibetan_relations_during_the_Ming_dynasty   \n",
       "5  Sino-Tibetan_relations_during_the_Ming_dynasty   \n",
       "6                                            IPod   \n",
       "7                                            IPod   \n",
       "8         The_Legend_of_Zelda: _Twilight_Princess   \n",
       "\n",
       "                                          paragraphs  \n",
       "0  [{'qas': [{'question': 'Quando Beyonce começou...  \n",
       "1  [{'qas': [{'question': 'Quando Beyonce começou...  \n",
       "2  [{'qas': [{'question': 'Quais eram as nacional...  \n",
       "3  [{'qas': [{'question': 'Quais eram as nacional...  \n",
       "4  [{'qas': [{'question': 'Quem eram Wang Jiawei ...  \n",
       "5  [{'qas': [{'question': 'Quem eram Wang Jiawei ...  \n",
       "6  [{'qas': [{'question': 'Qual empresa produz o ...  \n",
       "7  [{'qas': [{'question': 'Qual empresa produz o ...  \n",
       "8  [{'qas': [{'question': 'Em que categoria de jo...  "
      ]
     },
     "execution_count": 34,
     "metadata": {},
     "output_type": "execute_result"
    }
   ],
   "source": [
    "pd.DataFrame(df_json['data'])"
   ]
  },
  {
   "cell_type": "code",
   "execution_count": 35,
   "metadata": {},
   "outputs": [
    {
     "data": {
      "text/plain": [
       "'Beyoncé'"
      ]
     },
     "execution_count": 35,
     "metadata": {},
     "output_type": "execute_result"
    }
   ],
   "source": [
    "df_json['data'][0]['title']"
   ]
  },
  {
   "cell_type": "code",
   "execution_count": 36,
   "metadata": {},
   "outputs": [
    {
     "data": {
      "text/plain": [
       "'Beyoncé'"
      ]
     },
     "execution_count": 36,
     "metadata": {},
     "output_type": "execute_result"
    }
   ],
   "source": [
    "df_json['data'][1]['title']"
   ]
  },
  {
   "cell_type": "code",
   "execution_count": 37,
   "metadata": {},
   "outputs": [],
   "source": [
    "lixo = df_json['data'].pop(1)"
   ]
  },
  {
   "cell_type": "code",
   "execution_count": 38,
   "metadata": {},
   "outputs": [],
   "source": [
    "lixo = df_json['data'].pop(1)"
   ]
  },
  {
   "cell_type": "code",
   "execution_count": 39,
   "metadata": {},
   "outputs": [],
   "source": [
    "lixo = df_json['data'].pop(2)"
   ]
  },
  {
   "cell_type": "code",
   "execution_count": 40,
   "metadata": {},
   "outputs": [],
   "source": [
    "lixo = df_json['data'].pop(3)"
   ]
  },
  {
   "cell_type": "code",
   "execution_count": 41,
   "metadata": {},
   "outputs": [
    {
     "data": {
      "text/html": [
       "<div>\n",
       "<style scoped>\n",
       "    .dataframe tbody tr th:only-of-type {\n",
       "        vertical-align: middle;\n",
       "    }\n",
       "\n",
       "    .dataframe tbody tr th {\n",
       "        vertical-align: top;\n",
       "    }\n",
       "\n",
       "    .dataframe thead th {\n",
       "        text-align: right;\n",
       "    }\n",
       "</style>\n",
       "<table border=\"1\" class=\"dataframe\">\n",
       "  <thead>\n",
       "    <tr style=\"text-align: right;\">\n",
       "      <th></th>\n",
       "      <th>title</th>\n",
       "      <th>paragraphs</th>\n",
       "    </tr>\n",
       "  </thead>\n",
       "  <tbody>\n",
       "    <tr>\n",
       "      <th>0</th>\n",
       "      <td>Beyoncé</td>\n",
       "      <td>[{'qas': [{'question': 'Quando Beyonce começou...</td>\n",
       "    </tr>\n",
       "    <tr>\n",
       "      <th>1</th>\n",
       "      <td>Frédéric_Chopin</td>\n",
       "      <td>[{'qas': [{'question': 'Quais eram as nacional...</td>\n",
       "    </tr>\n",
       "    <tr>\n",
       "      <th>2</th>\n",
       "      <td>Sino-Tibetan_relations_during_the_Ming_dynasty</td>\n",
       "      <td>[{'qas': [{'question': 'Quem eram Wang Jiawei ...</td>\n",
       "    </tr>\n",
       "    <tr>\n",
       "      <th>3</th>\n",
       "      <td>IPod</td>\n",
       "      <td>[{'qas': [{'question': 'Qual empresa produz o ...</td>\n",
       "    </tr>\n",
       "    <tr>\n",
       "      <th>4</th>\n",
       "      <td>The_Legend_of_Zelda: _Twilight_Princess</td>\n",
       "      <td>[{'qas': [{'question': 'Em que categoria de jo...</td>\n",
       "    </tr>\n",
       "  </tbody>\n",
       "</table>\n",
       "</div>"
      ],
      "text/plain": [
       "                                            title  \\\n",
       "0                                         Beyoncé   \n",
       "1                                 Frédéric_Chopin   \n",
       "2  Sino-Tibetan_relations_during_the_Ming_dynasty   \n",
       "3                                            IPod   \n",
       "4         The_Legend_of_Zelda: _Twilight_Princess   \n",
       "\n",
       "                                          paragraphs  \n",
       "0  [{'qas': [{'question': 'Quando Beyonce começou...  \n",
       "1  [{'qas': [{'question': 'Quais eram as nacional...  \n",
       "2  [{'qas': [{'question': 'Quem eram Wang Jiawei ...  \n",
       "3  [{'qas': [{'question': 'Qual empresa produz o ...  \n",
       "4  [{'qas': [{'question': 'Em que categoria de jo...  "
      ]
     },
     "execution_count": 41,
     "metadata": {},
     "output_type": "execute_result"
    }
   ],
   "source": [
    "pd.DataFrame(df_json['data'])"
   ]
  },
  {
   "cell_type": "code",
   "execution_count": 42,
   "metadata": {},
   "outputs": [],
   "source": [
    "dicionario = df_json['data']\n",
    "total = 0\n",
    "for i in dicionario:\n",
    "    total += 1\n",
    "    for j in i['paragraphs']:\n",
    "        for k in j['qas']:\n",
    "            total += 1\n",
    "        total += 1"
   ]
  },
  {
   "cell_type": "code",
   "execution_count": 43,
   "metadata": {},
   "outputs": [
    {
     "data": {
      "text/plain": [
       "2397"
      ]
     },
     "execution_count": 43,
     "metadata": {},
     "output_type": "execute_result"
    }
   ],
   "source": [
    "total"
   ]
  },
  {
   "cell_type": "markdown",
   "metadata": {},
   "source": [
    "# Open dataset 2"
   ]
  },
  {
   "cell_type": "code",
   "execution_count": 44,
   "metadata": {},
   "outputs": [],
   "source": [
    "with open('./Servidor LSI Versao 3/backup/dataset.json','r') as f:\n",
    "    df_json_dois = json.load(f)"
   ]
  },
  {
   "cell_type": "code",
   "execution_count": 46,
   "metadata": {},
   "outputs": [
    {
     "data": {
      "text/html": [
       "<div>\n",
       "<style scoped>\n",
       "    .dataframe tbody tr th:only-of-type {\n",
       "        vertical-align: middle;\n",
       "    }\n",
       "\n",
       "    .dataframe tbody tr th {\n",
       "        vertical-align: top;\n",
       "    }\n",
       "\n",
       "    .dataframe thead th {\n",
       "        text-align: right;\n",
       "    }\n",
       "</style>\n",
       "<table border=\"1\" class=\"dataframe\">\n",
       "  <thead>\n",
       "    <tr style=\"text-align: right;\">\n",
       "      <th></th>\n",
       "      <th>title</th>\n",
       "      <th>paragraphs</th>\n",
       "    </tr>\n",
       "  </thead>\n",
       "  <tbody>\n",
       "    <tr>\n",
       "      <th>0</th>\n",
       "      <td>The_Legend_of_Zelda: _Twilight_Princess</td>\n",
       "      <td>[{'qas': [{'question': 'Em que categoria de jo...</td>\n",
       "    </tr>\n",
       "    <tr>\n",
       "      <th>1</th>\n",
       "      <td>The_Legend_of_Zelda: _Twilight_Princess</td>\n",
       "      <td>[{'qas': [{'question': 'Em que categoria de jo...</td>\n",
       "    </tr>\n",
       "    <tr>\n",
       "      <th>2</th>\n",
       "      <td>Spectre_ (2015_film)</td>\n",
       "      <td>[{'qas': [{'question': 'Qual empresa fez o Spe...</td>\n",
       "    </tr>\n",
       "    <tr>\n",
       "      <th>3</th>\n",
       "      <td>Spectre_ (2015_film)</td>\n",
       "      <td>[{'qas': [{'question': 'Qual empresa fez o Spe...</td>\n",
       "    </tr>\n",
       "    <tr>\n",
       "      <th>4</th>\n",
       "      <td>2008_Sichuan_earthquake</td>\n",
       "      <td>[{'qas': [{'question': 'Em que ano ocorreu o t...</td>\n",
       "    </tr>\n",
       "    <tr>\n",
       "      <th>5</th>\n",
       "      <td>2008_Sichuan_earthquake</td>\n",
       "      <td>[{'qas': [{'question': 'Em que ano ocorreu o t...</td>\n",
       "    </tr>\n",
       "  </tbody>\n",
       "</table>\n",
       "</div>"
      ],
      "text/plain": [
       "                                     title  \\\n",
       "0  The_Legend_of_Zelda: _Twilight_Princess   \n",
       "1  The_Legend_of_Zelda: _Twilight_Princess   \n",
       "2                     Spectre_ (2015_film)   \n",
       "3                     Spectre_ (2015_film)   \n",
       "4                  2008_Sichuan_earthquake   \n",
       "5                  2008_Sichuan_earthquake   \n",
       "\n",
       "                                          paragraphs  \n",
       "0  [{'qas': [{'question': 'Em que categoria de jo...  \n",
       "1  [{'qas': [{'question': 'Em que categoria de jo...  \n",
       "2  [{'qas': [{'question': 'Qual empresa fez o Spe...  \n",
       "3  [{'qas': [{'question': 'Qual empresa fez o Spe...  \n",
       "4  [{'qas': [{'question': 'Em que ano ocorreu o t...  \n",
       "5  [{'qas': [{'question': 'Em que ano ocorreu o t...  "
      ]
     },
     "execution_count": 46,
     "metadata": {},
     "output_type": "execute_result"
    }
   ],
   "source": [
    "pd.DataFrame(df_json_dois['data'])"
   ]
  },
  {
   "cell_type": "code",
   "execution_count": 47,
   "metadata": {},
   "outputs": [],
   "source": [
    "lixo = df_json_dois['data'].pop(1)"
   ]
  },
  {
   "cell_type": "code",
   "execution_count": 48,
   "metadata": {},
   "outputs": [],
   "source": [
    "lixo = df_json_dois['data'].pop(1)"
   ]
  },
  {
   "cell_type": "code",
   "execution_count": 49,
   "metadata": {},
   "outputs": [],
   "source": [
    "lixo = df_json_dois['data'].pop(3)"
   ]
  },
  {
   "cell_type": "code",
   "execution_count": 50,
   "metadata": {},
   "outputs": [
    {
     "data": {
      "text/html": [
       "<div>\n",
       "<style scoped>\n",
       "    .dataframe tbody tr th:only-of-type {\n",
       "        vertical-align: middle;\n",
       "    }\n",
       "\n",
       "    .dataframe tbody tr th {\n",
       "        vertical-align: top;\n",
       "    }\n",
       "\n",
       "    .dataframe thead th {\n",
       "        text-align: right;\n",
       "    }\n",
       "</style>\n",
       "<table border=\"1\" class=\"dataframe\">\n",
       "  <thead>\n",
       "    <tr style=\"text-align: right;\">\n",
       "      <th></th>\n",
       "      <th>title</th>\n",
       "      <th>paragraphs</th>\n",
       "    </tr>\n",
       "  </thead>\n",
       "  <tbody>\n",
       "    <tr>\n",
       "      <th>0</th>\n",
       "      <td>The_Legend_of_Zelda: _Twilight_Princess</td>\n",
       "      <td>[{'qas': [{'question': 'Em que categoria de jo...</td>\n",
       "    </tr>\n",
       "    <tr>\n",
       "      <th>1</th>\n",
       "      <td>Spectre_ (2015_film)</td>\n",
       "      <td>[{'qas': [{'question': 'Qual empresa fez o Spe...</td>\n",
       "    </tr>\n",
       "    <tr>\n",
       "      <th>2</th>\n",
       "      <td>2008_Sichuan_earthquake</td>\n",
       "      <td>[{'qas': [{'question': 'Em que ano ocorreu o t...</td>\n",
       "    </tr>\n",
       "  </tbody>\n",
       "</table>\n",
       "</div>"
      ],
      "text/plain": [
       "                                     title  \\\n",
       "0  The_Legend_of_Zelda: _Twilight_Princess   \n",
       "1                     Spectre_ (2015_film)   \n",
       "2                  2008_Sichuan_earthquake   \n",
       "\n",
       "                                          paragraphs  \n",
       "0  [{'qas': [{'question': 'Em que categoria de jo...  \n",
       "1  [{'qas': [{'question': 'Qual empresa fez o Spe...  \n",
       "2  [{'qas': [{'question': 'Em que ano ocorreu o t...  "
      ]
     },
     "execution_count": 50,
     "metadata": {},
     "output_type": "execute_result"
    }
   ],
   "source": [
    "pd.DataFrame(df_json_dois['data'])"
   ]
  },
  {
   "cell_type": "code",
   "execution_count": 55,
   "metadata": {},
   "outputs": [
    {
     "name": "stdout",
     "output_type": "stream",
     "text": [
      "1542\n"
     ]
    }
   ],
   "source": [
    "dicionario = df_json_dois['data']\n",
    "total = 0\n",
    "for i in dicionario:\n",
    "    total += 1\n",
    "    for j in i['paragraphs']:\n",
    "        for k in j['qas']:\n",
    "            total += 1\n",
    "        total += 1\n",
    "print(total)"
   ]
  },
  {
   "cell_type": "markdown",
   "metadata": {},
   "source": [
    "# Merge dataset 1 and 2"
   ]
  },
  {
   "cell_type": "code",
   "execution_count": 51,
   "metadata": {},
   "outputs": [],
   "source": [
    "df_json['data'].append(df_json_dois['data'][0])"
   ]
  },
  {
   "cell_type": "code",
   "execution_count": 52,
   "metadata": {},
   "outputs": [],
   "source": [
    "df_json['data'].append(df_json_dois['data'][1])"
   ]
  },
  {
   "cell_type": "code",
   "execution_count": 53,
   "metadata": {},
   "outputs": [],
   "source": [
    "df_json['data'].append(df_json_dois['data'][2])"
   ]
  },
  {
   "cell_type": "code",
   "execution_count": 59,
   "metadata": {},
   "outputs": [],
   "source": [
    "lixo = df_json['data'].pop(4)"
   ]
  },
  {
   "cell_type": "code",
   "execution_count": 60,
   "metadata": {},
   "outputs": [
    {
     "data": {
      "text/html": [
       "<div>\n",
       "<style scoped>\n",
       "    .dataframe tbody tr th:only-of-type {\n",
       "        vertical-align: middle;\n",
       "    }\n",
       "\n",
       "    .dataframe tbody tr th {\n",
       "        vertical-align: top;\n",
       "    }\n",
       "\n",
       "    .dataframe thead th {\n",
       "        text-align: right;\n",
       "    }\n",
       "</style>\n",
       "<table border=\"1\" class=\"dataframe\">\n",
       "  <thead>\n",
       "    <tr style=\"text-align: right;\">\n",
       "      <th></th>\n",
       "      <th>title</th>\n",
       "      <th>paragraphs</th>\n",
       "    </tr>\n",
       "  </thead>\n",
       "  <tbody>\n",
       "    <tr>\n",
       "      <th>0</th>\n",
       "      <td>Beyoncé</td>\n",
       "      <td>[{'qas': [{'question': 'Quando Beyonce começou...</td>\n",
       "    </tr>\n",
       "    <tr>\n",
       "      <th>1</th>\n",
       "      <td>Frédéric_Chopin</td>\n",
       "      <td>[{'qas': [{'question': 'Quais eram as nacional...</td>\n",
       "    </tr>\n",
       "    <tr>\n",
       "      <th>2</th>\n",
       "      <td>Sino-Tibetan_relations_during_the_Ming_dynasty</td>\n",
       "      <td>[{'qas': [{'question': 'Quem eram Wang Jiawei ...</td>\n",
       "    </tr>\n",
       "    <tr>\n",
       "      <th>3</th>\n",
       "      <td>IPod</td>\n",
       "      <td>[{'qas': [{'question': 'Qual empresa produz o ...</td>\n",
       "    </tr>\n",
       "    <tr>\n",
       "      <th>4</th>\n",
       "      <td>The_Legend_of_Zelda: _Twilight_Princess</td>\n",
       "      <td>[{'qas': [{'question': 'Em que categoria de jo...</td>\n",
       "    </tr>\n",
       "    <tr>\n",
       "      <th>5</th>\n",
       "      <td>Spectre_ (2015_film)</td>\n",
       "      <td>[{'qas': [{'question': 'Qual empresa fez o Spe...</td>\n",
       "    </tr>\n",
       "    <tr>\n",
       "      <th>6</th>\n",
       "      <td>2008_Sichuan_earthquake</td>\n",
       "      <td>[{'qas': [{'question': 'Em que ano ocorreu o t...</td>\n",
       "    </tr>\n",
       "  </tbody>\n",
       "</table>\n",
       "</div>"
      ],
      "text/plain": [
       "                                            title  \\\n",
       "0                                         Beyoncé   \n",
       "1                                 Frédéric_Chopin   \n",
       "2  Sino-Tibetan_relations_during_the_Ming_dynasty   \n",
       "3                                            IPod   \n",
       "4         The_Legend_of_Zelda: _Twilight_Princess   \n",
       "5                            Spectre_ (2015_film)   \n",
       "6                         2008_Sichuan_earthquake   \n",
       "\n",
       "                                          paragraphs  \n",
       "0  [{'qas': [{'question': 'Quando Beyonce começou...  \n",
       "1  [{'qas': [{'question': 'Quais eram as nacional...  \n",
       "2  [{'qas': [{'question': 'Quem eram Wang Jiawei ...  \n",
       "3  [{'qas': [{'question': 'Qual empresa produz o ...  \n",
       "4  [{'qas': [{'question': 'Em que categoria de jo...  \n",
       "5  [{'qas': [{'question': 'Qual empresa fez o Spe...  \n",
       "6  [{'qas': [{'question': 'Em que ano ocorreu o t...  "
      ]
     },
     "execution_count": 60,
     "metadata": {},
     "output_type": "execute_result"
    }
   ],
   "source": [
    "pd.DataFrame(df_json['data'])"
   ]
  },
  {
   "cell_type": "code",
   "execution_count": 61,
   "metadata": {},
   "outputs": [
    {
     "name": "stdout",
     "output_type": "stream",
     "text": [
      "3929\n"
     ]
    }
   ],
   "source": [
    "dicionario = df_json['data']\n",
    "total = 0\n",
    "for i in dicionario:\n",
    "    total += 1\n",
    "    for j in i['paragraphs']:\n",
    "        for k in j['qas']:\n",
    "            total += 1\n",
    "        total += 1\n",
    "print(total)"
   ]
  },
  {
   "cell_type": "markdown",
   "metadata": {},
   "source": [
    "# Open dataset 3"
   ]
  },
  {
   "cell_type": "code",
   "execution_count": 57,
   "metadata": {},
   "outputs": [],
   "source": [
    "with open('./Servidor LSI Versao 4/backup/dataset.json','r') as f:\n",
    "    df_json_tres = json.load(f)"
   ]
  },
  {
   "cell_type": "code",
   "execution_count": 58,
   "metadata": {},
   "outputs": [
    {
     "data": {
      "text/html": [
       "<div>\n",
       "<style scoped>\n",
       "    .dataframe tbody tr th:only-of-type {\n",
       "        vertical-align: middle;\n",
       "    }\n",
       "\n",
       "    .dataframe tbody tr th {\n",
       "        vertical-align: top;\n",
       "    }\n",
       "\n",
       "    .dataframe thead th {\n",
       "        text-align: right;\n",
       "    }\n",
       "</style>\n",
       "<table border=\"1\" class=\"dataframe\">\n",
       "  <thead>\n",
       "    <tr style=\"text-align: right;\">\n",
       "      <th></th>\n",
       "      <th>title</th>\n",
       "      <th>paragraphs</th>\n",
       "    </tr>\n",
       "  </thead>\n",
       "  <tbody>\n",
       "    <tr>\n",
       "      <th>0</th>\n",
       "      <td>2008_Sichuan_earthquake</td>\n",
       "      <td>[{'qas': [{'question': 'Em que ano ocorreu o t...</td>\n",
       "    </tr>\n",
       "    <tr>\n",
       "      <th>1</th>\n",
       "      <td>2008_Sichuan_earthquake</td>\n",
       "      <td>[{'qas': [{'question': 'Em que ano ocorreu o t...</td>\n",
       "    </tr>\n",
       "    <tr>\n",
       "      <th>2</th>\n",
       "      <td>Cidade de Nova York</td>\n",
       "      <td>[{'qas': [{'question': 'Qual cidade nos Estado...</td>\n",
       "    </tr>\n",
       "    <tr>\n",
       "      <th>3</th>\n",
       "      <td>Cidade de Nova York</td>\n",
       "      <td>[{'qas': [{'question': 'Qual cidade nos Estado...</td>\n",
       "    </tr>\n",
       "    <tr>\n",
       "      <th>4</th>\n",
       "      <td>Matar a esperança</td>\n",
       "      <td>[{'qas': [{'question': 'Quando To Kill a Mocki...</td>\n",
       "    </tr>\n",
       "    <tr>\n",
       "      <th>5</th>\n",
       "      <td>Matar a esperança</td>\n",
       "      <td>[{'qas': [{'question': 'Quando To Kill a Mocki...</td>\n",
       "    </tr>\n",
       "    <tr>\n",
       "      <th>6</th>\n",
       "      <td>Energia solar</td>\n",
       "      <td>[{'qas': [{'question': 'De onde vem a energia ...</td>\n",
       "    </tr>\n",
       "    <tr>\n",
       "      <th>7</th>\n",
       "      <td>Energia solar</td>\n",
       "      <td>[{'qas': [{'question': 'De onde vem a energia ...</td>\n",
       "    </tr>\n",
       "    <tr>\n",
       "      <th>8</th>\n",
       "      <td>Kanye_West</td>\n",
       "      <td>[{'qas': [{'question': 'Em que ano Kanye nasce...</td>\n",
       "    </tr>\n",
       "    <tr>\n",
       "      <th>9</th>\n",
       "      <td>Kanye_West</td>\n",
       "      <td>[{'qas': [{'question': 'Em que ano Kanye nasce...</td>\n",
       "    </tr>\n",
       "    <tr>\n",
       "      <th>10</th>\n",
       "      <td>budismo</td>\n",
       "      <td>[{'qas': [{'question': 'Que tipo de religião é...</td>\n",
       "    </tr>\n",
       "  </tbody>\n",
       "</table>\n",
       "</div>"
      ],
      "text/plain": [
       "                      title                                         paragraphs\n",
       "0   2008_Sichuan_earthquake  [{'qas': [{'question': 'Em que ano ocorreu o t...\n",
       "1   2008_Sichuan_earthquake  [{'qas': [{'question': 'Em que ano ocorreu o t...\n",
       "2       Cidade de Nova York  [{'qas': [{'question': 'Qual cidade nos Estado...\n",
       "3       Cidade de Nova York  [{'qas': [{'question': 'Qual cidade nos Estado...\n",
       "4         Matar a esperança  [{'qas': [{'question': 'Quando To Kill a Mocki...\n",
       "5         Matar a esperança  [{'qas': [{'question': 'Quando To Kill a Mocki...\n",
       "6             Energia solar  [{'qas': [{'question': 'De onde vem a energia ...\n",
       "7             Energia solar  [{'qas': [{'question': 'De onde vem a energia ...\n",
       "8                Kanye_West  [{'qas': [{'question': 'Em que ano Kanye nasce...\n",
       "9                Kanye_West  [{'qas': [{'question': 'Em que ano Kanye nasce...\n",
       "10                  budismo  [{'qas': [{'question': 'Que tipo de religião é..."
      ]
     },
     "execution_count": 58,
     "metadata": {},
     "output_type": "execute_result"
    }
   ],
   "source": [
    "pd.DataFrame(df_json_tres['data'])"
   ]
  },
  {
   "cell_type": "code",
   "execution_count": 62,
   "metadata": {},
   "outputs": [],
   "source": [
    "lixo = df_json_tres['data'].pop(1)\n",
    "lixo = df_json_tres['data'].pop(1)\n",
    "lixo = df_json_tres['data'].pop(3)"
   ]
  },
  {
   "cell_type": "code",
   "execution_count": 63,
   "metadata": {},
   "outputs": [
    {
     "data": {
      "text/html": [
       "<div>\n",
       "<style scoped>\n",
       "    .dataframe tbody tr th:only-of-type {\n",
       "        vertical-align: middle;\n",
       "    }\n",
       "\n",
       "    .dataframe tbody tr th {\n",
       "        vertical-align: top;\n",
       "    }\n",
       "\n",
       "    .dataframe thead th {\n",
       "        text-align: right;\n",
       "    }\n",
       "</style>\n",
       "<table border=\"1\" class=\"dataframe\">\n",
       "  <thead>\n",
       "    <tr style=\"text-align: right;\">\n",
       "      <th></th>\n",
       "      <th>title</th>\n",
       "      <th>paragraphs</th>\n",
       "    </tr>\n",
       "  </thead>\n",
       "  <tbody>\n",
       "    <tr>\n",
       "      <th>0</th>\n",
       "      <td>2008_Sichuan_earthquake</td>\n",
       "      <td>[{'qas': [{'question': 'Em que ano ocorreu o t...</td>\n",
       "    </tr>\n",
       "    <tr>\n",
       "      <th>1</th>\n",
       "      <td>Cidade de Nova York</td>\n",
       "      <td>[{'qas': [{'question': 'Qual cidade nos Estado...</td>\n",
       "    </tr>\n",
       "    <tr>\n",
       "      <th>2</th>\n",
       "      <td>Matar a esperança</td>\n",
       "      <td>[{'qas': [{'question': 'Quando To Kill a Mocki...</td>\n",
       "    </tr>\n",
       "    <tr>\n",
       "      <th>3</th>\n",
       "      <td>Energia solar</td>\n",
       "      <td>[{'qas': [{'question': 'De onde vem a energia ...</td>\n",
       "    </tr>\n",
       "    <tr>\n",
       "      <th>4</th>\n",
       "      <td>Energia solar</td>\n",
       "      <td>[{'qas': [{'question': 'De onde vem a energia ...</td>\n",
       "    </tr>\n",
       "    <tr>\n",
       "      <th>5</th>\n",
       "      <td>Kanye_West</td>\n",
       "      <td>[{'qas': [{'question': 'Em que ano Kanye nasce...</td>\n",
       "    </tr>\n",
       "    <tr>\n",
       "      <th>6</th>\n",
       "      <td>Kanye_West</td>\n",
       "      <td>[{'qas': [{'question': 'Em que ano Kanye nasce...</td>\n",
       "    </tr>\n",
       "    <tr>\n",
       "      <th>7</th>\n",
       "      <td>budismo</td>\n",
       "      <td>[{'qas': [{'question': 'Que tipo de religião é...</td>\n",
       "    </tr>\n",
       "  </tbody>\n",
       "</table>\n",
       "</div>"
      ],
      "text/plain": [
       "                     title                                         paragraphs\n",
       "0  2008_Sichuan_earthquake  [{'qas': [{'question': 'Em que ano ocorreu o t...\n",
       "1      Cidade de Nova York  [{'qas': [{'question': 'Qual cidade nos Estado...\n",
       "2        Matar a esperança  [{'qas': [{'question': 'Quando To Kill a Mocki...\n",
       "3            Energia solar  [{'qas': [{'question': 'De onde vem a energia ...\n",
       "4            Energia solar  [{'qas': [{'question': 'De onde vem a energia ...\n",
       "5               Kanye_West  [{'qas': [{'question': 'Em que ano Kanye nasce...\n",
       "6               Kanye_West  [{'qas': [{'question': 'Em que ano Kanye nasce...\n",
       "7                  budismo  [{'qas': [{'question': 'Que tipo de religião é..."
      ]
     },
     "execution_count": 63,
     "metadata": {},
     "output_type": "execute_result"
    }
   ],
   "source": [
    "pd.DataFrame(df_json_tres['data'])"
   ]
  },
  {
   "cell_type": "code",
   "execution_count": 64,
   "metadata": {},
   "outputs": [],
   "source": [
    "lixo = df_json_tres['data'].pop(3)\n",
    "lixo = df_json_tres['data'].pop(4)"
   ]
  },
  {
   "cell_type": "code",
   "execution_count": 65,
   "metadata": {
    "scrolled": true
   },
   "outputs": [
    {
     "data": {
      "text/html": [
       "<div>\n",
       "<style scoped>\n",
       "    .dataframe tbody tr th:only-of-type {\n",
       "        vertical-align: middle;\n",
       "    }\n",
       "\n",
       "    .dataframe tbody tr th {\n",
       "        vertical-align: top;\n",
       "    }\n",
       "\n",
       "    .dataframe thead th {\n",
       "        text-align: right;\n",
       "    }\n",
       "</style>\n",
       "<table border=\"1\" class=\"dataframe\">\n",
       "  <thead>\n",
       "    <tr style=\"text-align: right;\">\n",
       "      <th></th>\n",
       "      <th>title</th>\n",
       "      <th>paragraphs</th>\n",
       "    </tr>\n",
       "  </thead>\n",
       "  <tbody>\n",
       "    <tr>\n",
       "      <th>0</th>\n",
       "      <td>2008_Sichuan_earthquake</td>\n",
       "      <td>[{'qas': [{'question': 'Em que ano ocorreu o t...</td>\n",
       "    </tr>\n",
       "    <tr>\n",
       "      <th>1</th>\n",
       "      <td>Cidade de Nova York</td>\n",
       "      <td>[{'qas': [{'question': 'Qual cidade nos Estado...</td>\n",
       "    </tr>\n",
       "    <tr>\n",
       "      <th>2</th>\n",
       "      <td>Matar a esperança</td>\n",
       "      <td>[{'qas': [{'question': 'Quando To Kill a Mocki...</td>\n",
       "    </tr>\n",
       "    <tr>\n",
       "      <th>3</th>\n",
       "      <td>Energia solar</td>\n",
       "      <td>[{'qas': [{'question': 'De onde vem a energia ...</td>\n",
       "    </tr>\n",
       "    <tr>\n",
       "      <th>4</th>\n",
       "      <td>Kanye_West</td>\n",
       "      <td>[{'qas': [{'question': 'Em que ano Kanye nasce...</td>\n",
       "    </tr>\n",
       "    <tr>\n",
       "      <th>5</th>\n",
       "      <td>budismo</td>\n",
       "      <td>[{'qas': [{'question': 'Que tipo de religião é...</td>\n",
       "    </tr>\n",
       "  </tbody>\n",
       "</table>\n",
       "</div>"
      ],
      "text/plain": [
       "                     title                                         paragraphs\n",
       "0  2008_Sichuan_earthquake  [{'qas': [{'question': 'Em que ano ocorreu o t...\n",
       "1      Cidade de Nova York  [{'qas': [{'question': 'Qual cidade nos Estado...\n",
       "2        Matar a esperança  [{'qas': [{'question': 'Quando To Kill a Mocki...\n",
       "3            Energia solar  [{'qas': [{'question': 'De onde vem a energia ...\n",
       "4               Kanye_West  [{'qas': [{'question': 'Em que ano Kanye nasce...\n",
       "5                  budismo  [{'qas': [{'question': 'Que tipo de religião é..."
      ]
     },
     "execution_count": 65,
     "metadata": {},
     "output_type": "execute_result"
    }
   ],
   "source": [
    "pd.DataFrame(df_json_tres['data'])"
   ]
  },
  {
   "cell_type": "markdown",
   "metadata": {},
   "source": [
    "# Merge dataset 1 and 3"
   ]
  },
  {
   "cell_type": "code",
   "execution_count": 66,
   "metadata": {},
   "outputs": [],
   "source": [
    "lixo = df_json['data'].pop(6)"
   ]
  },
  {
   "cell_type": "code",
   "execution_count": 67,
   "metadata": {},
   "outputs": [],
   "source": [
    "for i in df_json_tres['data']:\n",
    "    df_json['data'].append(i)"
   ]
  },
  {
   "cell_type": "code",
   "execution_count": 68,
   "metadata": {
    "scrolled": true
   },
   "outputs": [
    {
     "data": {
      "text/html": [
       "<div>\n",
       "<style scoped>\n",
       "    .dataframe tbody tr th:only-of-type {\n",
       "        vertical-align: middle;\n",
       "    }\n",
       "\n",
       "    .dataframe tbody tr th {\n",
       "        vertical-align: top;\n",
       "    }\n",
       "\n",
       "    .dataframe thead th {\n",
       "        text-align: right;\n",
       "    }\n",
       "</style>\n",
       "<table border=\"1\" class=\"dataframe\">\n",
       "  <thead>\n",
       "    <tr style=\"text-align: right;\">\n",
       "      <th></th>\n",
       "      <th>title</th>\n",
       "      <th>paragraphs</th>\n",
       "    </tr>\n",
       "  </thead>\n",
       "  <tbody>\n",
       "    <tr>\n",
       "      <th>0</th>\n",
       "      <td>Beyoncé</td>\n",
       "      <td>[{'qas': [{'question': 'Quando Beyonce começou...</td>\n",
       "    </tr>\n",
       "    <tr>\n",
       "      <th>1</th>\n",
       "      <td>Frédéric_Chopin</td>\n",
       "      <td>[{'qas': [{'question': 'Quais eram as nacional...</td>\n",
       "    </tr>\n",
       "    <tr>\n",
       "      <th>2</th>\n",
       "      <td>Sino-Tibetan_relations_during_the_Ming_dynasty</td>\n",
       "      <td>[{'qas': [{'question': 'Quem eram Wang Jiawei ...</td>\n",
       "    </tr>\n",
       "    <tr>\n",
       "      <th>3</th>\n",
       "      <td>IPod</td>\n",
       "      <td>[{'qas': [{'question': 'Qual empresa produz o ...</td>\n",
       "    </tr>\n",
       "    <tr>\n",
       "      <th>4</th>\n",
       "      <td>The_Legend_of_Zelda: _Twilight_Princess</td>\n",
       "      <td>[{'qas': [{'question': 'Em que categoria de jo...</td>\n",
       "    </tr>\n",
       "    <tr>\n",
       "      <th>5</th>\n",
       "      <td>Spectre_ (2015_film)</td>\n",
       "      <td>[{'qas': [{'question': 'Qual empresa fez o Spe...</td>\n",
       "    </tr>\n",
       "    <tr>\n",
       "      <th>6</th>\n",
       "      <td>2008_Sichuan_earthquake</td>\n",
       "      <td>[{'qas': [{'question': 'Em que ano ocorreu o t...</td>\n",
       "    </tr>\n",
       "    <tr>\n",
       "      <th>7</th>\n",
       "      <td>Cidade de Nova York</td>\n",
       "      <td>[{'qas': [{'question': 'Qual cidade nos Estado...</td>\n",
       "    </tr>\n",
       "    <tr>\n",
       "      <th>8</th>\n",
       "      <td>Matar a esperança</td>\n",
       "      <td>[{'qas': [{'question': 'Quando To Kill a Mocki...</td>\n",
       "    </tr>\n",
       "    <tr>\n",
       "      <th>9</th>\n",
       "      <td>Energia solar</td>\n",
       "      <td>[{'qas': [{'question': 'De onde vem a energia ...</td>\n",
       "    </tr>\n",
       "    <tr>\n",
       "      <th>10</th>\n",
       "      <td>Kanye_West</td>\n",
       "      <td>[{'qas': [{'question': 'Em que ano Kanye nasce...</td>\n",
       "    </tr>\n",
       "    <tr>\n",
       "      <th>11</th>\n",
       "      <td>budismo</td>\n",
       "      <td>[{'qas': [{'question': 'Que tipo de religião é...</td>\n",
       "    </tr>\n",
       "  </tbody>\n",
       "</table>\n",
       "</div>"
      ],
      "text/plain": [
       "                                             title  \\\n",
       "0                                          Beyoncé   \n",
       "1                                  Frédéric_Chopin   \n",
       "2   Sino-Tibetan_relations_during_the_Ming_dynasty   \n",
       "3                                             IPod   \n",
       "4          The_Legend_of_Zelda: _Twilight_Princess   \n",
       "5                             Spectre_ (2015_film)   \n",
       "6                          2008_Sichuan_earthquake   \n",
       "7                              Cidade de Nova York   \n",
       "8                                Matar a esperança   \n",
       "9                                    Energia solar   \n",
       "10                                      Kanye_West   \n",
       "11                                         budismo   \n",
       "\n",
       "                                           paragraphs  \n",
       "0   [{'qas': [{'question': 'Quando Beyonce começou...  \n",
       "1   [{'qas': [{'question': 'Quais eram as nacional...  \n",
       "2   [{'qas': [{'question': 'Quem eram Wang Jiawei ...  \n",
       "3   [{'qas': [{'question': 'Qual empresa produz o ...  \n",
       "4   [{'qas': [{'question': 'Em que categoria de jo...  \n",
       "5   [{'qas': [{'question': 'Qual empresa fez o Spe...  \n",
       "6   [{'qas': [{'question': 'Em que ano ocorreu o t...  \n",
       "7   [{'qas': [{'question': 'Qual cidade nos Estado...  \n",
       "8   [{'qas': [{'question': 'Quando To Kill a Mocki...  \n",
       "9   [{'qas': [{'question': 'De onde vem a energia ...  \n",
       "10  [{'qas': [{'question': 'Em que ano Kanye nasce...  \n",
       "11  [{'qas': [{'question': 'Que tipo de religião é...  "
      ]
     },
     "execution_count": 68,
     "metadata": {},
     "output_type": "execute_result"
    }
   ],
   "source": [
    "pd.DataFrame(df_json['data'])"
   ]
  },
  {
   "cell_type": "code",
   "execution_count": 69,
   "metadata": {},
   "outputs": [
    {
     "name": "stdout",
     "output_type": "stream",
     "text": [
      "6043\n"
     ]
    }
   ],
   "source": [
    "dicionario = df_json['data']\n",
    "total = 0\n",
    "for i in dicionario:\n",
    "    total += 1\n",
    "    for j in i['paragraphs']:\n",
    "        for k in j['qas']:\n",
    "            total += 1\n",
    "        total += 1\n",
    "print(total)"
   ]
  },
  {
   "cell_type": "markdown",
   "metadata": {},
   "source": [
    "## Salvando Dataset"
   ]
  },
  {
   "cell_type": "code",
   "execution_count": 71,
   "metadata": {},
   "outputs": [],
   "source": [
    "path = './SQUaD Traduzido'\n",
    "if(not os.path.exists(path)):\n",
    "    os.mkdir(path)"
   ]
  },
  {
   "cell_type": "code",
   "execution_count": 72,
   "metadata": {},
   "outputs": [],
   "source": [
    "with open(path + '/dataset_v1.json','w') as outfile:\n",
    "    json.dump(df_json, outfile, ensure_ascii = False)"
   ]
  },
  {
   "cell_type": "code",
   "execution_count": 11,
   "metadata": {},
   "outputs": [],
   "source": [
    "path = './SQUaD Traduzido/dataset_v1.json'\n",
    "with open(path,'r') as outfile:\n",
    "    a = json.load(outfile)"
   ]
  },
  {
   "cell_type": "code",
   "execution_count": 14,
   "metadata": {},
   "outputs": [
    {
     "data": {
      "text/plain": [
       "[{'question': 'Qual evento nacional fez Beyonce produzir \"Exigir um Plano?\"',\n",
       "  'id': '56bed5983aeaaa14008c94f3',\n",
       "  'answers': [{'text': 'Tiro na escola primária de Sandy Hook',\n",
       "    'answer_start': 280}],\n",
       "  'is_impossible': False},\n",
       " {'question': 'Com que música Beyonce contribuiu para a campanha?',\n",
       "  'id': '56bed5983aeaaa14008c94f4',\n",
       "  'answers': [{'text': 'Eu estive aqui', 'answer_start': 412}],\n",
       "  'is_impossible': False},\n",
       " {'question': 'Beyoncé está contribuindo para qual campanha de doação de alimentos?',\n",
       "  'id': '56bed5983aeaaa14008c94f5',\n",
       "  'answers': [{'text': 'Perca uma refeição', 'answer_start': 1553}],\n",
       "  'is_impossible': False},\n",
       " {'question': 'Em 1 de junho de 2013, onde foi realizado o concerto de \"a Chime for Change\"?',\n",
       "  'id': '56bed5983aeaaa14008c94f6',\n",
       "  'answers': [{'text': 'Londres', 'answer_start': 765}],\n",
       "  'is_impossible': False},\n",
       " {'question': 'Beyoncé estava falando sobre quem quando disse que seu dom era \"encontrar as melhores qualidades em cada ser humano\".',\n",
       "  'id': '56bed5983aeaaa14008c94f7',\n",
       "  'answers': [{'text': 'a mãe dela', 'answer_start': 1277}],\n",
       "  'is_impossible': False},\n",
       " {'question': 'A campanha de vídeo Exija um Plano ocorreu após qual evento trágico?',\n",
       "  'id': '56bfed855a85de14001c7864',\n",
       "  'answers': [{'text': 'Tiro da escola primária de Sandy Hook.',\n",
       "    'answer_start': 280}],\n",
       "  'is_impossible': False},\n",
       " {'question': 'Qual foi o foco da campanha Gucci Chime for Change?',\n",
       "  'id': '56bfed855a85de14001c7866',\n",
       "  'answers': [{'text': 'espalhar o empoderamento feminino',\n",
       "    'answer_start': 616}],\n",
       "  'is_impossible': False},\n",
       " {'question': 'Qual plataforma de crowdfunding foi usada no show?',\n",
       "  'id': '56bfed855a85de14001c7868',\n",
       "  'answers': [{'text': 'Catapulta', 'answer_start': 1409}],\n",
       "  'is_impossible': False},\n",
       " {'question': 'Qual é o nome da campanha em que Beyoncé e outros estão envolvidos que trata do controle de armas?',\n",
       "  'id': '56d4fa2e2ccc5a1400d833ca',\n",
       "  'answers': [{'text': 'Exigir um plano', 'answer_start': 108}],\n",
       "  'is_impossible': False},\n",
       " {'question': 'Que tiroteio em escolas levou à criação do Plano de Demanda A?',\n",
       "  'id': '56d4fa2e2ccc5a1400d833cb',\n",
       "  'answers': [{'text': 'Escola Primária Sandy Hook', 'answer_start': 280}],\n",
       "  'is_impossible': False},\n",
       " {'question': 'Que música Beyoncé doou para a campanha do Dia Mundial Humanitário de 2012?',\n",
       "  'id': '56d4fa2e2ccc5a1400d833cc',\n",
       "  'answers': [{'text': 'Eu estive aqui', 'answer_start': 412}],\n",
       "  'is_impossible': False},\n",
       " {'question': 'Com quem Beyoncé trabalhou em 2013 na campanha Chime for Change?',\n",
       "  'id': '56d4fa2e2ccc5a1400d833cd',\n",
       "  'answers': [{'text': 'Salma Hayek e Frida Giannini', 'answer_start': 533}],\n",
       "  'is_impossible': False},\n",
       " {'question': 'Com quem Beyoncé trabalhou em 2013 na campanha Chime for Change?',\n",
       "  'id': '56d4fa2e2ccc5a1400d833cd',\n",
       "  'answers': [{'text': 'Salma Hayek e Frida Giannini', 'answer_start': 533}],\n",
       "  'is_impossible': False}]"
      ]
     },
     "execution_count": 14,
     "metadata": {},
     "output_type": "execute_result"
    }
   ],
   "source": [
    "a['data'][0]['paragraphs'][66]['qas']"
   ]
  },
  {
   "cell_type": "code",
   "execution_count": null,
   "metadata": {},
   "outputs": [],
   "source": []
  }
 ],
 "metadata": {
  "kernelspec": {
   "display_name": "Python 3",
   "language": "python",
   "name": "python3"
  },
  "language_info": {
   "codemirror_mode": {
    "name": "ipython",
    "version": 3
   },
   "file_extension": ".py",
   "mimetype": "text/x-python",
   "name": "python",
   "nbconvert_exporter": "python",
   "pygments_lexer": "ipython3",
   "version": "3.9.0"
  }
 },
 "nbformat": 4,
 "nbformat_minor": 4
}
