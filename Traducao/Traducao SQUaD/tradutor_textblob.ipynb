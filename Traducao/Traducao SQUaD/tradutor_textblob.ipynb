{
 "cells": [
  {
   "cell_type": "markdown",
   "metadata": {
    "id": "IPGLkah7pT6C"
   },
   "source": [
    "#Instalação de pacotes"
   ]
  },
  {
   "cell_type": "code",
   "execution_count": null,
   "metadata": {
    "colab": {
     "base_uri": "https://localhost:8080/"
    },
    "id": "n3sSrSa4pPWR",
    "outputId": "2814a4cf-c16b-4c26-8861-6fc6a0a6eb13"
   },
   "outputs": [
    {
     "name": "stdout",
     "output_type": "stream",
     "text": [
      "[nltk_data] Downloading package brown to /root/nltk_data...\n",
      "[nltk_data]   Package brown is already up-to-date!\n",
      "[nltk_data] Downloading package punkt to /root/nltk_data...\n",
      "[nltk_data]   Package punkt is already up-to-date!\n",
      "[nltk_data] Downloading package wordnet to /root/nltk_data...\n",
      "[nltk_data]   Package wordnet is already up-to-date!\n",
      "[nltk_data] Downloading package averaged_perceptron_tagger to\n",
      "[nltk_data]     /root/nltk_data...\n",
      "[nltk_data]   Package averaged_perceptron_tagger is already up-to-\n",
      "[nltk_data]       date!\n",
      "[nltk_data] Downloading package conll2000 to /root/nltk_data...\n",
      "[nltk_data]   Package conll2000 is already up-to-date!\n",
      "[nltk_data] Downloading package movie_reviews to /root/nltk_data...\n",
      "[nltk_data]   Package movie_reviews is already up-to-date!\n",
      "Finished.\n"
     ]
    }
   ],
   "source": [
    "!python -m textblob.download_corpora"
   ]
  },
  {
   "cell_type": "markdown",
   "metadata": {
    "id": "L674wxxDpcWg"
   },
   "source": [
    "#Importar pacotes"
   ]
  },
  {
   "cell_type": "code",
   "execution_count": 1,
   "metadata": {
    "id": "fHtSnenypdzJ"
   },
   "outputs": [],
   "source": [
    "from textblob import TextBlob"
   ]
  },
  {
   "cell_type": "markdown",
   "metadata": {
    "id": "GB9RpZ2cq9Iw"
   },
   "source": [
    "#Tradução"
   ]
  },
  {
   "cell_type": "markdown",
   "metadata": {
    "id": "-4jRMuKBq-_I"
   },
   "source": [
    "Exemplo de pergunta"
   ]
  },
  {
   "cell_type": "code",
   "execution_count": 2,
   "metadata": {
    "id": "zEmlgRrMpoUn"
   },
   "outputs": [],
   "source": [
    "pergunta = \"What are the travel restrictions in the European Union?\""
   ]
  },
  {
   "cell_type": "markdown",
   "metadata": {
    "id": "SGzzYdRhrBYq"
   },
   "source": [
    "Texto convertido para o formato TextBlob"
   ]
  },
  {
   "cell_type": "code",
   "execution_count": 3,
   "metadata": {
    "id": "ICj1Nb2Vpyt-"
   },
   "outputs": [],
   "source": [
    "pergunta_blob = TextBlob(pergunta)"
   ]
  },
  {
   "cell_type": "markdown",
   "metadata": {
    "id": "hUaLpMZ6rEh5"
   },
   "source": [
    "Comentário traduzido para Inglês (US)"
   ]
  },
  {
   "cell_type": "code",
   "execution_count": 4,
   "metadata": {
    "id": "G3uzGbFaqeLD"
   },
   "outputs": [],
   "source": [
    "pergunta_blob_br = pergunta_blob.translate(to='pt-br')"
   ]
  },
  {
   "cell_type": "markdown",
   "metadata": {
    "id": "LXRDmvcqP-nm"
   },
   "source": [
    "Imprimir a pergunta traduzida"
   ]
  },
  {
   "cell_type": "code",
   "execution_count": 5,
   "metadata": {
    "colab": {
     "base_uri": "https://localhost:8080/"
    },
    "id": "bsCXSJQsQBQZ",
    "outputId": "79b29fd2-ad59-409a-942c-fb9cd3b194b2"
   },
   "outputs": [
    {
     "name": "stdout",
     "output_type": "stream",
     "text": [
      "Quais são as restrições de viagem na União Europeia?\n"
     ]
    }
   ],
   "source": [
    "print (pergunta_blob_br)"
   ]
  },
  {
   "cell_type": "code",
   "execution_count": null,
   "metadata": {},
   "outputs": [],
   "source": []
  }
 ],
 "metadata": {
  "colab": {
   "name": "tradutor-textblob.ipynb",
   "provenance": []
  },
  "kernelspec": {
   "display_name": "Python 3",
   "language": "python",
   "name": "python3"
  },
  "language_info": {
   "codemirror_mode": {
    "name": "ipython",
    "version": 3
   },
   "file_extension": ".py",
   "mimetype": "text/x-python",
   "name": "python",
   "nbconvert_exporter": "python",
   "pygments_lexer": "ipython3",
   "version": "3.9.0"
  }
 },
 "nbformat": 4,
 "nbformat_minor": 1
}
