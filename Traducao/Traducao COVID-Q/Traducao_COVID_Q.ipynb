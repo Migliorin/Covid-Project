{
 "cells": [
  {
   "cell_type": "code",
   "execution_count": 1,
   "metadata": {},
   "outputs": [],
   "source": [
    "from textblob import TextBlob\n",
    "from pandas import*\n",
    "import os,json,time"
   ]
  },
  {
   "cell_type": "code",
   "execution_count": 6,
   "metadata": {},
   "outputs": [],
   "source": [
    "df = read_csv('./final_master_dataset.csv')\n",
    "\n",
    "df.columns = [i.replace(\" \",\"_\") for i in df.columns.str.lower()]\n",
    "\n",
    "df['category'].fillna('others',inplace=True)\n",
    "\n",
    "df['answers'].fillna('none',inplace=True)\n",
    "\n",
    "df['question'] = [(str(i) + \" ?\").replace('covid','covid-19') for i in df['question']]"
   ]
  },
  {
   "cell_type": "code",
   "execution_count": 19,
   "metadata": {},
   "outputs": [
    {
     "data": {
      "text/plain": [
       "Index(['category', 'question_id', 'question', 'source', 'answers'], dtype='object')"
      ]
     },
     "execution_count": 19,
     "metadata": {},
     "output_type": "execute_result"
    }
   ],
   "source": [
    "df.columns"
   ]
  },
  {
   "cell_type": "code",
   "execution_count": null,
   "metadata": {},
   "outputs": [],
   "source": [
    "def fun_translater(texto):\n",
    "    pergunta_br = []\n",
    "    for pergunta in texto:\n",
    "        loop = True\n",
    "        while(loop):\n",
    "            try:\n",
    "                blob = TextBlob(pergunta)\n",
    "                pergunta_br.append(blob.translate(from_lang='en',to='pt').string)\n",
    "                time.sleep(5)\n",
    "                loop = False # Stop the loop\n",
    "\n",
    "            except:\n",
    "                time.sleep(10)\n",
    "    return pergunta_br\n",
    "\n",
    "if('__main__' == __name__):\n",
    "\n",
    "    df = read_csv('./final_master_dataset.csv')\n",
    "\n",
    "    df.columns = [i.replace(\" \",\"_\") for i in df.columns.str.lower()]\n",
    "\n",
    "    df['category'].fillna('others',inplace=True)\n",
    "\n",
    "    df['answers'].fillna('none',inplace=True)\n",
    "\n",
    "    df['question'] = [(str(i) + \" ?\").replace('covid','covid-19') for i in df['question']]\n",
    "\n",
    "    path = './backup'\n",
    "    if(not os.path.exists(path)):\n",
    "        os.mkdir(path)\n",
    "\n",
    "\n",
    "    pergunta = []\n",
    "    resposta = []\n",
    "\n",
    "    for i in range(0,df.shape[0]):\n",
    "        texto = [str(df['question'].values[i]),str(df['answers'].values[i])]\n",
    "        try:\n",
    "            traduzido = fun_translater(texto)\n",
    "            pergunta.append(traduzido[0])\n",
    "            resposta.append(traduzido[1])\n",
    "            \n",
    "        except:\n",
    "            f = open('output.txt','a')\n",
    "            f.write(\"Traducao parada na posicao %d\\n\"%(i))\n",
    "            f.close()   \n",
    "        \n",
    "        finally:\n",
    "            \n",
    "            with open('./backup/pergunta.json','w') as outfile:\n",
    "                json.dump(pergunta,outfile,ensure_ascii=False)\n",
    "                outfile.close()\n",
    "\n",
    "            with open('./backup/resposta.json','w') as outfile:\n",
    "                json.dump(resposta,outfile,ensure_ascii=False)\n",
    "                outfile.close()\n",
    "\n",
    "            f = open('output.txt','a')\n",
    "            f.write(\"%d de %d\\n\"%(i + 1,df.shape[0]))\n",
    "            f.close()\n",
    "\n",
    "            DataFrame({'pergunta' : pergunta, 'resposta' : resposta}).to_csv('./backup/backup_final_master_dataset.csv',index=False)\n",
    "            \n",
    "    DataFrame({'category' : df['category'], 'pergunta':pergunta, 'resposta': resposta}).to_csv('./final_master_dataset_traduzido.csv',index=False)\n",
    "    f = open('output.txt','a')\n",
    "    f.write(\"Traducao concluida\\n\")\n",
    "    f.close()\n"
   ]
  },
  {
   "cell_type": "code",
   "execution_count": null,
   "metadata": {},
   "outputs": [],
   "source": []
  }
 ],
 "metadata": {
  "kernelspec": {
   "display_name": "Python 3",
   "language": "python",
   "name": "python3"
  },
  "language_info": {
   "codemirror_mode": {
    "name": "ipython",
    "version": 3
   },
   "file_extension": ".py",
   "mimetype": "text/x-python",
   "name": "python",
   "nbconvert_exporter": "python",
   "pygments_lexer": "ipython3",
   "version": "3.9.0"
  }
 },
 "nbformat": 4,
 "nbformat_minor": 4
}
