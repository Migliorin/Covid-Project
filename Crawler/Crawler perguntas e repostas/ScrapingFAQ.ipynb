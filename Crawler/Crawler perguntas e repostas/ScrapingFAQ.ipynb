{
 "cells": [
  {
   "cell_type": "markdown",
   "metadata": {},
   "source": [
    "# Importes"
   ]
  },
  {
   "cell_type": "code",
   "execution_count": 1,
   "metadata": {},
   "outputs": [],
   "source": [
    "from requests import get\n",
    "from bs4 import BeautifulSoup\n",
    "import pandas as pd\n",
    "import slate3k as slate\n",
    "import nltk\n",
    "from lxml import etree\n",
    "from urllib.request import urlopen"
   ]
  },
  {
   "cell_type": "code",
   "execution_count": 2,
   "metadata": {},
   "outputs": [
    {
     "name": "stderr",
     "output_type": "stream",
     "text": [
      "[nltk_data] Downloading package punkt to /home/p1ntsu/nltk_data...\n",
      "[nltk_data]   Package punkt is already up-to-date!\n"
     ]
    },
    {
     "data": {
      "text/plain": [
       "True"
      ]
     },
     "execution_count": 2,
     "metadata": {},
     "output_type": "execute_result"
    }
   ],
   "source": [
    "nltk.download('punkt')"
   ]
  },
  {
   "cell_type": "markdown",
   "metadata": {},
   "source": [
    "# Funções e classes"
   ]
  },
  {
   "cell_type": "code",
   "execution_count": 3,
   "metadata": {},
   "outputs": [],
   "source": [
    "class RequestBeautifulSoup:\n",
    "    def __init__(self,url):\n",
    "        self.url = url\n",
    "        self.intervalos = None\n",
    "        self.perguntas = None\n",
    "        self.respostas = None\n",
    "    \n",
    "    # Request do soup da biblioteza BeautifulSoup\n",
    "    def requestSoup(self):\n",
    "        response = get(self.url)\n",
    "        return BeautifulSoup(response.text, 'html.parser')\n",
    "    \n",
    "    # Intervalos de onde estão as respostas\n",
    "    def getIntervalos(self,listaPrincipal):\n",
    "        intervalos = []\n",
    "        for i in range(len(self.perguntas[1])):\n",
    "            if(i != len(self.perguntas[1])-1):\n",
    "                intervalos.append((self.perguntas[1][i]+1,self.perguntas[1][i+1]))\n",
    "            else:\n",
    "                intervalos.append((self.perguntas[1][i]+1,len(listaPrincipal)))\n",
    "        self.intervalos = intervalos\n",
    "\n",
    "    # Perguntas e suas posições\n",
    "    def getPerguntas(self,soup, chaves = None):\n",
    "        perguntas = []\n",
    "        posi = []\n",
    "        for i in range(len(soup)):\n",
    "            if(\"?\" in soup[i].text):\n",
    "                if(chaves is not None):\n",
    "                    texto = soup[i].text\n",
    "                    for j in chaves:\n",
    "                        texto = texto.replace(j,\"\")\n",
    "                    perguntas.append(texto)\n",
    "                    posi.append(i)\n",
    "                else:\n",
    "                    perguntas.append(soup[i].text)\n",
    "                    posi.append(i)\n",
    "\n",
    "        self.perguntas = [perguntas,posi]\n",
    "    \n",
    "    # Respostas\n",
    "    def getRespostas(self,soup,chaves = None,subs = \"\"):\n",
    "        respostas = []\n",
    "        for i in self.intervalos:\n",
    "            text = \"\"\n",
    "            for j in range(i[0],i[1]):\n",
    "                text += soup[j].text\n",
    "            if(chaves is not None):\n",
    "                for j in chaves:\n",
    "                    text = text.replace(j,subs)\n",
    "                respostas.append(text)\n",
    "            else:\n",
    "                respostas.append(text)\n",
    "        self.respostas = respostas\n",
    "        \n",
    "    def getComparacao(self,first,second):\n",
    "        if(len(first) == len(second)):\n",
    "            return True\n",
    "        else:\n",
    "            return False\n",
    "        \n",
    "    def criarDataframePDF(self,perguntas,respostas,salve = None):\n",
    "        if(salve is not None):    \n",
    "            pd.DataFrame({\"Perguntas\" : perguntas, \"Respostas\" : respostas}).to_csv('./' + salve + '.csv', index= False)\n",
    "        else:\n",
    "            return pd.DataFrame({\"Perguntas\" : perguntas, \"Respostas\" : respostas})\n",
    "    "
   ]
  },
  {
   "cell_type": "code",
   "execution_count": 40,
   "metadata": {},
   "outputs": [],
   "source": [
    "\n",
    "\n",
    "def getXpathWay(url):\n",
    "    response = urlopen(url)\n",
    "    htmlparser = etree.HTMLParser()\n",
    "    return etree.parse(response, htmlparser)\n",
    "        \n",
    "\n",
    "def getPerguntasXpath(soup, chaves = None):\n",
    "    perguntas = []\n",
    "    posi = []\n",
    "    for i in range(len(soup)):\n",
    "        if(\"?\" in soup[i]):\n",
    "            if(chaves is not None):\n",
    "                texto = soup[i]\n",
    "                for j in chaves:\n",
    "                    texto = texto.replace(j,\"\")\n",
    "                perguntas.append(texto)\n",
    "                posi.append(i)\n",
    "            else:\n",
    "                perguntas.append(soup[i])\n",
    "                posi.append(i)\n",
    "                \n",
    "    return [perguntas,posi]\n",
    "                \n",
    "def getPerguntasPDF(soup, chaves = None):\n",
    "    perguntas = []\n",
    "    posi = []\n",
    "    for i in range(len(soup)):\n",
    "        if(\"?\" in soup[i]):\n",
    "            if(chaves is not None):\n",
    "                texto = soup[i]\n",
    "                for j in chaves:\n",
    "                    texto = texto.replace(j,\"\")\n",
    "                perguntas.append(texto)\n",
    "                posi.append(i)\n",
    "            else:\n",
    "                perguntas.append(soup[i])\n",
    "                posi.append(i)\n",
    "    return [perguntas,posi]\n",
    "\n",
    "def getRespostasPDF(soup,intervalos,chaves = None):\n",
    "    respostas = []\n",
    "    for i in intervalos:\n",
    "        text = \"\"\n",
    "        for j in range(i[0],i[1]):\n",
    "            text += soup[j]\n",
    "        if(chaves is not None):\n",
    "            for k in chaves:\n",
    "                text = text.replace(k,\"\")\n",
    "        respostas.append(text)\n",
    "    return respostas\n",
    "\n",
    "# Intervalos de onde estão as respostas\n",
    "def getIntervalos(posicoes,listaPrincipal):\n",
    "    intervalos = []\n",
    "    for i in range(len(posicoes)):\n",
    "        if(i != len(posicoes)-1):\n",
    "            intervalos.append((posicoes[i]+1,posicoes[i+1]))\n",
    "        else:\n",
    "            intervalos.append((posicoes[i]+1,len(listaPrincipal)))\n",
    "    return intervalos\n",
    "\n",
    "def criarDataframePDF(perguntas,respostas,salve = None):\n",
    "    if(salve is not None):    \n",
    "        pd.DataFrame({\"Perguntas\" : perguntas, \"Respostas\" : respostas}).to_csv('./' + salve + '.csv', index= False)\n",
    "    else:\n",
    "        return pd.DataFrame({\"Perguntas\" : perguntas, \"Respostas\" : respostas})"
   ]
  },
  {
   "cell_type": "markdown",
   "metadata": {},
   "source": [
    "# Código"
   ]
  },
  {
   "cell_type": "code",
   "execution_count": 21,
   "metadata": {},
   "outputs": [],
   "source": [
    "with open('./PR.html','r') as f:\n",
    "    objeto_soup_1 = BeautifulSoup(f, 'html.parser')"
   ]
  },
  {
   "cell_type": "code",
   "execution_count": 18,
   "metadata": {},
   "outputs": [],
   "source": [
    "objeto_soup = RequestBeautifulSoup('https://vidasaudavel.einstein.br/covid-19-faq/')\n",
    "soup = objeto_soup.requestSoup()"
   ]
  },
  {
   "cell_type": "code",
   "execution_count": 20,
   "metadata": {
    "scrolled": true
   },
   "outputs": [
    {
     "data": {
      "text/plain": [
       "<!DOCTYPE html>\n",
       " <html lang=\"en\"> <head> <meta charset=\"utf-8\"/> <meta content=\"ie=edge\" http-equiv=\"x-ua-compatible\"/> <meta content=\"width=device-width, initial-scale=1, shrink-to-fit=no\" name=\"viewport\"/> <title>StackPath</title> <style> *{box-sizing: border-box;}*::before, *::after{box-sizing: border-box;}*:focus{outline: none;}html{-moz-osx-font-smoothing: grayscale;-ms-overflow-style: -ms-autohiding-scrollbar;-webkit-font-smoothing: antialiased;font-size: 16px;}body{background-color: #fff;color: #545963;font-family: -apple-system, BlinkMacSystemFont, \"Segoe UI\", \"Roboto\", \"Oxygen\", \"Ubuntu\", \"Cantarell\", \"Fira Sans\", \"Droid Sans\", \"Helvetica Neue\", sans-serif;font-weight: 400;line-height: 1.6;margin: 0;min-width: 20rem;}h1, p{margin: 0;padding: 0;}h1{font-size: 2rem;font-weight: 400;line-height: 1;}h1:not(:last-child){margin-bottom: 3rem;}p{font-size: 1rem;}p:not(:last-child){margin-bottom: 1.5rem;}a{color: #0934a0;text-decoration: none;}a:hover{color: #0934a0;text-decoration: underline;}table{border-collapse: collapse;margin-top: 3rem;width: 100%;}th, td{padding: 0.3125rem 0.3125rem 0 0.3125rem;vertical-align: top;}th:first-child, td:first-child{padding-left: 0;}th:last-child, td:last-child{padding-right: 0;}th{font-size: 0.75rem;font-weight: 400;text-align: left;text-transform: uppercase;}td{font-family: SFMono-Regular, Menlo, Monaco, Consolas, \"Liberation Mono\", \"Courier New\", monospace;font-size: 0.875rem;}td:first-child{word-break: break-all;}form{margin-top: 3rem;text-align: center;}button, input{border-radius: 0.25rem;border: 0.0625rem solid transparent;display: block;font-family: inherit;font-size: 1rem;margin: 0 auto;max-width: 100%;padding: 0.625rem;text-align: center;}input{-moz-appearance: none;-webkit-appearance: none;background: #fff;border-color: #a4a8af;color: #000;margin-top: 1.5rem;width: 12.5rem;}button{-webkit-appearance: button;background: #0934a0;color: #fff;cursor: pointer;font-weight: 700;margin-top: 1rem;width: 6.25rem;}button:hover{background: #080086;color: #fff;}.error{color: #c00;font-size: 0.8125rem;padding-top: 0.3125rem;}.layout{-webkit-box-direction: normal;-webkit-box-orient: vertical;display: -webkit-box;display: flex;flex-flow: column;margin-left: auto;margin-right: auto;max-width: 43.75rem;min-height: 100vh;padding: 4rem 1rem;}.layout__main{margin-bottom: auto;}.layout__footer{margin-top: auto;padding-top: 3rem;text-align: center;}@media(max-width: 767px){h1{font-size: 2rem;}h1:not(:last-child){margin-bottom: 1.5rem;}table, tbody, tr, td{display: block;}table{margin-top: 1.5rem;}thead{display: none;}td{padding: 1.375rem 0 0.625rem 0;position: relative;}td::before{content: attr(data-title);font-family: -apple-system, BlinkMacSystemFont, \"Segoe UI\", \"Roboto\", \"Oxygen\", \"Ubuntu\", \"Cantarell\", \"Fira Sans\", \"Droid Sans\", \"Helvetica Neue\", sans-serif;font-size: 0.75rem;left: 0;position: absolute;text-transform: uppercase;top: 0;}form{margin-top: 1.5rem;}.layout{padding: 2rem 1rem;}}</style> </head> <body> <div class=\"layout\"> <div class=\"layout__main\"> <h1>Access Denied</h1> <p> <strong>vidasaudavel.einstein.br</strong> is using a security service for protection against online attacks. An action has triggered the service and blocked your request. </p> <p> Please try again in a few minutes. If the issue persist, please contact the site owner for further assistance. </p> <table> <thead> <tr> <th>Reference ID</th> <th>IP Address</th> <th>Date and Time</th> </tr> </thead> <tbody> <tr> <td data-title=\"Reference ID\">bb1319e3c54b3cd9d67b7030e4a11e69</td> <td data-title=\"IP Address\">191.189.4.45</td> <td data-title=\"Date and Time\">12/25/2020 06:54 PM UTC</td> </tr> </tbody> </table> </div> <div class=\"layout__footer\"> Protected by <a href=\"https://www.stackpath.com/\" target=\"_blank\">StackPath</a> </div> </div> </body> </html> "
      ]
     },
     "execution_count": 20,
     "metadata": {},
     "output_type": "execute_result"
    }
   ],
   "source": [
    "soup"
   ]
  },
  {
   "cell_type": "code",
   "execution_count": 26,
   "metadata": {
    "scrolled": false
   },
   "outputs": [],
   "source": [
    "#div_soup = objeto_soup_1.find('div', class_= \"post_single__content\")\n",
    "list_soup = objeto_soup_1.find_all('div')\n",
    "#list_soup = div_soup.find_all(['p','ul','il','a','h2','h3','h4'])\n",
    "#list_soup = objeto_soup_1.find_all(['div'])"
   ]
  },
  {
   "cell_type": "code",
   "execution_count": 82,
   "metadata": {},
   "outputs": [],
   "source": [
    "dfs = []\n",
    "for i in ['sp-ea-1885','sp-ea-1886','sp-ea-1887','sp-ea-1888','sp-ea-1889','sp-ea-1896','sp-ea-1961','sp-ea-2061','sp-ea-2062']:\n",
    "    \n",
    "    list_soup_um = objeto_soup_1.find('div',id=i)\n",
    "    list_soup = list_soup_um.find_all(['a','p','ul','li'])\n",
    "    list_soup = [i.text for i in list_soup]\n",
    "    perguntas = getPerguntasPDF(list_soup,['\\xa0','\\n','\\t','\\r'])\n",
    "    intervalos = getIntervalos(perguntas[1],list_soup)\n",
    "    respostas = getRespostasPDF(list_soup,intervalos,['\\t','\\r'])\n",
    "    dfs.append(criarDataframePDF(perguntas[0],respostas))\n",
    "\n",
    "df_result = pd.concat(dfs)"
   ]
  },
  {
   "cell_type": "code",
   "execution_count": 86,
   "metadata": {},
   "outputs": [],
   "source": [
    "df_result.reset_index(drop=True,inplace=True)"
   ]
  },
  {
   "cell_type": "code",
   "execution_count": 87,
   "metadata": {},
   "outputs": [],
   "source": [
    "df_result.to_csv('./vidasaudavel.einstein.br.csv',index=False)"
   ]
  },
  {
   "cell_type": "code",
   "execution_count": 70,
   "metadata": {},
   "outputs": [],
   "source": [
    "list_soup = list_soup_um.find_all(['a','p','ul','li'])"
   ]
  },
  {
   "cell_type": "code",
   "execution_count": 71,
   "metadata": {},
   "outputs": [
    {
     "data": {
      "text/plain": [
       "[<a class=\"collapsed\" data-sptarget=\"#collapse18880\" data-sptoggle=\"spcollapse\" href=\"\"><i class=\"ea-expand-icon fa fa-plus\"></i> É seguro amamentar durante a infecção por coronavírus?</a>,\n",
       " <p>Embora os estudos científicos na área sejam escassos e recentes, ainda não há relatos de transmissão do coronavírus através do leite materno.</p>,\n",
       " <p>A contaminação ocorre principalmente por meio de gotículas geradas por uma pessoa contaminada durante tosse/espirros ou contato com secreções. É importante o uso de máscaras e álcool gel (70%) além de discutir com o seu médico a melhor alternativa neste momento tão delicado.</p>,\n",
       " <p>Fonte: Centers for Disease Control and Prevention (atualizado 21/02/2020)</p>,\n",
       " <a class=\"collapsed\" data-sptarget=\"#collapse18881\" data-sptoggle=\"spcollapse\" href=\"\"><i class=\"ea-expand-icon fa fa-plus\"></i> Posso passar o coronavírus para o meu filho durante o parto?</a>,\n",
       " <p>Ainda não conseguimos afirmar sobre o potencial de transmissão vertical do coronavírus (antes, durante ou depois do parto). Dos poucos relatos científicos que existem sobre o coronavírus que causa COVID-19, nenhum dos recém-nascidos de mães doentes apresentaram o vírus - que não foi encontrado no líquido amniótico ou no leite materno.</p>,\n",
       " <p>A contaminação ocorre principalmente por meio de gotículas geradas por uma pessoa contaminada durante tosse/espirros ou contato com secreções. É importante o uso de máscaras e álcool gel (70%) além de discutir com o seu médico a melhor alternativa neste momento tão delicado.</p>,\n",
       " <p>Fonte: Centers for Disease Control and Prevention (atualizado 21/02/2020)</p>,\n",
       " <a class=\"collapsed\" data-sptarget=\"#collapse18882\" data-sptoggle=\"spcollapse\" href=\"\"><i class=\"ea-expand-icon fa fa-plus\"></i> Gestantes podem transmitir o vírus para o bebê? </a>,\n",
       " <p>Ainda não conseguimos afirmar sobre o potencial de transmissão do novo coronavírus de mãe para o feto. Até o momento nenhum bebê de mãe doente apresentou o vírus. Também não foi identificado o vírus no líquido amniótico.</p>,\n",
       " <a class=\"collapsed\" data-sptarget=\"#collapse18883\" data-sptoggle=\"spcollapse\" href=\"\"><i class=\"ea-expand-icon fa fa-plus\"></i> Lactante com suspeita da doença pode amamentar?</a>,\n",
       " <p>As informações são escassas, mas até o momento não se detectou a presença de vírus no leito materno e nem a contaminação de bebês por esta via. Vale lembrar, porém, que a transmissão ocorre em pacientes com sintomas por meio de secreções das vias áreas. O uso de máscara cirúrgica e a higiene das mãos para contato com o bebê são medidas importantes para diminuir as chances de contágio.</p>,\n",
       " <a class=\"collapsed\" data-sptarget=\"#collapse18884\" data-sptoggle=\"spcollapse\" href=\"\"><i class=\"ea-expand-icon fa fa-plus\"></i> Ouvi sobre casos de recém-nascidos que testaram positivo para COVID-19. Como isso aconteceu?</a>,\n",
       " <p>Estudos existentes hoje mostram que o vírus não é capaz de ser transmitido durante a gravidez (da mãe para o bebê, de forma vertical) ou no momento do parto. Assim, acredita-se que os recém-nascidos tenham se infectados pela tosse, espirro ou contato próximo com a mãe, após o nascimento.</p>,\n",
       " <a class=\"collapsed\" data-sptarget=\"#collapse18885\" data-sptoggle=\"spcollapse\" href=\"\"><i class=\"ea-expand-icon fa fa-plus\"></i> Grávidas correm risco maior?</a>,\n",
       " <p>Sim. Embora ainda não existam dados suficientes para concluir que a infecção pelo novo coronavírus apresente maior gravidade neste grupo, as infecções respiratórias causadas por agentes infecciosos, como influenza, têm gravidade maior quando afetam mulheres na gestação. Gestantes apresentam alterações no seu sistema imunológico (de defesa de infecções) bem como do funcionamento de seus órgãos.</p>,\n",
       " <a class=\"collapsed\" data-sptarget=\"#collapse18886\" data-sptoggle=\"spcollapse\" href=\"\"><i class=\"ea-expand-icon fa fa-plus\"></i> Posso mandar meu filho para escola?</a>,\n",
       " <p>A partir de 13 de março de 2020, o Governo do Estado de São Paulo instituiu a suspensão das aulas na rede pública e privada - a partir de 23 de março de 2020. Porém, na semana entre 13 e 23 de março, as crianças e adolescentes que não frequentarem a escola, não receberão falta. Além disso, é importante que essas crianças e adolescentes não fiquem sob a supervisão de um adulto com mais de 55 anos de idade. A partir de 23 de março, as aulas estão efetivamente suspensas.</p>,\n",
       " <a class=\"collapsed\" data-sptarget=\"#collapse18887\" data-sptoggle=\"spcollapse\" href=\"\"><i class=\"ea-expand-icon fa fa-plus\"></i> Quais medidas os pais e responsáveis devem e podem pedir para as escolas adotarem?</a>,\n",
       " <p>Se compatível com a idade, os pais ou responsáveis podem manter o aprendizado da criança on-line, seguindo as orientações da escola.</p>,\n",
       " <a class=\"collapsed\" data-sptarget=\"#collapse18888\" data-sptoggle=\"spcollapse\" href=\"\"><i class=\"ea-expand-icon fa fa-plus\"></i> Parques, praças, clubes etc. estão liberados com crianças?</a>,\n",
       " <p>Atividades ao ar livre não são proibidas, pois mantendo as crianças afastadas de outras crianças e adultos, não representam risco de contágio elevado.</p>,\n",
       " <a class=\"collapsed\" data-sptarget=\"#collapse18889\" data-sptoggle=\"spcollapse\" href=\"\"><i class=\"ea-expand-icon fa fa-plus\"></i> O que posso fazer para proteger meu/minha filho(a) e evitar a propagação da doença? Como devo orientá-lo(a)?</a>,\n",
       " <p>As crianças devem seguir as mesmas orientações da população em geral: evitar festas, aglomerações, contato com outras crianças e adultos potencialmente doentes. Além da lavagem das mãos com água e sabão ou álcool gel 70%.</p>,\n",
       " <a class=\"collapsed\" data-sptarget=\"#collapse188810\" data-sptoggle=\"spcollapse\" href=\"\"><i class=\"ea-expand-icon fa fa-plus\"></i> Como o organismo da gestante reage diante da COVID-19?</a>,\n",
       " <p>O organismo da gestante responde de forma muito semelhante as mulheres que não estão grávidas. Em geral são pneumonias com padrão viral muito parecidos com a população geral e os relatos na literatura médica nos mostram que a probabilidade de gravidade é muito baixa.</p>,\n",
       " <p>A doença parece não impactar na hora do parto e na saúde do bebe. Estes são dados preliminares e animadores.</p>,\n",
       " <a class=\"collapsed\" data-sptarget=\"#collapse188811\" data-sptoggle=\"spcollapse\" href=\"\"><i class=\"ea-expand-icon fa fa-plus\"></i> Quais cuidados as gestantes devem tomar?</a>,\n",
       " <p>As gestantes devem tomar os mesmos cuidados da população geral. Nesse contexto, devemos pedir que as gestantes fiquem em casa (isolamento social), evitem ir ao pronto atendimento desnecessariamente, evitar contato com pessoas doentes, lavar as mãos com frequências.</p>,\n",
       " <a class=\"collapsed\" data-sptarget=\"#collapse188812\" data-sptoggle=\"spcollapse\" href=\"\"><i class=\"ea-expand-icon fa fa-plus\"></i> Caso a gestante sinta os sintomas do novo coronavírus, como deve proceder?</a>,\n",
       " <p>Sintomas gripais leves como febre, dores no corpo, tosse seca, coriza devem permanecer em casa em isolamento. As gestantes devem comunicar seu médico obstetra dos sintomas e serem monitorizadas. O aparecimento de falta de ar deve motivar a ida ao pronto atendimento.</p>,\n",
       " <a class=\"collapsed\" data-sptarget=\"#collapse188813\" data-sptoggle=\"spcollapse\" href=\"\"><i class=\"ea-expand-icon fa fa-plus\"></i> Crianças são “menos” vulneráveis ao novo coronavírus? Como afeta as crianças?</a>,\n",
       " <p>Há poucos relatos de doenças graves em crianças e adolescentes. Isso não significa que elas são menos vulneráveis, porém têm uma chance menor de gravidade.</p>,\n",
       " <a class=\"collapsed\" data-sptarget=\"#collapse188814\" data-sptoggle=\"spcollapse\" href=\"\"><i class=\"ea-expand-icon fa fa-plus\"></i> Quais os principais sintomas da doença em bebês e crianças?</a>,\n",
       " <p>Em crianças, os sintomas são parecidos com os do adulto: tosse seca, febre que pode ser alta (maior que 38,5ºC), coriza. A falta de ar também pode surgir nos pequenos. Nas crianças que ainda não sabem se comunicar adequadamente, é muito importante prestar atenção em sinais de desconforto respiratório, como frequência respiratória aumentada, dificuldade de falar, sinais de que a criança está fazendo força para respirar. Nesses cenários, ela deve ser levada imediatamente para o pronto atendimento. Lembre-se de sempre comunicar o pediatra para a melhor tomada de decisão.</p>,\n",
       " <a class=\"collapsed\" data-sptarget=\"#collapse188815\" data-sptoggle=\"spcollapse\" href=\"\"><i class=\"ea-expand-icon fa fa-plus\"></i> Crianças podem tomar a vacina contra a gripe a partir de qual idade?</a>,\n",
       " <p>A partir dos 6 meses de idade.</p>,\n",
       " <a class=\"collapsed\" data-sptarget=\"#collapse188816\" data-sptoggle=\"spcollapse\" href=\"\"><i class=\"ea-expand-icon fa fa-plus\"></i> Posso passar álcool gel na mão de recém-nascidos e crianças?</a>,\n",
       " <p>As crianças podem ter suas mãos higienizadas com álcool gel 70%, sim, porém deve-se prestar atenção para eles não levarem a mão aos olhos ou à boca até o produto evaporar.</p>,\n",
       " <a class=\"collapsed\" data-sptarget=\"#collapse188817\" data-sptoggle=\"spcollapse\" href=\"\"><i class=\"ea-expand-icon fa fa-plus\"></i> Quais devem ser os cuidados com os bebês?</a>,\n",
       " <p>Sempre manipular os bebês com as mãos limpas (lavar com água e sabão ou álcool gel antes e depois de mexer no bebê). Se a mãe e/ou a cuidadora estiverem com sintomas gripais, verificar a possibilidade de outra pessoa realizar os cuidados com a criança. E na ausência desta possibilidade, reforçar a prática de higiene das mãos e usar máscara cirúrgica quando manipular a criança.</p>,\n",
       " <a class=\"collapsed\" data-sptarget=\"#collapse188818\" data-sptoggle=\"spcollapse\" href=\"\"><i class=\"ea-expand-icon fa fa-plus\"></i> Para bebês, visitas da família podem acontecer normalmente?</a>,\n",
       " <p>Não, neste momento sugerimos fortemente que seja praticado o isolamento social. Visitas não devem ser encorajadas.</p>,\n",
       " <a class=\"collapsed\" data-sptarget=\"#collapse188819\" data-sptoggle=\"spcollapse\" href=\"\"><i class=\"ea-expand-icon fa fa-plus\"></i> Como ajudar adultos e crianças com o transtorno do espectro autista?</a>,\n",
       " <p>Se você está cuidando de uma criança ou membro da família com o transtorno do espectro autista, é importante conversar com eles sobre o novo coronavírus para garantir que eles tenham as informações necessárias.</p>,\n",
       " <p>Lembre-se de que as mudanças nas rotinas diárias podem causar grande ansiedade. Você pode apoiá-los, no entanto, para facilitar o impacto de qualquer alteração, seja devido ao autoisolamento ou devido ao fechamento de eventos, locais de trabalho ou escolas.</p>,\n",
       " <p>Se possível, ajude-os a salvaguardar suas rotinas. Mantenha uma rotina diária em casa. Crie um cronograma visual com a nova rotina adotada.</p>,\n",
       " <p>É verdade que crianças e jovens precisam de estímulo estruturado e contínuo. Busque em conjunto com a equipe de terapeutas formas de atendimento remoto, se possível.</p>,\n",
       " <p>E vale a pena reforçar: intensifique as práticas de higiente!</p>,\n",
       " <a class=\"collapsed\" data-sptarget=\"#collapse188820\" data-sptoggle=\"spcollapse\" href=\"\"><i class=\"ea-expand-icon fa fa-plus\"></i> Uma vez que a criança seja diagnosticada com o novo coronavírus, é recomendável que um dos pais ou responsáveis se isolem para não correr o risco de os dois pegarem ao mesmo tempo?</a>,\n",
       " <p>É muito importante evitar visitas de outros familiares para a criança com diagnóstico de novo coronavírus, principalmente os idosos e portadores de doenças crônicas. Se for possível, a criança deve permanecer em um quarto isolado, recebendo refeições neste quarto, usando máscara cirúrgica quando estiver mais próximo de algum familiar na casa, evitando abraços e beijos. Se a criança não puder usar máscara cirúrgica, os pais devem utilizá-la quando estiverem a menos de 2 metros de distância. Sabemos que é muito difícil seguir estas recomendações, mas é importante. Reforçamos também a prática de higiene das mãos após contato com a criança e as superfícies.</p>,\n",
       " <a class=\"collapsed\" data-sptarget=\"#collapse188821\" data-sptoggle=\"spcollapse\" href=\"\"><i class=\"ea-expand-icon fa fa-plus\"></i> Se a grande maioria das crianças é assintomática, como saber se um nariz escorrendo ou uma febre abaixo de 38ºC pode ser o novo coronavírus? Preciso realizar o teste no meu filho?</a>,\n",
       " <p>É muito importante consultar o pediatra da criança para compartilhar os sinais e sintomas de uma suspeita para a tomada de decisão. Lembrando que temos outros vírus respiratórios, além do novo coronavírus. Atualmente, devido à escassez do teste, existe a priorização para pacientes internados com certa gravidade, não havendo necessidade do teste em sintomas leves.</p>,\n",
       " <a class=\"collapsed\" data-sptarget=\"#collapse188822\" data-sptoggle=\"spcollapse\" href=\"\"><i class=\"ea-expand-icon fa fa-plus\"></i> Como lidar com crianças durante o isolamento social?</a>,\n",
       " <p>É importante informar as crianças utilizando uma linguagem simples, de acordo com sua idade e nível de compreensão. Elas precisam entender o cenário atual para conseguir lidar melhor com o fato de não poderem sair de casa e ver seus amigos e avós, por exemplo. Se tiverem preocupações ou questionamentos, deixem que expressem seus sentimentos, isso pode ajudar a diminuir a ansiedade.</p>,\n",
       " <p>É importante que os pais mantenham uma rotina para as crianças em que consigam organizar melhor seu tempo entre estudar, ajudar nas demandas da casa e brincar. Este é um momento para ensinar sobre consciência social.</p>,\n",
       " <p>Este momento de pandemia e isolamento social deixa as pessoas mais ansiosas, mas também pode ser uma oportunidade de maior convivência entre pais e filhos, podendo resgatar relações que no dia a dia se perdem pela correria e pelas demandas eletrônicas. Invente brincadeiras, faça videochamadas com os avós, conheça melhor as necessidades de seus filhos.</p>]"
      ]
     },
     "execution_count": 71,
     "metadata": {},
     "output_type": "execute_result"
    }
   ],
   "source": [
    "list_soup"
   ]
  },
  {
   "cell_type": "code",
   "execution_count": 8,
   "metadata": {
    "scrolled": true
   },
   "outputs": [],
   "source": [
    "list_soup = list_soup[0].find_all(['div'])"
   ]
  },
  {
   "cell_type": "code",
   "execution_count": 173,
   "metadata": {},
   "outputs": [],
   "source": [
    "list_soup = list_soup[22:]"
   ]
  },
  {
   "cell_type": "code",
   "execution_count": 135,
   "metadata": {},
   "outputs": [],
   "source": [
    "text = \"\"\n",
    "for i in list_soup:\n",
    "    #print(i.text)\n",
    "    text += i.text"
   ]
  },
  {
   "cell_type": "code",
   "execution_count": 72,
   "metadata": {},
   "outputs": [],
   "source": [
    "list_soup = [i.text for i in list_soup]"
   ]
  },
  {
   "cell_type": "code",
   "execution_count": 73,
   "metadata": {},
   "outputs": [
    {
     "data": {
      "text/plain": [
       "[' É seguro amamentar durante a infecção por coronavírus?',\n",
       " 'Embora os estudos científicos na área sejam escassos e recentes, ainda não há relatos de transmissão do coronavírus através do leite materno.',\n",
       " 'A contaminação ocorre principalmente por meio de gotículas geradas por uma pessoa contaminada durante tosse/espirros ou contato com secreções. É importante o uso de máscaras e álcool gel (70%) além de discutir com o seu médico a melhor alternativa neste momento tão delicado.',\n",
       " 'Fonte: Centers for Disease Control and Prevention (atualizado 21/02/2020)',\n",
       " ' Posso passar o coronavírus para o meu filho durante o parto?',\n",
       " 'Ainda não conseguimos afirmar sobre o potencial de transmissão vertical do coronavírus (antes, durante ou depois do parto). Dos poucos relatos científicos que existem sobre o coronavírus que causa COVID-19, nenhum dos recém-nascidos de mães doentes apresentaram o vírus - que não foi encontrado no líquido amniótico ou no leite materno.',\n",
       " 'A contaminação ocorre principalmente por meio de gotículas geradas por uma pessoa contaminada durante tosse/espirros ou contato com secreções. É importante o uso de máscaras e álcool gel (70%) além de discutir com o seu médico a melhor alternativa neste momento tão delicado.',\n",
       " 'Fonte: Centers for Disease Control and Prevention (atualizado 21/02/2020)',\n",
       " ' Gestantes podem transmitir o vírus para o bebê? ',\n",
       " 'Ainda não conseguimos afirmar sobre o potencial de transmissão do novo coronavírus de mãe para o feto. Até o momento nenhum bebê de mãe doente apresentou o vírus. Também não foi identificado o vírus no líquido amniótico.',\n",
       " ' Lactante com suspeita da doença pode amamentar?',\n",
       " 'As informações são escassas, mas até o momento não se detectou a presença de vírus no leito materno e nem a contaminação de bebês por esta via. Vale lembrar, porém, que a transmissão ocorre em pacientes com sintomas por meio de secreções das vias áreas. O uso de máscara cirúrgica e a higiene das mãos para contato com o bebê são medidas importantes para diminuir as chances de contágio.',\n",
       " ' Ouvi sobre casos de recém-nascidos que testaram positivo para COVID-19. Como isso aconteceu?',\n",
       " 'Estudos existentes hoje mostram que o vírus não é capaz de ser transmitido durante a gravidez (da mãe para o bebê, de forma vertical) ou no momento do parto. Assim, acredita-se que os recém-nascidos tenham se infectados pela tosse, espirro ou contato próximo com a mãe, após o nascimento.',\n",
       " ' Grávidas correm risco maior?',\n",
       " 'Sim. Embora ainda não existam dados suficientes para concluir que a infecção pelo novo coronavírus apresente maior gravidade neste grupo, as infecções respiratórias causadas por agentes infecciosos, como influenza, têm gravidade maior quando afetam mulheres na gestação. Gestantes apresentam alterações no seu sistema imunológico (de defesa de infecções) bem como do funcionamento de seus órgãos.',\n",
       " ' Posso mandar meu filho para escola?',\n",
       " 'A partir de 13 de março de 2020, o Governo do Estado de São Paulo instituiu a suspensão das aulas na rede pública e privada - a partir de 23 de março de 2020. Porém, na semana entre 13 e 23 de março, as crianças e adolescentes que não frequentarem a escola, não receberão falta. Além disso, é importante que essas crianças e adolescentes não fiquem sob a supervisão de um adulto com mais de 55 anos de idade. A partir de 23 de março, as aulas estão efetivamente suspensas.',\n",
       " ' Quais medidas os pais e responsáveis devem e podem pedir para as escolas adotarem?',\n",
       " 'Se compatível com a idade, os pais ou responsáveis podem manter o aprendizado da criança on-line, seguindo as orientações da escola.',\n",
       " ' Parques, praças, clubes etc. estão liberados com crianças?',\n",
       " 'Atividades ao ar livre não são proibidas, pois mantendo as crianças afastadas de outras crianças e adultos, não representam risco de contágio elevado.',\n",
       " ' O que posso fazer para proteger meu/minha filho(a) e evitar a propagação da doença? Como devo orientá-lo(a)?',\n",
       " 'As crianças devem seguir as mesmas orientações da população em geral: evitar festas, aglomerações, contato com outras crianças e adultos potencialmente doentes. Além da lavagem das mãos com água e sabão ou álcool gel 70%.',\n",
       " ' Como o organismo da gestante reage diante da COVID-19?',\n",
       " 'O organismo da gestante responde de forma muito semelhante as mulheres que não estão grávidas. Em geral são pneumonias com padrão viral muito parecidos com a população geral e os relatos na literatura médica nos mostram que a probabilidade de gravidade é muito baixa.',\n",
       " 'A doença parece não impactar na hora do parto e na saúde do bebe. Estes são dados preliminares e animadores.',\n",
       " ' Quais cuidados as gestantes devem tomar?',\n",
       " 'As gestantes devem tomar os mesmos cuidados da população geral. Nesse contexto, devemos pedir que as gestantes fiquem em casa (isolamento social), evitem ir ao pronto atendimento desnecessariamente, evitar contato com pessoas doentes, lavar as mãos com frequências.',\n",
       " ' Caso a gestante sinta os sintomas do novo coronavírus, como deve proceder?',\n",
       " 'Sintomas gripais leves como febre, dores no corpo, tosse seca, coriza devem permanecer em casa em isolamento. As gestantes devem comunicar seu médico obstetra dos sintomas e serem monitorizadas. O aparecimento de falta de ar deve motivar a ida ao pronto atendimento.',\n",
       " ' Crianças são “menos” vulneráveis ao novo coronavírus? Como afeta as crianças?',\n",
       " 'Há poucos relatos de doenças graves em crianças e adolescentes. Isso não significa que elas são menos vulneráveis, porém têm uma chance menor de gravidade.',\n",
       " ' Quais os principais sintomas da doença em bebês e crianças?',\n",
       " 'Em crianças, os sintomas são parecidos com os do adulto: tosse seca, febre que pode ser alta (maior que 38,5ºC), coriza. A falta de ar também pode surgir nos pequenos. Nas crianças que ainda não sabem se comunicar adequadamente, é muito importante prestar atenção em sinais de desconforto respiratório, como frequência respiratória aumentada, dificuldade de falar, sinais de que a criança está fazendo força para respirar. Nesses cenários, ela deve ser levada imediatamente para o pronto atendimento. Lembre-se de sempre comunicar o pediatra para a melhor tomada de decisão.',\n",
       " ' Crianças podem tomar a vacina contra a gripe a partir de qual idade?',\n",
       " 'A partir dos 6 meses de idade.',\n",
       " ' Posso passar álcool gel na mão de recém-nascidos e crianças?',\n",
       " 'As crianças podem ter suas mãos higienizadas com álcool gel 70%, sim, porém deve-se prestar atenção para eles não levarem a mão aos olhos ou à boca até o produto evaporar.',\n",
       " ' Quais devem ser os cuidados com os bebês?',\n",
       " 'Sempre manipular os bebês com as mãos limpas (lavar com água e sabão ou álcool gel antes e depois de mexer no bebê). Se a mãe e/ou a cuidadora estiverem com sintomas gripais, verificar a possibilidade de outra pessoa realizar os cuidados com a criança. E na ausência desta possibilidade, reforçar a prática de higiene das mãos e usar máscara cirúrgica quando manipular a criança.',\n",
       " ' Para bebês, visitas da família podem acontecer normalmente?',\n",
       " 'Não, neste momento sugerimos fortemente que seja praticado o isolamento social. Visitas não devem ser encorajadas.',\n",
       " ' Como ajudar adultos e crianças com o transtorno do espectro autista?',\n",
       " 'Se você está cuidando de uma criança ou membro da família com o transtorno do espectro autista, é importante conversar com eles sobre o novo coronavírus para garantir que eles tenham as informações necessárias.',\n",
       " 'Lembre-se de que as mudanças nas rotinas diárias podem causar grande ansiedade. Você pode apoiá-los, no entanto, para facilitar o impacto de qualquer alteração, seja devido ao autoisolamento ou devido ao fechamento de eventos, locais de trabalho ou escolas.',\n",
       " 'Se possível, ajude-os a salvaguardar suas rotinas. Mantenha uma rotina diária em casa. Crie um cronograma visual com a nova rotina adotada.',\n",
       " 'É verdade que crianças e jovens precisam de estímulo estruturado e contínuo. Busque em conjunto com a equipe de terapeutas formas de atendimento remoto, se possível.',\n",
       " 'E vale a pena reforçar: intensifique as práticas de higiente!',\n",
       " ' Uma vez que a criança seja diagnosticada com o novo coronavírus, é recomendável que um dos pais ou responsáveis se isolem para não correr o risco de os dois pegarem ao mesmo tempo?',\n",
       " 'É muito importante evitar visitas de outros familiares para a criança com diagnóstico de novo coronavírus, principalmente os idosos e portadores de doenças crônicas. Se for possível, a criança deve permanecer em um quarto isolado, recebendo refeições neste quarto, usando máscara cirúrgica quando estiver mais próximo de algum familiar na casa, evitando abraços e beijos. Se a criança não puder usar máscara cirúrgica, os pais devem utilizá-la quando estiverem a menos de 2 metros de distância. Sabemos que é muito difícil seguir estas recomendações, mas é importante. Reforçamos também a prática de higiene das mãos após contato com a criança e as superfícies.',\n",
       " ' Se a grande maioria das crianças é assintomática, como saber se um nariz escorrendo ou uma febre abaixo de 38ºC pode ser o novo coronavírus? Preciso realizar o teste no meu filho?',\n",
       " 'É muito importante consultar o pediatra da criança para compartilhar os sinais e sintomas de uma suspeita para a tomada de decisão. Lembrando que temos outros vírus respiratórios, além do novo coronavírus. Atualmente, devido à escassez do teste, existe a priorização para pacientes internados com certa gravidade, não havendo necessidade do teste em sintomas leves.',\n",
       " ' Como lidar com crianças durante o isolamento social?',\n",
       " 'É importante informar as crianças utilizando uma linguagem simples, de acordo com sua idade e nível de compreensão. Elas precisam entender o cenário atual para conseguir lidar melhor com o fato de não poderem sair de casa e ver seus amigos e avós, por exemplo. Se tiverem preocupações ou questionamentos, deixem que expressem seus sentimentos, isso pode ajudar a diminuir a ansiedade.',\n",
       " 'É importante que os pais mantenham uma rotina para as crianças em que consigam organizar melhor seu tempo entre estudar, ajudar nas demandas da casa e brincar. Este é um momento para ensinar sobre consciência social.',\n",
       " 'Este momento de pandemia e isolamento social deixa as pessoas mais ansiosas, mas também pode ser uma oportunidade de maior convivência entre pais e filhos, podendo resgatar relações que no dia a dia se perdem pela correria e pelas demandas eletrônicas. Invente brincadeiras, faça videochamadas com os avós, conheça melhor as necessidades de seus filhos.']"
      ]
     },
     "execution_count": 73,
     "metadata": {},
     "output_type": "execute_result"
    }
   ],
   "source": [
    "list_soup"
   ]
  },
  {
   "cell_type": "code",
   "execution_count": 125,
   "metadata": {},
   "outputs": [],
   "source": [
    "list_soup = [i for i in text.split('\\n') if i != ' ' or i != '']"
   ]
  },
  {
   "cell_type": "code",
   "execution_count": 74,
   "metadata": {},
   "outputs": [],
   "source": [
    "perguntas = getPerguntasPDF(list_soup,['\\xa0','\\n','\\t','\\r'])"
   ]
  },
  {
   "cell_type": "code",
   "execution_count": 75,
   "metadata": {},
   "outputs": [],
   "source": [
    "intervalos = getIntervalos(perguntas[1],list_soup)"
   ]
  },
  {
   "cell_type": "code",
   "execution_count": 76,
   "metadata": {},
   "outputs": [],
   "source": [
    "respostas = getRespostasPDF(list_soup,intervalos,['\\t','\\r'])"
   ]
  },
  {
   "cell_type": "code",
   "execution_count": 77,
   "metadata": {},
   "outputs": [
    {
     "data": {
      "text/plain": [
       "True"
      ]
     },
     "execution_count": 77,
     "metadata": {},
     "output_type": "execute_result"
    }
   ],
   "source": [
    "len(perguntas[0]) == len(respostas)"
   ]
  },
  {
   "cell_type": "code",
   "execution_count": 78,
   "metadata": {},
   "outputs": [
    {
     "data": {
      "text/html": [
       "<div>\n",
       "<style scoped>\n",
       "    .dataframe tbody tr th:only-of-type {\n",
       "        vertical-align: middle;\n",
       "    }\n",
       "\n",
       "    .dataframe tbody tr th {\n",
       "        vertical-align: top;\n",
       "    }\n",
       "\n",
       "    .dataframe thead th {\n",
       "        text-align: right;\n",
       "    }\n",
       "</style>\n",
       "<table border=\"1\" class=\"dataframe\">\n",
       "  <thead>\n",
       "    <tr style=\"text-align: right;\">\n",
       "      <th></th>\n",
       "      <th>Perguntas</th>\n",
       "      <th>Respostas</th>\n",
       "    </tr>\n",
       "  </thead>\n",
       "  <tbody>\n",
       "    <tr>\n",
       "      <th>0</th>\n",
       "      <td>É seguro amamentar durante a infecção por cor...</td>\n",
       "      <td>Embora os estudos científicos na área sejam es...</td>\n",
       "    </tr>\n",
       "    <tr>\n",
       "      <th>1</th>\n",
       "      <td>Posso passar o coronavírus para o meu filho d...</td>\n",
       "      <td>Ainda não conseguimos afirmar sobre o potencia...</td>\n",
       "    </tr>\n",
       "    <tr>\n",
       "      <th>2</th>\n",
       "      <td>Gestantes podem transmitir o vírus para o bebê?</td>\n",
       "      <td>Ainda não conseguimos afirmar sobre o potencia...</td>\n",
       "    </tr>\n",
       "    <tr>\n",
       "      <th>3</th>\n",
       "      <td>Lactante com suspeita da doença pode amamentar?</td>\n",
       "      <td>As informações são escassas, mas até o momento...</td>\n",
       "    </tr>\n",
       "    <tr>\n",
       "      <th>4</th>\n",
       "      <td>Ouvi sobre casos de recém-nascidos que testar...</td>\n",
       "      <td>Estudos existentes hoje mostram que o vírus nã...</td>\n",
       "    </tr>\n",
       "    <tr>\n",
       "      <th>5</th>\n",
       "      <td>Grávidas correm risco maior?</td>\n",
       "      <td>Sim. Embora ainda não existam dados suficiente...</td>\n",
       "    </tr>\n",
       "    <tr>\n",
       "      <th>6</th>\n",
       "      <td>Posso mandar meu filho para escola?</td>\n",
       "      <td>A partir de 13 de março de 2020, o Governo do ...</td>\n",
       "    </tr>\n",
       "    <tr>\n",
       "      <th>7</th>\n",
       "      <td>Quais medidas os pais e responsáveis devem e ...</td>\n",
       "      <td>Se compatível com a idade, os pais ou responsá...</td>\n",
       "    </tr>\n",
       "    <tr>\n",
       "      <th>8</th>\n",
       "      <td>Parques, praças, clubes etc. estão liberados ...</td>\n",
       "      <td>Atividades ao ar livre não são proibidas, pois...</td>\n",
       "    </tr>\n",
       "    <tr>\n",
       "      <th>9</th>\n",
       "      <td>O que posso fazer para proteger meu/minha fil...</td>\n",
       "      <td>As crianças devem seguir as mesmas orientações...</td>\n",
       "    </tr>\n",
       "    <tr>\n",
       "      <th>10</th>\n",
       "      <td>Como o organismo da gestante reage diante da ...</td>\n",
       "      <td>O organismo da gestante responde de forma muit...</td>\n",
       "    </tr>\n",
       "    <tr>\n",
       "      <th>11</th>\n",
       "      <td>Quais cuidados as gestantes devem tomar?</td>\n",
       "      <td>As gestantes devem tomar os mesmos cuidados da...</td>\n",
       "    </tr>\n",
       "    <tr>\n",
       "      <th>12</th>\n",
       "      <td>Caso a gestante sinta os sintomas do novo cor...</td>\n",
       "      <td>Sintomas gripais leves como febre, dores no co...</td>\n",
       "    </tr>\n",
       "    <tr>\n",
       "      <th>13</th>\n",
       "      <td>Crianças são “menos” vulneráveis ao novo coro...</td>\n",
       "      <td>Há poucos relatos de doenças graves em criança...</td>\n",
       "    </tr>\n",
       "    <tr>\n",
       "      <th>14</th>\n",
       "      <td>Quais os principais sintomas da doença em beb...</td>\n",
       "      <td>Em crianças, os sintomas são parecidos com os ...</td>\n",
       "    </tr>\n",
       "    <tr>\n",
       "      <th>15</th>\n",
       "      <td>Crianças podem tomar a vacina contra a gripe ...</td>\n",
       "      <td>A partir dos 6 meses de idade.</td>\n",
       "    </tr>\n",
       "    <tr>\n",
       "      <th>16</th>\n",
       "      <td>Posso passar álcool gel na mão de recém-nasci...</td>\n",
       "      <td>As crianças podem ter suas mãos higienizadas c...</td>\n",
       "    </tr>\n",
       "    <tr>\n",
       "      <th>17</th>\n",
       "      <td>Quais devem ser os cuidados com os bebês?</td>\n",
       "      <td>Sempre manipular os bebês com as mãos limpas (...</td>\n",
       "    </tr>\n",
       "    <tr>\n",
       "      <th>18</th>\n",
       "      <td>Para bebês, visitas da família podem acontece...</td>\n",
       "      <td>Não, neste momento sugerimos fortemente que se...</td>\n",
       "    </tr>\n",
       "    <tr>\n",
       "      <th>19</th>\n",
       "      <td>Como ajudar adultos e crianças com o transtor...</td>\n",
       "      <td>Se você está cuidando de uma criança ou membro...</td>\n",
       "    </tr>\n",
       "    <tr>\n",
       "      <th>20</th>\n",
       "      <td>Uma vez que a criança seja diagnosticada com ...</td>\n",
       "      <td>É muito importante evitar visitas de outros fa...</td>\n",
       "    </tr>\n",
       "    <tr>\n",
       "      <th>21</th>\n",
       "      <td>Se a grande maioria das crianças é assintomát...</td>\n",
       "      <td>É muito importante consultar o pediatra da cri...</td>\n",
       "    </tr>\n",
       "    <tr>\n",
       "      <th>22</th>\n",
       "      <td>Como lidar com crianças durante o isolamento ...</td>\n",
       "      <td>É importante informar as crianças utilizando u...</td>\n",
       "    </tr>\n",
       "  </tbody>\n",
       "</table>\n",
       "</div>"
      ],
      "text/plain": [
       "                                            Perguntas  \\\n",
       "0    É seguro amamentar durante a infecção por cor...   \n",
       "1    Posso passar o coronavírus para o meu filho d...   \n",
       "2    Gestantes podem transmitir o vírus para o bebê?    \n",
       "3     Lactante com suspeita da doença pode amamentar?   \n",
       "4    Ouvi sobre casos de recém-nascidos que testar...   \n",
       "5                        Grávidas correm risco maior?   \n",
       "6                 Posso mandar meu filho para escola?   \n",
       "7    Quais medidas os pais e responsáveis devem e ...   \n",
       "8    Parques, praças, clubes etc. estão liberados ...   \n",
       "9    O que posso fazer para proteger meu/minha fil...   \n",
       "10   Como o organismo da gestante reage diante da ...   \n",
       "11           Quais cuidados as gestantes devem tomar?   \n",
       "12   Caso a gestante sinta os sintomas do novo cor...   \n",
       "13   Crianças são “menos” vulneráveis ao novo coro...   \n",
       "14   Quais os principais sintomas da doença em beb...   \n",
       "15   Crianças podem tomar a vacina contra a gripe ...   \n",
       "16   Posso passar álcool gel na mão de recém-nasci...   \n",
       "17          Quais devem ser os cuidados com os bebês?   \n",
       "18   Para bebês, visitas da família podem acontece...   \n",
       "19   Como ajudar adultos e crianças com o transtor...   \n",
       "20   Uma vez que a criança seja diagnosticada com ...   \n",
       "21   Se a grande maioria das crianças é assintomát...   \n",
       "22   Como lidar com crianças durante o isolamento ...   \n",
       "\n",
       "                                            Respostas  \n",
       "0   Embora os estudos científicos na área sejam es...  \n",
       "1   Ainda não conseguimos afirmar sobre o potencia...  \n",
       "2   Ainda não conseguimos afirmar sobre o potencia...  \n",
       "3   As informações são escassas, mas até o momento...  \n",
       "4   Estudos existentes hoje mostram que o vírus nã...  \n",
       "5   Sim. Embora ainda não existam dados suficiente...  \n",
       "6   A partir de 13 de março de 2020, o Governo do ...  \n",
       "7   Se compatível com a idade, os pais ou responsá...  \n",
       "8   Atividades ao ar livre não são proibidas, pois...  \n",
       "9   As crianças devem seguir as mesmas orientações...  \n",
       "10  O organismo da gestante responde de forma muit...  \n",
       "11  As gestantes devem tomar os mesmos cuidados da...  \n",
       "12  Sintomas gripais leves como febre, dores no co...  \n",
       "13  Há poucos relatos de doenças graves em criança...  \n",
       "14  Em crianças, os sintomas são parecidos com os ...  \n",
       "15                     A partir dos 6 meses de idade.  \n",
       "16  As crianças podem ter suas mãos higienizadas c...  \n",
       "17  Sempre manipular os bebês com as mãos limpas (...  \n",
       "18  Não, neste momento sugerimos fortemente que se...  \n",
       "19  Se você está cuidando de uma criança ou membro...  \n",
       "20  É muito importante evitar visitas de outros fa...  \n",
       "21  É muito importante consultar o pediatra da cri...  \n",
       "22  É importante informar as crianças utilizando u...  "
      ]
     },
     "execution_count": 78,
     "metadata": {},
     "output_type": "execute_result"
    }
   ],
   "source": [
    "criarDataframePDF(perguntas[0],respostas)"
   ]
  },
  {
   "cell_type": "code",
   "execution_count": 46,
   "metadata": {},
   "outputs": [],
   "source": [
    "df_um = criarDataframePDF(perguntas[0],respostas)"
   ]
  },
  {
   "cell_type": "code",
   "execution_count": 57,
   "metadata": {},
   "outputs": [],
   "source": [
    "df_dois = criarDataframePDF(perguntas[0],respostas)"
   ]
  },
  {
   "cell_type": "code",
   "execution_count": 68,
   "metadata": {},
   "outputs": [],
   "source": [
    "df_tres = criarDataframePDF(perguntas[0],respostas)"
   ]
  },
  {
   "cell_type": "code",
   "execution_count": 79,
   "metadata": {},
   "outputs": [],
   "source": [
    "df_quatro = criarDataframePDF(perguntas[0],respostas)"
   ]
  },
  {
   "cell_type": "code",
   "execution_count": null,
   "metadata": {},
   "outputs": [],
   "source": []
  },
  {
   "cell_type": "code",
   "execution_count": null,
   "metadata": {},
   "outputs": [],
   "source": []
  },
  {
   "cell_type": "code",
   "execution_count": null,
   "metadata": {},
   "outputs": [],
   "source": []
  },
  {
   "cell_type": "code",
   "execution_count": 77,
   "metadata": {},
   "outputs": [],
   "source": [
    "objeto_soup.getPerguntas(list_soup,['\\xa0','\\n'])\n",
    "objeto_soup.getIntervalos(list_soup)\n",
    "objeto_soup.getRespostas(list_soup,['\\xa0','\\n'])"
   ]
  },
  {
   "cell_type": "code",
   "execution_count": 78,
   "metadata": {},
   "outputs": [
    {
     "name": "stdout",
     "output_type": "stream",
     "text": [
      "['Como prevenir?As orientações do Ministério da Saúde sobre a prevenção de contágio são: lavar as mãos com água e sabão ou usar álcool em gel; ao tossir ou espirrar cobrir o nariz e a boca com um lenço ou braço, não utilizar as mãos; manter ambientes bem ventilados; e não compartilhar objetos pessoais; reduzir o contato social.', 'Quem deve ir ao hospital?Só deve ir ao hospital quem estiver se sentindo muito mal ou apresentar sintomas como febre alta e dificuldade para respirar. Se for só um resfriado ou gripe leve, a recomendação é ficar em casa. De acordo com infectologistas, ir ao hospital, além de sobrecarregar o sistema, aumenta o risco de a pessoa contrair uma infecção.', 'Quais são os sintomas associados a pandemia?Os sintomas do Covid-19 envolvem febre, cansaço e tosse seca. Alguns pacientes podem apresentar dores, congestão nasal, coriza, tosse e diarreia. Enquanto outros pacientes podem ser assintomáticos, ou seja, estarem infectados pelo vírus, mas não apresentarem sintomas.', 'Estou com sintomas de gripe, devo me preocupar? Atualmente o Brasil tem dez vezes mais casos de H1N1 do que coronavírus. Só no ano passado, 796 pessoas morreram por causa da gripe H1N1 no país.', 'Já existe vacina para o Covid-19?Ainda não existe vacina ou tratamento específico para o coronavírus. O tratamento depende dos sintomas e da gravidade do quadro. Quando mais leves, podem ser monitorados em casa com repouso e consumo de bastante água.', 'Existe tratamento ?Conforme a OMS cerca de 80% das pessoas infectadas se recuperam sem a necessidade de tratamento especial. Não há uma medicação que elimine o vírus, mas há tratamento para reduzir o avanço da doença e diminuir o desconforto.', 'Como diferenciar uma gripe comum do coronavírus?Os sintomas são iguais. E a única forma de saber se a infecção é causada por H1N1 ou pelo coronavírus é através de exame laboratorial.', 'Tive contato com uma pessoa infectada. O que devo fazer?O ideal é evitar contato com outras pessoas, principalmente idosos, por 15 dias. Caso apresente sintomas como febre, dor de garganta, coriza e dor no corpo, neste período use máscara e procure um hospital.', 'Existe um jeito certo de lavar as mãos?Lavar bem as duas faces da mão, antebraço, esfregar entre os dedos, e em baixo das unhas. A recomendação é lavar as mãos a cada duas horas ou sempre que chegar da rua.', 'Porque devo evitar tocar os olhos, o nariz e a boca?Essas áreas têm contato direto com a corrente sanguínea e são mais sensíveis à presença de agentes de contaminação. Portanto, evite coçar, esfregar ou ter qualquer tipo de contato com as mucosas. E as mãos estão em contato constante com superfícies que podem ser canais de transmissão de vírus e bactérias.', 'Em quais caos usar máscara?Apenas pessoas contaminadas com o vírus devem usar máscara, de modo a impedir que ele se espalhe ao tossir, espirrar ou ao falar.', 'Quais são os grupos de risco?Segundo a OMS 1 em cada 6 pacientes pode ter um agravamento do quadro, com dificuldades respiratórias sérias. No início do mês de março, a taxa de letalidade era de 3,5%. Porém o Ministério da Saúde acredita que esse percentual possa ser menor, em razão da subnotificação de casos em alguns países.', 'O coronavírus pode matar?O índice de mortalidade registrado com a pandemia no mundo, indica que as mortes pela doença variam de 2,3% a 3,5%, sendo mais comum em pessoas acima de 80 anos.']\n",
      "['', '', '', '', '', '', '', '', '', '', '', '', 'Para combater a boataria e tranquilizar a população, o Ministério da Saúde criou um número de WhatsApp, (61) 99289-4640, para receber “informações virais” sobre coronavírus, que serão analisadas pelos técnicos da pasta.']\n",
      "True\n"
     ]
    }
   ],
   "source": [
    "print(objeto_soup.perguntas[0])\n",
    "print(objeto_soup.respostas)\n",
    "print(objeto_soup.getComparacao(objeto_soup.perguntas[0],objeto_soup.respostas))"
   ]
  },
  {
   "cell_type": "code",
   "execution_count": 57,
   "metadata": {},
   "outputs": [],
   "source": [
    "objeto_soup.criarDataframePDF(objeto_soup.perguntas[0],objeto_soup.respostas,'coronavirus.rj.gov.br')"
   ]
  },
  {
   "cell_type": "code",
   "execution_count": 87,
   "metadata": {},
   "outputs": [],
   "source": [
    "with open('../img/1.pdf','rb') as f:\n",
    "    extract = slate.PDF(f)[0]"
   ]
  },
  {
   "cell_type": "code",
   "execution_count": 88,
   "metadata": {},
   "outputs": [
    {
     "data": {
      "text/plain": [
       "['Algumas pessoas são infectadas mas não desenvolvem sintoma algum e não se sentem mal. A ',\n",
       " 'maioria das pessoas (cerca de 80%) se recupera da doença sem a necessidade de nenhum ',\n",
       " 'tratamento especial. Os casos mais graves desenvolvem dificuldade de respirar.  ',\n",
       " 'Pessoas idosas, aquelas com o sistema imunológico enfraquecido ou problemas de saúde ',\n",
       " 'preexistentes, como hipertensão, problemas cardíacos ou diabetes, estão mais suscetíveis a ',\n",
       " 'adoecer gravemente. Quem \\natendimento médico. ',\n",
       " 'tiver ',\n",
       " 'febre, ',\n",
       " 'tosse e dificuldade para ',\n",
       " 'respirar deve procurar ',\n",
       " 'O COVID-19 é um vírus novo e não se sabe ao certo como interage com Chagas, pois não temos ',\n",
       " 'evidências científicas suficientes. É certo que aqueles que já têm problemas cardíacos graves ',\n",
       " 'causados pela doença de Chagas ou um sistema imunológico enfraquecido correm mais risco ',\n",
       " 'de desenvolver sintomas mais graves de COVID-19. ',\n",
       " 'Se sou paciente crônico de doença de Chagas sem complicações graves, ',\n",
       " 'sou mais vulnerável ao COVID-19? ',\n",
       " 'Se você fez um teste para doença de Chagas com resultado positivo mas não tem outras ',\n",
       " 'doenças, complicações ou condições como as mencionadas acima, até o momento acredita -se ',\n",
       " 'que você não seja mais vulnerável do que a população geral.  ',\n",
       " 'Contudo, se você tem doença de Chagas e tem complicações sérias como problemas cardíacos, ',\n",
       " 'hipertensão, diabetes ou imunossupressão, corre um risco mais alto de sofrer problemas graves ',\n",
       " 'causados pelo COVID-19. ',\n",
       " 'Se estou na fase aguda da doença de Chagas e tenho sintomas de COVID-',\n",
       " '19, o que devo fazer? ',\n",
       " 'Entre em contato com a clínica ou o médico que o atende normalmente, explique que tem doença ',\n",
       " 'de Chagas aguda e que está sentindo sintomas de COVID -19, e solicite um teste para COVID-',\n",
       " '19. ',\n",
       " 'Se você ',\n",
       " 'tem doença de Chagas aguda (adquirida recentemente), procure um ',\n",
       " 'tratamento ',\n",
       " 'antiparasitário para Chagas o mais depressa possível, pois assim terá uma chance maior de \\neliminar a infecção.  ',\n",
       " 'Além disso, é importante notar que sintomas como febre, tosse ou dor de garganta não ',\n",
       " 'necessariamente significam que você tem COVID-19. Muitas outras viroses comuns podem ',\n",
       " 'causar esses mesmos sintomas.  ',\n",
       " 'No momento, não há ',\n",
       " 'tratamento antiviral para a ',\n",
       " 'forma branda de COVID -19. O que se ',\n",
       " 'recomenda é o tratamento dos sintomas (por exemplo, paracetamol para a febre) e o isolamento \\nem quarentena, em casa. ',\n",
       " 'Se eu tiver sintomas ou o resultado do teste de COVID-19 for positivo, ',\n",
       " 'preciso interromper o tratamento de doença de Chagas? ',\n",
       " 'Essa decisão deve ser tomada em consulta com seu médico. De modo geral, o tratamento ',\n",
       " 'antiparasitário para a doença de Chagas pode ser adiado durante algumas semanas até a ',\n",
       " 'infecção de COVID-19 ser ',\n",
       " 'tratada de acordo com as orientações nacionais ou se curar ',\n",
       " 'naturalmente. ',\n",
       " 'Entretanto, pode haver situações especiais, como infecções agudas, em que os médicos ',\n",
       " 'determ inarão se é recomendável dar continuidade ao tratamento antiparasitário.  ',\n",
       " '   \\n   \\n   \\n   \\n   \\n \\n  \\n  \\n   \\n   \\n   \\n   \\n   \\n   \\n   \\n\\x0c']"
      ]
     },
     "execution_count": 88,
     "metadata": {},
     "output_type": "execute_result"
    }
   ],
   "source": [
    "extract.split('\\n\\n')"
   ]
  },
  {
   "cell_type": "code",
   "execution_count": 84,
   "metadata": {},
   "outputs": [],
   "source": [
    "perguntas = ['Quais são os sintomas de COVID-19? São diferentes para um paciente de doença de Chagas?','Se sou paciente crônico de doença de Chagas sem complicações graves, sou mais vulnerável ao COVID-19?','Se estou na fase aguda da doença de Chagas e tenho sintomas de COVID- 19, o que devo fazer?','Se eu tiver sintomas ou o resultado do teste de COVID-19 for positivo, preciso interromper o tratamento de doença de Chagas?','O que devo fazer se eu tiver doença de Chagas sem tratamento específico e tiver sintomas de COVID-19?','O que devo fazer para proteger minha família e a mim do COVID-19 se tenho doença de Chagas?','Se eu tiver complicações cardiológicas ou digestivas causadas pela doença de Chagas, o que preciso fazer para me proteger do COVID-19?','Devo continuar frequentando o centro de saúde para dar continuidade ao tratamento de Chagas durante a epidemia de COVID-19?','Se eu receber um resultado positivo para COVID-19 e tiver doença de Chagas, quais são os tratamentos que não devo tomar?','Se estou grávida e suspeito que tenha contraído doença de Chagas, sou mais vulnerável ao COVID-19?','Se eu estiver grávida, tiver doença de Chagas e receber um resultado positivo para COVID-19, o que devo fazer?']"
   ]
  },
  {
   "cell_type": "code",
   "execution_count": 85,
   "metadata": {
    "scrolled": true
   },
   "outputs": [
    {
     "data": {
      "text/plain": [
       "['Quais são os sintomas de COVID-19? São diferentes para um paciente de doença de Chagas?',\n",
       " 'Se sou paciente crônico de doença de Chagas sem complicações graves, sou mais vulnerável ao COVID-19?',\n",
       " 'Se estou na fase aguda da doença de Chagas e tenho sintomas de COVID- 19, o que devo fazer?',\n",
       " 'Se eu tiver sintomas ou o resultado do teste de COVID-19 for positivo, preciso interromper o tratamento de doença de Chagas?',\n",
       " 'O que devo fazer se eu tiver doença de Chagas sem tratamento específico e tiver sintomas de COVID-19?',\n",
       " 'O que devo fazer para proteger minha família e a mim do COVID-19 se tenho doença de Chagas?',\n",
       " 'Se eu tiver complicações cardiológicas ou digestivas causadas pela doença de Chagas, o que preciso fazer para me proteger do COVID-19?',\n",
       " 'Devo continuar frequentando o centro de saúde para dar continuidade ao tratamento de Chagas durante a epidemia de COVID-19?',\n",
       " 'Se eu receber um resultado positivo para COVID-19 e tiver doença de Chagas, quais são os tratamentos que não devo tomar?',\n",
       " 'Se estou grávida e suspeito que tenha contraído doença de Chagas, sou mais vulnerável ao COVID-19?',\n",
       " 'Se eu estiver grávida, tiver doença de Chagas e receber um resultado positivo para COVID-19, o que devo fazer?']"
      ]
     },
     "execution_count": 85,
     "metadata": {},
     "output_type": "execute_result"
    }
   ],
   "source": [
    "perguntas"
   ]
  },
  {
   "cell_type": "markdown",
   "metadata": {},
   "source": [
    "# Merge dos crawlers"
   ]
  },
  {
   "cell_type": "code",
   "execution_count": 89,
   "metadata": {},
   "outputs": [],
   "source": [
    "from os import listdir\n",
    "from os.path import isfile, join\n",
    "mypath = './Perguntas e Respostas nao submetidas/'\n",
    "onlyfiles = [f for f in listdir(mypath) if isfile(join(mypath, f))]"
   ]
  },
  {
   "cell_type": "code",
   "execution_count": 92,
   "metadata": {},
   "outputs": [],
   "source": [
    "dfs = []\n",
    "for i in onlyfiles:\n",
    "    dfs.append(pd.read_csv('./Perguntas e Respostas nao submetidas/' + i))"
   ]
  },
  {
   "cell_type": "code",
   "execution_count": 94,
   "metadata": {},
   "outputs": [
    {
     "data": {
      "text/plain": [
       "(245, 2)"
      ]
     },
     "execution_count": 94,
     "metadata": {},
     "output_type": "execute_result"
    }
   ],
   "source": [
    "result = pd.concat(dfs)\n",
    "result.shape"
   ]
  },
  {
   "cell_type": "code",
   "execution_count": 96,
   "metadata": {},
   "outputs": [],
   "source": [
    "result.reset_index(drop=True,inplace=True)"
   ]
  },
  {
   "cell_type": "code",
   "execution_count": 97,
   "metadata": {},
   "outputs": [
    {
     "data": {
      "text/html": [
       "<div>\n",
       "<style scoped>\n",
       "    .dataframe tbody tr th:only-of-type {\n",
       "        vertical-align: middle;\n",
       "    }\n",
       "\n",
       "    .dataframe tbody tr th {\n",
       "        vertical-align: top;\n",
       "    }\n",
       "\n",
       "    .dataframe thead th {\n",
       "        text-align: right;\n",
       "    }\n",
       "</style>\n",
       "<table border=\"1\" class=\"dataframe\">\n",
       "  <thead>\n",
       "    <tr style=\"text-align: right;\">\n",
       "      <th></th>\n",
       "      <th>Perguntas</th>\n",
       "      <th>Respostas</th>\n",
       "    </tr>\n",
       "  </thead>\n",
       "  <tbody>\n",
       "    <tr>\n",
       "      <th>0</th>\n",
       "      <td>O que é coronavírus?</td>\n",
       "      <td>Coronavírus é uma família de vírus que causam ...</td>\n",
       "    </tr>\n",
       "    <tr>\n",
       "      <th>1</th>\n",
       "      <td>Como o coronavírus é transmitido?</td>\n",
       "      <td>A transmissão do coronavírus de pessoa para pe...</td>\n",
       "    </tr>\n",
       "    <tr>\n",
       "      <th>2</th>\n",
       "      <td>Quais os sintomas?</td>\n",
       "      <td>É um vírus com os sintomas muito semelhantes a...</td>\n",
       "    </tr>\n",
       "    <tr>\n",
       "      <th>3</th>\n",
       "      <td>Como é feito o diagnóstico do coronavírus no R...</td>\n",
       "      <td>A Vigilância municipal coleta uma amostra de m...</td>\n",
       "    </tr>\n",
       "    <tr>\n",
       "      <th>4</th>\n",
       "      <td>Como é o tratamento do coronavírus?</td>\n",
       "      <td>Não existe tratamento específico para o corona...</td>\n",
       "    </tr>\n",
       "    <tr>\n",
       "      <th>...</th>\n",
       "      <td>...</td>\n",
       "      <td>...</td>\n",
       "    </tr>\n",
       "    <tr>\n",
       "      <th>240</th>\n",
       "      <td>Tenho um caso confirmado em casa: uso louça e...</td>\n",
       "      <td>Não é obrigatório o uso de talheres, pratos e ...</td>\n",
       "    </tr>\n",
       "    <tr>\n",
       "      <th>241</th>\n",
       "      <td>Tenho um caso confirmado em casa: como lavar ...</td>\n",
       "      <td>Em máquina de lavar comum. A lavagem no tanque...</td>\n",
       "    </tr>\n",
       "    <tr>\n",
       "      <th>242</th>\n",
       "      <td>Tenho um caso confirmado em casa: devo deixa...</td>\n",
       "      <td>Sim, se possível deixe as janelas sempre abert...</td>\n",
       "    </tr>\n",
       "    <tr>\n",
       "      <th>243</th>\n",
       "      <td>Tenho um caso confirmado em casa: como descar...</td>\n",
       "      <td>O lixo deve ser descartado como lixo comum, de...</td>\n",
       "    </tr>\n",
       "    <tr>\n",
       "      <th>244</th>\n",
       "      <td>Tive contato com alguém com suspeita/caso con...</td>\n",
       "      <td>Caso você não tenha sintomas, não se desespere...</td>\n",
       "    </tr>\n",
       "  </tbody>\n",
       "</table>\n",
       "<p>245 rows × 2 columns</p>\n",
       "</div>"
      ],
      "text/plain": [
       "                                             Perguntas  \\\n",
       "0                                 O que é coronavírus?   \n",
       "1                    Como o coronavírus é transmitido?   \n",
       "2                                   Quais os sintomas?   \n",
       "3    Como é feito o diagnóstico do coronavírus no R...   \n",
       "4                  Como é o tratamento do coronavírus?   \n",
       "..                                                 ...   \n",
       "240   Tenho um caso confirmado em casa: uso louça e...   \n",
       "241   Tenho um caso confirmado em casa: como lavar ...   \n",
       "242    Tenho um caso confirmado em casa: devo deixa...   \n",
       "243   Tenho um caso confirmado em casa: como descar...   \n",
       "244   Tive contato com alguém com suspeita/caso con...   \n",
       "\n",
       "                                             Respostas  \n",
       "0    Coronavírus é uma família de vírus que causam ...  \n",
       "1    A transmissão do coronavírus de pessoa para pe...  \n",
       "2    É um vírus com os sintomas muito semelhantes a...  \n",
       "3    A Vigilância municipal coleta uma amostra de m...  \n",
       "4    Não existe tratamento específico para o corona...  \n",
       "..                                                 ...  \n",
       "240  Não é obrigatório o uso de talheres, pratos e ...  \n",
       "241  Em máquina de lavar comum. A lavagem no tanque...  \n",
       "242  Sim, se possível deixe as janelas sempre abert...  \n",
       "243  O lixo deve ser descartado como lixo comum, de...  \n",
       "244  Caso você não tenha sintomas, não se desespere...  \n",
       "\n",
       "[245 rows x 2 columns]"
      ]
     },
     "execution_count": 97,
     "metadata": {},
     "output_type": "execute_result"
    }
   ],
   "source": [
    "result"
   ]
  },
  {
   "cell_type": "code",
   "execution_count": 99,
   "metadata": {},
   "outputs": [],
   "source": [
    "df_projeto = pd.read_csv('../../DataSets/Projeto_Repositorio/repositorio_projeto.csv')"
   ]
  },
  {
   "cell_type": "code",
   "execution_count": 101,
   "metadata": {},
   "outputs": [],
   "source": [
    "df_projeto.drop(['Unnamed: 0'],axis=1,inplace=True)\n",
    "df_projeto.columns = ['Perguntas','Respostas']"
   ]
  },
  {
   "cell_type": "code",
   "execution_count": 107,
   "metadata": {},
   "outputs": [],
   "source": [
    "aa = pd.concat([df_projeto,result])"
   ]
  },
  {
   "cell_type": "code",
   "execution_count": 109,
   "metadata": {},
   "outputs": [],
   "source": [
    "aa.reset_index(drop=True,inplace=True)"
   ]
  },
  {
   "cell_type": "code",
   "execution_count": 111,
   "metadata": {},
   "outputs": [],
   "source": [
    "aa.to_csv('../../DataSets/Projeto_Repositorio/repositorio_v2.csv')"
   ]
  },
  {
   "cell_type": "code",
   "execution_count": null,
   "metadata": {},
   "outputs": [],
   "source": []
  }
 ],
 "metadata": {
  "kernelspec": {
   "display_name": "Python 3",
   "language": "python",
   "name": "python3"
  },
  "language_info": {
   "codemirror_mode": {
    "name": "ipython",
    "version": 3
   },
   "file_extension": ".py",
   "mimetype": "text/x-python",
   "name": "python",
   "nbconvert_exporter": "python",
   "pygments_lexer": "ipython3",
   "version": "3.9.0"
  }
 },
 "nbformat": 4,
 "nbformat_minor": 2
}
