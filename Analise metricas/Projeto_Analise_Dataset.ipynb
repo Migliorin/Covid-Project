{
 "cells": [
  {
   "cell_type": "code",
   "execution_count": null,
   "metadata": {},
   "outputs": [],
   "source": [
    "!pip install rank_bm25\n",
    "!pip install unidecode\n",
    "!pip install --upgrade gensim\n",
    "!pip install pandas\n",
    "!pip install nltk"
   ]
  },
  {
   "cell_type": "code",
   "execution_count": 1,
   "metadata": {},
   "outputs": [],
   "source": [
    "import pandas as pd\n",
    "import numpy as np\n",
    "import json\n",
    "import nltk\n",
    "import string\n",
    "from rank_bm25 import BM25Okapi\n",
    "from unidecode import unidecode\n",
    "import gensim\n",
    "from gensim.summarization.bm25 import BM25"
   ]
  },
  {
   "cell_type": "code",
   "execution_count": 2,
   "metadata": {},
   "outputs": [
    {
     "name": "stderr",
     "output_type": "stream",
     "text": [
      "[nltk_data] Downloading package punkt to /home/p1ntsu/nltk_data...\n",
      "[nltk_data]   Package punkt is already up-to-date!\n"
     ]
    },
    {
     "data": {
      "text/plain": [
       "True"
      ]
     },
     "execution_count": 2,
     "metadata": {},
     "output_type": "execute_result"
    }
   ],
   "source": [
    "nltk.download('punkt')"
   ]
  },
  {
   "cell_type": "markdown",
   "metadata": {},
   "source": [
    "# Abertura DataSets"
   ]
  },
  {
   "cell_type": "code",
   "execution_count": 9,
   "metadata": {},
   "outputs": [
    {
     "data": {
      "text/html": [
       "<div>\n",
       "<style scoped>\n",
       "    .dataframe tbody tr th:only-of-type {\n",
       "        vertical-align: middle;\n",
       "    }\n",
       "\n",
       "    .dataframe tbody tr th {\n",
       "        vertical-align: top;\n",
       "    }\n",
       "\n",
       "    .dataframe thead th {\n",
       "        text-align: right;\n",
       "    }\n",
       "</style>\n",
       "<table border=\"1\" class=\"dataframe\">\n",
       "  <thead>\n",
       "    <tr style=\"text-align: right;\">\n",
       "      <th></th>\n",
       "      <th>perguntas</th>\n",
       "      <th>respostas</th>\n",
       "    </tr>\n",
       "  </thead>\n",
       "  <tbody>\n",
       "    <tr>\n",
       "      <th>0</th>\n",
       "      <td>O que é COVID-19?</td>\n",
       "      <td>COVID-19 é a doença causada por um novo corona...</td>\n",
       "    </tr>\n",
       "    <tr>\n",
       "      <th>1</th>\n",
       "      <td>Quais são os sintomas da COVID-19?</td>\n",
       "      <td>Os sintomas mais comuns de COVID-19 são Febre ...</td>\n",
       "    </tr>\n",
       "    <tr>\n",
       "      <th>2</th>\n",
       "      <td>O que acontece com as pessoas que obtêm COVID-19?</td>\n",
       "      <td>Entre os que desenvolvem sintomas, a maioria (...</td>\n",
       "    </tr>\n",
       "    <tr>\n",
       "      <th>3</th>\n",
       "      <td>Quem corre maior risco de contrair doenças gra...</td>\n",
       "      <td>Pessoas com 60 anos ou mais e aqueles com prob...</td>\n",
       "    </tr>\n",
       "    <tr>\n",
       "      <th>4</th>\n",
       "      <td>Existem efeitos a longo prazo do COVID-19?</td>\n",
       "      <td>Algumas pessoas que tiveram COVID-19, quer ten...</td>\n",
       "    </tr>\n",
       "  </tbody>\n",
       "</table>\n",
       "</div>"
      ],
      "text/plain": [
       "                                           perguntas  \\\n",
       "0                                  O que é COVID-19?   \n",
       "1                 Quais são os sintomas da COVID-19?   \n",
       "2  O que acontece com as pessoas que obtêm COVID-19?   \n",
       "3  Quem corre maior risco de contrair doenças gra...   \n",
       "4         Existem efeitos a longo prazo do COVID-19?   \n",
       "\n",
       "                                           respostas  \n",
       "0  COVID-19 é a doença causada por um novo corona...  \n",
       "1  Os sintomas mais comuns de COVID-19 são Febre ...  \n",
       "2  Entre os que desenvolvem sintomas, a maioria (...  \n",
       "3  Pessoas com 60 anos ou mais e aqueles com prob...  \n",
       "4  Algumas pessoas que tiveram COVID-19, quer ten...  "
      ]
     },
     "execution_count": 9,
     "metadata": {},
     "output_type": "execute_result"
    }
   ],
   "source": [
    "with open('../Traducao/Traducao WHO/who_traduzido.csv','r') as f:\n",
    "    df_who = pd.read_csv(f)\n",
    "df_who.head()"
   ]
  },
  {
   "cell_type": "code",
   "execution_count": 5,
   "metadata": {},
   "outputs": [
    {
     "data": {
      "text/html": [
       "<div>\n",
       "<style scoped>\n",
       "    .dataframe tbody tr th:only-of-type {\n",
       "        vertical-align: middle;\n",
       "    }\n",
       "\n",
       "    .dataframe tbody tr th {\n",
       "        vertical-align: top;\n",
       "    }\n",
       "\n",
       "    .dataframe thead th {\n",
       "        text-align: right;\n",
       "    }\n",
       "</style>\n",
       "<table border=\"1\" class=\"dataframe\">\n",
       "  <thead>\n",
       "    <tr style=\"text-align: right;\">\n",
       "      <th></th>\n",
       "      <th>pergunta</th>\n",
       "      <th>resposta</th>\n",
       "    </tr>\n",
       "  </thead>\n",
       "  <tbody>\n",
       "    <tr>\n",
       "      <th>0</th>\n",
       "      <td>o covid-19 terminará em breve?</td>\n",
       "      <td>1º de maio, eu acho, é completamente irreal, d...</td>\n",
       "    </tr>\n",
       "    <tr>\n",
       "      <th>1</th>\n",
       "      <td>o covid-19 terminará?</td>\n",
       "      <td>1º de maio, eu acho, é completamente irreal, d...</td>\n",
       "    </tr>\n",
       "    <tr>\n",
       "      <th>2</th>\n",
       "      <td>quando covid-19 vai acabar?</td>\n",
       "      <td>1º de maio, eu acho, é completamente irreal, d...</td>\n",
       "    </tr>\n",
       "    <tr>\n",
       "      <th>3</th>\n",
       "      <td>quando o bloqueio covid-19 termina?</td>\n",
       "      <td>1º de maio, eu acho, é completamente irreal, d...</td>\n",
       "    </tr>\n",
       "    <tr>\n",
       "      <th>4</th>\n",
       "      <td>o covid-19 irá embora?</td>\n",
       "      <td>1º de maio, eu acho, é completamente irreal, d...</td>\n",
       "    </tr>\n",
       "  </tbody>\n",
       "</table>\n",
       "</div>"
      ],
      "text/plain": [
       "                              pergunta  \\\n",
       "0       o covid-19 terminará em breve?   \n",
       "1                o covid-19 terminará?   \n",
       "2          quando covid-19 vai acabar?   \n",
       "3  quando o bloqueio covid-19 termina?   \n",
       "4               o covid-19 irá embora?   \n",
       "\n",
       "                                            resposta  \n",
       "0  1º de maio, eu acho, é completamente irreal, d...  \n",
       "1  1º de maio, eu acho, é completamente irreal, d...  \n",
       "2  1º de maio, eu acho, é completamente irreal, d...  \n",
       "3  1º de maio, eu acho, é completamente irreal, d...  \n",
       "4  1º de maio, eu acho, é completamente irreal, d...  "
      ]
     },
     "execution_count": 5,
     "metadata": {},
     "output_type": "execute_result"
    }
   ],
   "source": [
    "with open('../Traducao/Traducao COVID-Q/traduzido_final_master_dataset.csv','r') as f:\n",
    "    df_covid_q = pd.read_csv(f)\n",
    "df_covid_q.head()"
   ]
  },
  {
   "cell_type": "code",
   "execution_count": 10,
   "metadata": {},
   "outputs": [
    {
     "name": "stdout",
     "output_type": "stream",
     "text": [
      "Tamanho: 1975\n"
     ]
    }
   ],
   "source": [
    "col = df_who.columns\n",
    "df_covid_q.columns = col\n",
    "result = pd.concat([df_who,df_covid_q])\n",
    "print('Tamanho: {}'.format(result.shape[0]))"
   ]
  },
  {
   "cell_type": "markdown",
   "metadata": {},
   "source": [
    "# Pre-processamento"
   ]
  },
  {
   "cell_type": "code",
   "execution_count": 16,
   "metadata": {},
   "outputs": [
    {
     "data": {
      "text/html": [
       "<div>\n",
       "<style scoped>\n",
       "    .dataframe tbody tr th:only-of-type {\n",
       "        vertical-align: middle;\n",
       "    }\n",
       "\n",
       "    .dataframe tbody tr th {\n",
       "        vertical-align: top;\n",
       "    }\n",
       "\n",
       "    .dataframe thead th {\n",
       "        text-align: right;\n",
       "    }\n",
       "</style>\n",
       "<table border=\"1\" class=\"dataframe\">\n",
       "  <thead>\n",
       "    <tr style=\"text-align: right;\">\n",
       "      <th></th>\n",
       "      <th>perguntas</th>\n",
       "      <th>respostas</th>\n",
       "    </tr>\n",
       "  </thead>\n",
       "  <tbody>\n",
       "    <tr>\n",
       "      <th>0</th>\n",
       "      <td>o que e covid-19?</td>\n",
       "      <td>COVID-19 é a doença causada por um novo corona...</td>\n",
       "    </tr>\n",
       "    <tr>\n",
       "      <th>1</th>\n",
       "      <td>quais sao os sintomas da covid-19?</td>\n",
       "      <td>Os sintomas mais comuns de COVID-19 são Febre ...</td>\n",
       "    </tr>\n",
       "    <tr>\n",
       "      <th>2</th>\n",
       "      <td>o que acontece com as pessoas que obtem covid-19?</td>\n",
       "      <td>Entre os que desenvolvem sintomas, a maioria (...</td>\n",
       "    </tr>\n",
       "    <tr>\n",
       "      <th>3</th>\n",
       "      <td>quem corre maior risco de contrair doencas gra...</td>\n",
       "      <td>Pessoas com 60 anos ou mais e aqueles com prob...</td>\n",
       "    </tr>\n",
       "    <tr>\n",
       "      <th>4</th>\n",
       "      <td>existem efeitos a longo prazo do covid-19?</td>\n",
       "      <td>Algumas pessoas que tiveram COVID-19, quer ten...</td>\n",
       "    </tr>\n",
       "  </tbody>\n",
       "</table>\n",
       "</div>"
      ],
      "text/plain": [
       "                                           perguntas  \\\n",
       "0                                  o que e covid-19?   \n",
       "1                 quais sao os sintomas da covid-19?   \n",
       "2  o que acontece com as pessoas que obtem covid-19?   \n",
       "3  quem corre maior risco de contrair doencas gra...   \n",
       "4         existem efeitos a longo prazo do covid-19?   \n",
       "\n",
       "                                           respostas  \n",
       "0  COVID-19 é a doença causada por um novo corona...  \n",
       "1  Os sintomas mais comuns de COVID-19 são Febre ...  \n",
       "2  Entre os que desenvolvem sintomas, a maioria (...  \n",
       "3  Pessoas com 60 anos ou mais e aqueles com prob...  \n",
       "4  Algumas pessoas que tiveram COVID-19, quer ten...  "
      ]
     },
     "execution_count": 16,
     "metadata": {},
     "output_type": "execute_result"
    }
   ],
   "source": [
    "perguntas = result['perguntas'].values\n",
    "for i in range(perguntas.size):\n",
    "    perguntas[i] = unidecode(perguntas[i]).lower()\n",
    "result['perguntas'] = perguntas\n",
    "result.head()"
   ]
  },
  {
   "cell_type": "code",
   "execution_count": 17,
   "metadata": {},
   "outputs": [
    {
     "name": "stdout",
     "output_type": "stream",
     "text": [
      "Dados duplicados: 53\n",
      "Shape dataset: (1922, 2)\n"
     ]
    }
   ],
   "source": [
    "print((\"Dados duplicados: %d\")%(result.duplicated(['perguntas']).sum()))\n",
    "result.drop_duplicates(['perguntas'],inplace=True)\n",
    "result.reset_index(inplace= True,drop = True)\n",
    "print(\"Shape dataset: {}\".format(result.shape))"
   ]
  },
  {
   "cell_type": "code",
   "execution_count": 19,
   "metadata": {},
   "outputs": [],
   "source": [
    "perguntas = result['perguntas']"
   ]
  },
  {
   "cell_type": "code",
   "execution_count": 20,
   "metadata": {},
   "outputs": [
    {
     "name": "stderr",
     "output_type": "stream",
     "text": [
      "<ipython-input-20-c46f98ed8fea>:9: VisibleDeprecationWarning: Creating an ndarray from ragged nested sequences (which is a list-or-tuple of lists-or-tuples-or ndarrays with different lengths or shapes) is deprecated. If you meant to do this, you must specify 'dtype=object' when creating the ndarray\n",
      "  document = np.array(document)\n"
     ]
    }
   ],
   "source": [
    "document = []\n",
    "for pergunta,i in zip(perguntas,range(perguntas.size)):\n",
    "    try:\n",
    "        tokens = nltk.word_tokenize(pergunta,language = 'portuguese')\n",
    "        tokens = [w for w in tokens if not w in string.punctuation]\n",
    "        document.append(tokens)\n",
    "    except:\n",
    "        print(pergunta, i)\n",
    "document = np.array(document)"
   ]
  },
  {
   "cell_type": "markdown",
   "metadata": {},
   "source": [
    "# Salvando amostra"
   ]
  },
  {
   "cell_type": "code",
   "execution_count": 22,
   "metadata": {},
   "outputs": [],
   "source": [
    "sample = np.random.choice(document,size=50,replace=False)"
   ]
  },
  {
   "cell_type": "code",
   "execution_count": 27,
   "metadata": {},
   "outputs": [],
   "source": [
    "with open('./Amostra Analise Dataset/amostra.json','w') as outfile:\n",
    "    json.dump(sample.tolist(),outfile)"
   ]
  },
  {
   "cell_type": "markdown",
   "metadata": {},
   "source": [
    "# Abrindo amostra"
   ]
  },
  {
   "cell_type": "code",
   "execution_count": 28,
   "metadata": {},
   "outputs": [],
   "source": [
    "with open('./Amostra Analise Dataset/amostra.json','r') as f:\n",
    "    sample = json.load(f)"
   ]
  },
  {
   "cell_type": "markdown",
   "metadata": {},
   "source": [
    "# Utilizando BM25"
   ]
  },
  {
   "cell_type": "code",
   "execution_count": 29,
   "metadata": {},
   "outputs": [],
   "source": [
    "bm25 = BM25(document)"
   ]
  },
  {
   "cell_type": "code",
   "execution_count": 38,
   "metadata": {},
   "outputs": [
    {
     "name": "stdout",
     "output_type": "stream",
     "text": [
      "Query: onde posso encontrar as informacoes mais recentes sobre o covid-19? \n",
      "\n",
      "Pergunta: onde posso encontrar mais conselhos sobre como avaliar e gerenciar os riscos a saude em reunioes de massa internacionais? | Score BM25: 13.95\n",
      "Pergunta: onde posso fazer o teste de covid-19? | Score BM25: 10.95\n",
      "Pergunta: onde posso comprar desinfetante para as maos? | Score BM25: 10.79\n"
     ]
    }
   ],
   "source": [
    "posicao =  7\n",
    "try:\n",
    "    query = sample[posicao]\n",
    "    if(\"?\" not in query):\n",
    "        print('Query:',\" \".join(query) + '?','\\n')\n",
    "    else:\n",
    "        print(\" \".join(query),'\\n')\n",
    "    score = bm25.get_scores(query)\n",
    "    top_n = np.argsort(score)[::-1][2:5] # Apresentar as 3 melhores assimilações\n",
    "    for i in top_n:\n",
    "        print(\"Pergunta: {} | Score BM25: {:.2f}\".format(perguntas[i],score[i])) # Print da pergunta similiar e o score do BM25\n",
    "except:\n",
    "    print(\"Posicao invalida\")"
   ]
  },
  {
   "cell_type": "code",
   "execution_count": null,
   "metadata": {},
   "outputs": [],
   "source": []
  }
 ],
 "metadata": {
  "kernelspec": {
   "display_name": "Python 3",
   "language": "python",
   "name": "python3"
  },
  "language_info": {
   "codemirror_mode": {
    "name": "ipython",
    "version": 3
   },
   "file_extension": ".py",
   "mimetype": "text/x-python",
   "name": "python",
   "nbconvert_exporter": "python",
   "pygments_lexer": "ipython3",
   "version": "3.9.0"
  }
 },
 "nbformat": 4,
 "nbformat_minor": 4
}
