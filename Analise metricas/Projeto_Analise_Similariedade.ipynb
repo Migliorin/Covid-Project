{
 "cells": [
  {
   "cell_type": "markdown",
   "metadata": {
    "id": "CBpOSc2wBPDH"
   },
   "source": [
    "# ---------------------------------------\n"
   ]
  },
  {
   "cell_type": "markdown",
   "metadata": {
    "id": "xDpqnqoh1fVi"
   },
   "source": [
    "# Usando Dataset Projeto"
   ]
  },
  {
   "cell_type": "markdown",
   "metadata": {
    "id": "Ud0lO5Du1j3t"
   },
   "source": [
    "## Bibliotecas"
   ]
  },
  {
   "cell_type": "code",
   "execution_count": 3,
   "metadata": {
    "colab": {
     "base_uri": "https://localhost:8080/"
    },
    "executionInfo": {
     "elapsed": 15159,
     "status": "ok",
     "timestamp": 1607448312954,
     "user": {
      "displayName": "Lucas Migliorin Da Rosa",
      "photoUrl": "https://lh3.googleusercontent.com/a-/AOh14GiBmV9LJ9GR86LZhgmzw0IrPEj7MFgo40KUBpvH=s64",
      "userId": "00231293753892268585"
     },
     "user_tz": 240
    },
    "id": "xdzheu0y5PUi",
    "outputId": "e6676673-0483-46e2-f32b-65fce59be3df"
   },
   "outputs": [
    {
     "name": "stdout",
     "output_type": "stream",
     "text": [
      "Requirement already satisfied: rank_bm25 in /home/p1ntsu/anaconda3/envs/projetoFAQ/lib/python3.9/site-packages (0.2.1)\n",
      "Requirement already satisfied: numpy in /home/p1ntsu/anaconda3/envs/projetoFAQ/lib/python3.9/site-packages (from rank_bm25) (1.19.4)\n",
      "Requirement already satisfied: unidecode in /home/p1ntsu/anaconda3/envs/projetoFAQ/lib/python3.9/site-packages (1.1.2)\n",
      "Requirement already up-to-date: gensim in /home/p1ntsu/anaconda3/envs/projetoFAQ/lib/python3.9/site-packages (3.8.3)\n",
      "Requirement already satisfied, skipping upgrade: numpy>=1.11.3 in /home/p1ntsu/anaconda3/envs/projetoFAQ/lib/python3.9/site-packages (from gensim) (1.19.4)\n",
      "Requirement already satisfied, skipping upgrade: scipy>=0.18.1 in /home/p1ntsu/anaconda3/envs/projetoFAQ/lib/python3.9/site-packages (from gensim) (1.5.4)\n",
      "Requirement already satisfied, skipping upgrade: six>=1.5.0 in /home/p1ntsu/anaconda3/envs/projetoFAQ/lib/python3.9/site-packages (from gensim) (1.15.0)\n",
      "Requirement already satisfied, skipping upgrade: smart-open>=1.8.1 in /home/p1ntsu/anaconda3/envs/projetoFAQ/lib/python3.9/site-packages (from gensim) (4.0.1)\n",
      "Collecting pandas\n",
      "  Downloading pandas-1.1.5-cp39-cp39-manylinux1_x86_64.whl (9.3 MB)\n",
      "\u001b[K     |████████████████████████████████| 9.3 MB 6.5 MB/s eta 0:00:01\n",
      "\u001b[?25hRequirement already satisfied: numpy>=1.15.4 in /home/p1ntsu/anaconda3/envs/projetoFAQ/lib/python3.9/site-packages (from pandas) (1.19.4)\n",
      "Collecting pytz>=2017.2\n",
      "  Using cached pytz-2020.4-py2.py3-none-any.whl (509 kB)\n",
      "Requirement already satisfied: python-dateutil>=2.7.3 in /home/p1ntsu/anaconda3/envs/projetoFAQ/lib/python3.9/site-packages (from pandas) (2.8.1)\n",
      "Requirement already satisfied: six>=1.5 in /home/p1ntsu/anaconda3/envs/projetoFAQ/lib/python3.9/site-packages (from python-dateutil>=2.7.3->pandas) (1.15.0)\n",
      "Installing collected packages: pytz, pandas\n",
      "Successfully installed pandas-1.1.5 pytz-2020.4\n",
      "Collecting nltk\n",
      "  Using cached nltk-3.5.zip (1.4 MB)\n",
      "Collecting click\n",
      "  Using cached click-7.1.2-py2.py3-none-any.whl (82 kB)\n",
      "Collecting joblib\n",
      "  Downloading joblib-1.0.0-py3-none-any.whl (302 kB)\n",
      "\u001b[K     |████████████████████████████████| 302 kB 729 kB/s eta 0:00:01\n",
      "\u001b[?25hCollecting regex\n",
      "  Downloading regex-2020.11.13-cp39-cp39-manylinux2014_x86_64.whl (732 kB)\n",
      "\u001b[K     |████████████████████████████████| 732 kB 4.9 MB/s eta 0:00:01\n",
      "\u001b[?25hCollecting tqdm\n",
      "  Downloading tqdm-4.54.1-py2.py3-none-any.whl (69 kB)\n",
      "\u001b[K     |████████████████████████████████| 69 kB 655 kB/s eta 0:00:01\n",
      "\u001b[?25hBuilding wheels for collected packages: nltk\n",
      "  Building wheel for nltk (setup.py) ... \u001b[?25ldone\n",
      "\u001b[?25h  Created wheel for nltk: filename=nltk-3.5-py3-none-any.whl size=1434674 sha256=38c061df2808722bb0c3e0e7b1dcb69d28486b82db2d04ab325ce33c0fef3212\n",
      "  Stored in directory: /home/p1ntsu/.cache/pip/wheels/13/ae/bb/5e2a232ebaa1d2f38dd5f587e9fc4cf6ccb12758d14dac14d8\n",
      "Successfully built nltk\n",
      "Installing collected packages: click, joblib, regex, tqdm, nltk\n",
      "Successfully installed click-7.1.2 joblib-1.0.0 nltk-3.5 regex-2020.11.13 tqdm-4.54.1\n"
     ]
    }
   ],
   "source": [
    "!pip install rank_bm25\n",
    "!pip install unidecode\n",
    "!pip install --upgrade gensim\n",
    "!pip install pandas\n",
    "!pip install nltk"
   ]
  },
  {
   "cell_type": "code",
   "execution_count": 4,
   "metadata": {
    "executionInfo": {
     "elapsed": 17358,
     "status": "ok",
     "timestamp": 1607448315159,
     "user": {
      "displayName": "Lucas Migliorin Da Rosa",
      "photoUrl": "https://lh3.googleusercontent.com/a-/AOh14GiBmV9LJ9GR86LZhgmzw0IrPEj7MFgo40KUBpvH=s64",
      "userId": "00231293753892268585"
     },
     "user_tz": 240
    },
    "id": "wMGxeC3903qn"
   },
   "outputs": [],
   "source": [
    "import pandas as pd\n",
    "import numpy as np\n",
    "import json\n",
    "import nltk\n",
    "import string\n",
    "from rank_bm25 import BM25Okapi\n",
    "from unidecode import unidecode\n",
    "import gensim\n",
    "from gensim.summarization.bm25 import BM25"
   ]
  },
  {
   "cell_type": "code",
   "execution_count": 5,
   "metadata": {
    "colab": {
     "base_uri": "https://localhost:8080/"
    },
    "executionInfo": {
     "elapsed": 17352,
     "status": "ok",
     "timestamp": 1607448315161,
     "user": {
      "displayName": "Lucas Migliorin Da Rosa",
      "photoUrl": "https://lh3.googleusercontent.com/a-/AOh14GiBmV9LJ9GR86LZhgmzw0IrPEj7MFgo40KUBpvH=s64",
      "userId": "00231293753892268585"
     },
     "user_tz": 240
    },
    "id": "hyABACPf-jex",
    "outputId": "15ba4704-8e36-45ee-fdb4-87a97c10226e"
   },
   "outputs": [
    {
     "name": "stderr",
     "output_type": "stream",
     "text": [
      "[nltk_data] Downloading package punkt to /home/p1ntsu/nltk_data...\n",
      "[nltk_data]   Package punkt is already up-to-date!\n"
     ]
    },
    {
     "data": {
      "text/plain": [
       "True"
      ]
     },
     "execution_count": 5,
     "metadata": {},
     "output_type": "execute_result"
    }
   ],
   "source": [
    "nltk.download('punkt')"
   ]
  },
  {
   "cell_type": "markdown",
   "metadata": {
    "id": "EOGEPnFR1oLW"
   },
   "source": [
    "## Abertura do dataset"
   ]
  },
  {
   "cell_type": "code",
   "execution_count": 6,
   "metadata": {
    "colab": {
     "base_uri": "https://localhost:8080/",
     "height": 0
    },
    "executionInfo": {
     "elapsed": 3476,
     "status": "ok",
     "timestamp": 1607448317358,
     "user": {
      "displayName": "Lucas Migliorin Da Rosa",
      "photoUrl": "https://lh3.googleusercontent.com/a-/AOh14GiBmV9LJ9GR86LZhgmzw0IrPEj7MFgo40KUBpvH=s64",
      "userId": "00231293753892268585"
     },
     "user_tz": 240
    },
    "id": "iz3LyNRO1uCX",
    "outputId": "dc919778-0bb8-42fb-9f7e-23b5023546da"
   },
   "outputs": [
    {
     "data": {
      "text/html": [
       "<div>\n",
       "<style scoped>\n",
       "    .dataframe tbody tr th:only-of-type {\n",
       "        vertical-align: middle;\n",
       "    }\n",
       "\n",
       "    .dataframe tbody tr th {\n",
       "        vertical-align: top;\n",
       "    }\n",
       "\n",
       "    .dataframe thead th {\n",
       "        text-align: right;\n",
       "    }\n",
       "</style>\n",
       "<table border=\"1\" class=\"dataframe\">\n",
       "  <thead>\n",
       "    <tr style=\"text-align: right;\">\n",
       "      <th></th>\n",
       "      <th>Classificação (FioCruz)</th>\n",
       "      <th>Sentença</th>\n",
       "      <th>Resposta</th>\n",
       "    </tr>\n",
       "  </thead>\n",
       "  <tbody>\n",
       "    <tr>\n",
       "      <th>0</th>\n",
       "      <td>O que é ?</td>\n",
       "      <td>O que é o novo coronavírus?</td>\n",
       "      <td>Os coronavírus causam infecções respiratórias ...</td>\n",
       "    </tr>\n",
       "    <tr>\n",
       "      <th>1</th>\n",
       "      <td>O que é ?</td>\n",
       "      <td>Por que a doença causada pelo novo vírus receb...</td>\n",
       "      <td>Desde o início de fevereiro, a Organização Mun...</td>\n",
       "    </tr>\n",
       "    <tr>\n",
       "      <th>2</th>\n",
       "      <td>Boatos</td>\n",
       "      <td>A Organização Mundial de Saúde (OMS) disse que...</td>\n",
       "      <td>Não. A Organização Mundial da Saúde não disse ...</td>\n",
       "    </tr>\n",
       "    <tr>\n",
       "      <th>3</th>\n",
       "      <td>Boatos</td>\n",
       "      <td>Diante da falta de álcool gel podemos colocar ...</td>\n",
       "      <td>Preparações caseiras não possuem a certificaçã...</td>\n",
       "    </tr>\n",
       "    <tr>\n",
       "      <th>4</th>\n",
       "      <td>Boatos</td>\n",
       "      <td>Chá de abacate com hortelã, mel, uísque ou out...</td>\n",
       "      <td>Até o momento, não há nenhum medicamento, subs...</td>\n",
       "    </tr>\n",
       "  </tbody>\n",
       "</table>\n",
       "</div>"
      ],
      "text/plain": [
       "  Classificação (FioCruz)                                           Sentença  \\\n",
       "0               O que é ?                        O que é o novo coronavírus?   \n",
       "1               O que é ?  Por que a doença causada pelo novo vírus receb...   \n",
       "2                  Boatos  A Organização Mundial de Saúde (OMS) disse que...   \n",
       "3                  Boatos  Diante da falta de álcool gel podemos colocar ...   \n",
       "4                  Boatos  Chá de abacate com hortelã, mel, uísque ou out...   \n",
       "\n",
       "                                            Resposta  \n",
       "0  Os coronavírus causam infecções respiratórias ...  \n",
       "1  Desde o início de fevereiro, a Organização Mun...  \n",
       "2  Não. A Organização Mundial da Saúde não disse ...  \n",
       "3  Preparações caseiras não possuem a certificaçã...  \n",
       "4  Até o momento, não há nenhum medicamento, subs...  "
      ]
     },
     "execution_count": 6,
     "metadata": {},
     "output_type": "execute_result"
    }
   ],
   "source": [
    "with open('../DataSets/Projeto_Repositorio/repositorio.csv','r') as f:\n",
    "    df = pd.read_csv(f)\n",
    "df.head()"
   ]
  },
  {
   "cell_type": "code",
   "execution_count": 5,
   "metadata": {
    "colab": {
     "base_uri": "https://localhost:8080/"
    },
    "executionInfo": {
     "elapsed": 3471,
     "status": "ok",
     "timestamp": 1607448317360,
     "user": {
      "displayName": "Lucas Migliorin Da Rosa",
      "photoUrl": "https://lh3.googleusercontent.com/a-/AOh14GiBmV9LJ9GR86LZhgmzw0IrPEj7MFgo40KUBpvH=s64",
      "userId": "00231293753892268585"
     },
     "user_tz": 240
    },
    "id": "7aKe-bha2E_I",
    "outputId": "151e850d-83ef-4547-ca2d-ecd3d0b4cbfe"
   },
   "outputs": [
    {
     "data": {
      "text/plain": [
       "(722, 3)"
      ]
     },
     "execution_count": 5,
     "metadata": {
      "tags": []
     },
     "output_type": "execute_result"
    }
   ],
   "source": [
    "new_df = df[df['Sentença'] != 'Sentença'].copy()\n",
    "new_df.shape"
   ]
  },
  {
   "cell_type": "markdown",
   "metadata": {
    "id": "IM006pMR3pYb"
   },
   "source": [
    "## Pre-processamento do dataset"
   ]
  },
  {
   "cell_type": "code",
   "execution_count": null,
   "metadata": {
    "colab": {
     "base_uri": "https://localhost:8080/",
     "height": 206
    },
    "executionInfo": {
     "elapsed": 694,
     "status": "ok",
     "timestamp": 1606780870780,
     "user": {
      "displayName": "Lucas Migliorin Da Rosa",
      "photoUrl": "https://lh3.googleusercontent.com/a-/AOh14GiBmV9LJ9GR86LZhgmzw0IrPEj7MFgo40KUBpvH=s64",
      "userId": "00231293753892268585"
     },
     "user_tz": 240
    },
    "id": "p9-Gitxm3hmH",
    "outputId": "7d9573ac-d4ca-44d2-8bbe-d7ee600c6926"
   },
   "outputs": [
    {
     "data": {
      "text/html": [
       "<div>\n",
       "<style scoped>\n",
       "    .dataframe tbody tr th:only-of-type {\n",
       "        vertical-align: middle;\n",
       "    }\n",
       "\n",
       "    .dataframe tbody tr th {\n",
       "        vertical-align: top;\n",
       "    }\n",
       "\n",
       "    .dataframe thead th {\n",
       "        text-align: right;\n",
       "    }\n",
       "</style>\n",
       "<table border=\"1\" class=\"dataframe\">\n",
       "  <thead>\n",
       "    <tr style=\"text-align: right;\">\n",
       "      <th></th>\n",
       "      <th>pergunta</th>\n",
       "      <th>resposta</th>\n",
       "    </tr>\n",
       "  </thead>\n",
       "  <tbody>\n",
       "    <tr>\n",
       "      <th>0</th>\n",
       "      <td>O que é o novo coronavírus?</td>\n",
       "      <td>Os coronavírus causam infecções respiratórias ...</td>\n",
       "    </tr>\n",
       "    <tr>\n",
       "      <th>1</th>\n",
       "      <td>Por que a doença causada pelo novo vírus receb...</td>\n",
       "      <td>Desde o início de fevereiro, a Organização Mun...</td>\n",
       "    </tr>\n",
       "    <tr>\n",
       "      <th>2</th>\n",
       "      <td>A Organização Mundial de Saúde (OMS) disse que...</td>\n",
       "      <td>Não. A Organização Mundial da Saúde não disse ...</td>\n",
       "    </tr>\n",
       "    <tr>\n",
       "      <th>3</th>\n",
       "      <td>Diante da falta de álcool gel podemos colocar ...</td>\n",
       "      <td>Preparações caseiras não possuem a certificaçã...</td>\n",
       "    </tr>\n",
       "    <tr>\n",
       "      <th>4</th>\n",
       "      <td>Chá de abacate com hortelã, mel, uísque ou out...</td>\n",
       "      <td>Até o momento, não há nenhum medicamento, subs...</td>\n",
       "    </tr>\n",
       "  </tbody>\n",
       "</table>\n",
       "</div>"
      ],
      "text/plain": [
       "                                            pergunta                                           resposta\n",
       "0                        O que é o novo coronavírus?  Os coronavírus causam infecções respiratórias ...\n",
       "1  Por que a doença causada pelo novo vírus receb...  Desde o início de fevereiro, a Organização Mun...\n",
       "2  A Organização Mundial de Saúde (OMS) disse que...  Não. A Organização Mundial da Saúde não disse ...\n",
       "3  Diante da falta de álcool gel podemos colocar ...  Preparações caseiras não possuem a certificaçã...\n",
       "4  Chá de abacate com hortelã, mel, uísque ou out...  Até o momento, não há nenhum medicamento, subs..."
      ]
     },
     "execution_count": 6,
     "metadata": {
      "tags": []
     },
     "output_type": "execute_result"
    }
   ],
   "source": [
    "new_df.columns = ['classe','pergunta','resposta']\n",
    "new_df.drop(['classe'],axis=1,inplace=True)\n",
    "new_df.head()"
   ]
  },
  {
   "cell_type": "code",
   "execution_count": null,
   "metadata": {
    "colab": {
     "base_uri": "https://localhost:8080/"
    },
    "executionInfo": {
     "elapsed": 1077,
     "status": "ok",
     "timestamp": 1606780871169,
     "user": {
      "displayName": "Lucas Migliorin Da Rosa",
      "photoUrl": "https://lh3.googleusercontent.com/a-/AOh14GiBmV9LJ9GR86LZhgmzw0IrPEj7MFgo40KUBpvH=s64",
      "userId": "00231293753892268585"
     },
     "user_tz": 240
    },
    "id": "0R0SST1o76rY",
    "outputId": "8c13f5a4-93b9-49fd-d25e-e11fb4d7b0fb"
   },
   "outputs": [
    {
     "data": {
      "text/plain": [
       "pergunta    24\n",
       "resposta    24\n",
       "dtype: int64"
      ]
     },
     "execution_count": 7,
     "metadata": {
      "tags": []
     },
     "output_type": "execute_result"
    }
   ],
   "source": [
    "new_df.isna().sum()"
   ]
  },
  {
   "cell_type": "code",
   "execution_count": null,
   "metadata": {
    "colab": {
     "base_uri": "https://localhost:8080/",
     "height": 206
    },
    "executionInfo": {
     "elapsed": 1072,
     "status": "ok",
     "timestamp": 1606780871170,
     "user": {
      "displayName": "Lucas Migliorin Da Rosa",
      "photoUrl": "https://lh3.googleusercontent.com/a-/AOh14GiBmV9LJ9GR86LZhgmzw0IrPEj7MFgo40KUBpvH=s64",
      "userId": "00231293753892268585"
     },
     "user_tz": 240
    },
    "id": "plOApWyH8ChW",
    "outputId": "a827a11b-a76f-4518-b3b8-4a69384edb64"
   },
   "outputs": [
    {
     "data": {
      "text/html": [
       "<div>\n",
       "<style scoped>\n",
       "    .dataframe tbody tr th:only-of-type {\n",
       "        vertical-align: middle;\n",
       "    }\n",
       "\n",
       "    .dataframe tbody tr th {\n",
       "        vertical-align: top;\n",
       "    }\n",
       "\n",
       "    .dataframe thead th {\n",
       "        text-align: right;\n",
       "    }\n",
       "</style>\n",
       "<table border=\"1\" class=\"dataframe\">\n",
       "  <thead>\n",
       "    <tr style=\"text-align: right;\">\n",
       "      <th></th>\n",
       "      <th>pergunta</th>\n",
       "      <th>resposta</th>\n",
       "    </tr>\n",
       "  </thead>\n",
       "  <tbody>\n",
       "    <tr>\n",
       "      <th>0</th>\n",
       "      <td>O que é o novo coronavírus?</td>\n",
       "      <td>Os coronavírus causam infecções respiratórias ...</td>\n",
       "    </tr>\n",
       "    <tr>\n",
       "      <th>1</th>\n",
       "      <td>Por que a doença causada pelo novo vírus receb...</td>\n",
       "      <td>Desde o início de fevereiro, a Organização Mun...</td>\n",
       "    </tr>\n",
       "    <tr>\n",
       "      <th>2</th>\n",
       "      <td>A Organização Mundial de Saúde (OMS) disse que...</td>\n",
       "      <td>Não. A Organização Mundial da Saúde não disse ...</td>\n",
       "    </tr>\n",
       "    <tr>\n",
       "      <th>3</th>\n",
       "      <td>Diante da falta de álcool gel podemos colocar ...</td>\n",
       "      <td>Preparações caseiras não possuem a certificaçã...</td>\n",
       "    </tr>\n",
       "    <tr>\n",
       "      <th>4</th>\n",
       "      <td>Chá de abacate com hortelã, mel, uísque ou out...</td>\n",
       "      <td>Até o momento, não há nenhum medicamento, subs...</td>\n",
       "    </tr>\n",
       "  </tbody>\n",
       "</table>\n",
       "</div>"
      ],
      "text/plain": [
       "                                            pergunta                                           resposta\n",
       "0                        O que é o novo coronavírus?  Os coronavírus causam infecções respiratórias ...\n",
       "1  Por que a doença causada pelo novo vírus receb...  Desde o início de fevereiro, a Organização Mun...\n",
       "2  A Organização Mundial de Saúde (OMS) disse que...  Não. A Organização Mundial da Saúde não disse ...\n",
       "3  Diante da falta de álcool gel podemos colocar ...  Preparações caseiras não possuem a certificaçã...\n",
       "4  Chá de abacate com hortelã, mel, uísque ou out...  Até o momento, não há nenhum medicamento, subs..."
      ]
     },
     "execution_count": 8,
     "metadata": {
      "tags": []
     },
     "output_type": "execute_result"
    }
   ],
   "source": [
    "new_df.dropna(inplace = True)\n",
    "new_df.reset_index(inplace= True,drop=True)\n",
    "new_df.head()"
   ]
  },
  {
   "cell_type": "code",
   "execution_count": null,
   "metadata": {
    "colab": {
     "base_uri": "https://localhost:8080/",
     "height": 206
    },
    "executionInfo": {
     "elapsed": 1067,
     "status": "ok",
     "timestamp": 1606780871171,
     "user": {
      "displayName": "Lucas Migliorin Da Rosa",
      "photoUrl": "https://lh3.googleusercontent.com/a-/AOh14GiBmV9LJ9GR86LZhgmzw0IrPEj7MFgo40KUBpvH=s64",
      "userId": "00231293753892268585"
     },
     "user_tz": 240
    },
    "id": "ndWq7kKz37Ug",
    "outputId": "edf7f2ec-4e22-44a8-e447-b51dfb8a78b8"
   },
   "outputs": [
    {
     "data": {
      "text/html": [
       "<div>\n",
       "<style scoped>\n",
       "    .dataframe tbody tr th:only-of-type {\n",
       "        vertical-align: middle;\n",
       "    }\n",
       "\n",
       "    .dataframe tbody tr th {\n",
       "        vertical-align: top;\n",
       "    }\n",
       "\n",
       "    .dataframe thead th {\n",
       "        text-align: right;\n",
       "    }\n",
       "</style>\n",
       "<table border=\"1\" class=\"dataframe\">\n",
       "  <thead>\n",
       "    <tr style=\"text-align: right;\">\n",
       "      <th></th>\n",
       "      <th>pergunta</th>\n",
       "      <th>resposta</th>\n",
       "    </tr>\n",
       "  </thead>\n",
       "  <tbody>\n",
       "    <tr>\n",
       "      <th>0</th>\n",
       "      <td>o que e o novo coronavirus?</td>\n",
       "      <td>Os coronavírus causam infecções respiratórias ...</td>\n",
       "    </tr>\n",
       "    <tr>\n",
       "      <th>1</th>\n",
       "      <td>por que a doenca causada pelo novo virus receb...</td>\n",
       "      <td>Desde o início de fevereiro, a Organização Mun...</td>\n",
       "    </tr>\n",
       "    <tr>\n",
       "      <th>2</th>\n",
       "      <td>a organizacao mundial de saude (oms) disse que...</td>\n",
       "      <td>Não. A Organização Mundial da Saúde não disse ...</td>\n",
       "    </tr>\n",
       "    <tr>\n",
       "      <th>3</th>\n",
       "      <td>diante da falta de alcool gel podemos colocar ...</td>\n",
       "      <td>Preparações caseiras não possuem a certificaçã...</td>\n",
       "    </tr>\n",
       "    <tr>\n",
       "      <th>4</th>\n",
       "      <td>cha de abacate com hortela, mel, uisque ou out...</td>\n",
       "      <td>Até o momento, não há nenhum medicamento, subs...</td>\n",
       "    </tr>\n",
       "  </tbody>\n",
       "</table>\n",
       "</div>"
      ],
      "text/plain": [
       "                                            pergunta                                           resposta\n",
       "0                        o que e o novo coronavirus?  Os coronavírus causam infecções respiratórias ...\n",
       "1  por que a doenca causada pelo novo virus receb...  Desde o início de fevereiro, a Organização Mun...\n",
       "2  a organizacao mundial de saude (oms) disse que...  Não. A Organização Mundial da Saúde não disse ...\n",
       "3  diante da falta de alcool gel podemos colocar ...  Preparações caseiras não possuem a certificaçã...\n",
       "4  cha de abacate com hortela, mel, uisque ou out...  Até o momento, não há nenhum medicamento, subs..."
      ]
     },
     "execution_count": 9,
     "metadata": {
      "tags": []
     },
     "output_type": "execute_result"
    }
   ],
   "source": [
    "perguntas = new_df['pergunta']\n",
    "for i in range(perguntas.size):\n",
    "    perguntas[i] = unidecode(perguntas[i]).lower()\n",
    "new_df['pergunta'] = perguntas\n",
    "new_df.head()"
   ]
  },
  {
   "cell_type": "code",
   "execution_count": null,
   "metadata": {
    "colab": {
     "base_uri": "https://localhost:8080/"
    },
    "executionInfo": {
     "elapsed": 1452,
     "status": "ok",
     "timestamp": 1606780871561,
     "user": {
      "displayName": "Lucas Migliorin Da Rosa",
      "photoUrl": "https://lh3.googleusercontent.com/a-/AOh14GiBmV9LJ9GR86LZhgmzw0IrPEj7MFgo40KUBpvH=s64",
      "userId": "00231293753892268585"
     },
     "user_tz": 240
    },
    "id": "52CM4EOgcRkt",
    "outputId": "be261745-13ae-4b65-e689-e0983b2b807b"
   },
   "outputs": [
    {
     "name": "stdout",
     "output_type": "stream",
     "text": [
      "Dados duplicados: 133\n",
      "Shape dataset: (565, 2)\n"
     ]
    }
   ],
   "source": [
    "print((\"Dados duplicados: %d\")%(new_df.duplicated(['pergunta']).sum()))\n",
    "new_df.drop_duplicates(['pergunta'],inplace=True)\n",
    "new_df.reset_index(inplace= True,drop = True)\n",
    "print(\"Shape dataset: {}\".format(new_df.shape))"
   ]
  },
  {
   "cell_type": "markdown",
   "metadata": {
    "id": "nc_5l1cc1o8L"
   },
   "source": [
    "### Salvando dataset\n"
   ]
  },
  {
   "cell_type": "code",
   "execution_count": null,
   "metadata": {
    "id": "06HgJN0n400w"
   },
   "outputs": [],
   "source": [
    "new_df.to_csv('../DataSets/Projeto_Repositorio/repositorio_projeto.csv')"
   ]
  },
  {
   "cell_type": "markdown",
   "metadata": {
    "id": "y8B1VBfo2C8d"
   },
   "source": [
    "### Abrindo dataset"
   ]
  },
  {
   "cell_type": "code",
   "execution_count": 8,
   "metadata": {
    "executionInfo": {
     "elapsed": 1085,
     "status": "ok",
     "timestamp": 1607448366283,
     "user": {
      "displayName": "Lucas Migliorin Da Rosa",
      "photoUrl": "https://lh3.googleusercontent.com/a-/AOh14GiBmV9LJ9GR86LZhgmzw0IrPEj7MFgo40KUBpvH=s64",
      "userId": "00231293753892268585"
     },
     "user_tz": 240
    },
    "id": "U8Ib0plL2Iq5"
   },
   "outputs": [],
   "source": [
    "new_df = pd.read_csv('../DataSets/Projeto_Repositorio/repositorio_projeto.csv')"
   ]
  },
  {
   "cell_type": "code",
   "execution_count": 9,
   "metadata": {
    "executionInfo": {
     "elapsed": 1461,
     "status": "ok",
     "timestamp": 1607448366664,
     "user": {
      "displayName": "Lucas Migliorin Da Rosa",
      "photoUrl": "https://lh3.googleusercontent.com/a-/AOh14GiBmV9LJ9GR86LZhgmzw0IrPEj7MFgo40KUBpvH=s64",
      "userId": "00231293753892268585"
     },
     "user_tz": 240
    },
    "id": "9WYrIMR6NuCI"
   },
   "outputs": [],
   "source": [
    "perguntas = new_df['pergunta']"
   ]
  },
  {
   "cell_type": "code",
   "execution_count": 10,
   "metadata": {
    "executionInfo": {
     "elapsed": 2420,
     "status": "ok",
     "timestamp": 1607448367628,
     "user": {
      "displayName": "Lucas Migliorin Da Rosa",
      "photoUrl": "https://lh3.googleusercontent.com/a-/AOh14GiBmV9LJ9GR86LZhgmzw0IrPEj7MFgo40KUBpvH=s64",
      "userId": "00231293753892268585"
     },
     "user_tz": 240
    },
    "id": "4LPwqQ5e4JM0"
   },
   "outputs": [
    {
     "name": "stderr",
     "output_type": "stream",
     "text": [
      "<ipython-input-10-c46f98ed8fea>:9: VisibleDeprecationWarning: Creating an ndarray from ragged nested sequences (which is a list-or-tuple of lists-or-tuples-or ndarrays with different lengths or shapes) is deprecated. If you meant to do this, you must specify 'dtype=object' when creating the ndarray\n",
      "  document = np.array(document)\n"
     ]
    }
   ],
   "source": [
    "document = []\n",
    "for pergunta,i in zip(perguntas,range(perguntas.size)):\n",
    "    try:\n",
    "        tokens = nltk.word_tokenize(pergunta,language = 'portuguese')\n",
    "        tokens = [w for w in tokens if not w in string.punctuation]\n",
    "        document.append(tokens)\n",
    "    except:\n",
    "        print(pergunta, i)\n",
    "document = np.array(document)"
   ]
  },
  {
   "cell_type": "markdown",
   "metadata": {
    "id": "P21vlgkI0VVQ"
   },
   "source": [
    "## Salvando amostra"
   ]
  },
  {
   "cell_type": "code",
   "execution_count": null,
   "metadata": {
    "id": "Fv7xcd9r55B1"
   },
   "outputs": [],
   "source": [
    "sample = np.random.choice(document,size=50,replace=False)"
   ]
  },
  {
   "cell_type": "code",
   "execution_count": null,
   "metadata": {
    "id": "Ytlmja3GGIK4"
   },
   "outputs": [],
   "source": [
    "with open('../DataSets/Projeto_Repositorio/Amostra/amostra.json','w') as outfile:\n",
    "    json.dump(sample,outfile)"
   ]
  },
  {
   "cell_type": "markdown",
   "metadata": {
    "id": "iml7gpcw00VT"
   },
   "source": [
    "## Abrindo amostra\n"
   ]
  },
  {
   "cell_type": "code",
   "execution_count": 7,
   "metadata": {
    "executionInfo": {
     "elapsed": 1067,
     "status": "ok",
     "timestamp": 1607448323237,
     "user": {
      "displayName": "Lucas Migliorin Da Rosa",
      "photoUrl": "https://lh3.googleusercontent.com/a-/AOh14GiBmV9LJ9GR86LZhgmzw0IrPEj7MFgo40KUBpvH=s64",
      "userId": "00231293753892268585"
     },
     "user_tz": 240
    },
    "id": "zh2FLKNU04iF"
   },
   "outputs": [],
   "source": [
    "with open('../DataSets/Projeto_Repositorio/Amostra/amostra.json','r') as f:\n",
    "    sample = json.load(f)"
   ]
  },
  {
   "cell_type": "markdown",
   "metadata": {
    "id": "iaj5YrS59BK7"
   },
   "source": [
    "## Utilizando BM25"
   ]
  },
  {
   "cell_type": "code",
   "execution_count": 11,
   "metadata": {
    "executionInfo": {
     "elapsed": 1040,
     "status": "ok",
     "timestamp": 1607448380383,
     "user": {
      "displayName": "Lucas Migliorin Da Rosa",
      "photoUrl": "https://lh3.googleusercontent.com/a-/AOh14GiBmV9LJ9GR86LZhgmzw0IrPEj7MFgo40KUBpvH=s64",
      "userId": "00231293753892268585"
     },
     "user_tz": 240
    },
    "id": "GikC9tvPEGIe"
   },
   "outputs": [],
   "source": [
    "bm25 = BM25(document)\n",
    "#bm25 = BM25Okapi(document)"
   ]
  },
  {
   "cell_type": "code",
   "execution_count": 14,
   "metadata": {
    "colab": {
     "base_uri": "https://localhost:8080/"
    },
    "executionInfo": {
     "elapsed": 1048,
     "status": "ok",
     "timestamp": 1607448382637,
     "user": {
      "displayName": "Lucas Migliorin Da Rosa",
      "photoUrl": "https://lh3.googleusercontent.com/a-/AOh14GiBmV9LJ9GR86LZhgmzw0IrPEj7MFgo40KUBpvH=s64",
      "userId": "00231293753892268585"
     },
     "user_tz": 240
    },
    "id": "kTXWA_KK6l7n",
    "outputId": "f82b6329-8cb5-4ce7-dbcb-768334260605"
   },
   "outputs": [
    {
     "name": "stdout",
     "output_type": "stream",
     "text": [
      "Query: o que sao coronavirus? \n",
      "\n",
      "Pergunta: o que sao testes rapidos (igm/igg)? | Score BM25: 4.49\n",
      "Pergunta: o que sao os testes rapidos? | Score BM25: 4.49\n",
      "Pergunta: o que sao testes rt- pcr? | Score BM25: 4.49\n",
      "Pergunta: quais sao as complicacoes do novo coronavirus? | Score BM25: 4.42\n"
     ]
    }
   ],
   "source": [
    "posicao =  1\n",
    "try:\n",
    "    query = sample[posicao]\n",
    "    print('Query:',\" \".join(query) + '?','\\n')\n",
    "    score = bm25.get_scores(query)\n",
    "    top_n = np.argsort(score)[::-1][2:6] # Apresentar as 3 melhores assimilações\n",
    "    for i in top_n:\n",
    "        print(\"Pergunta: {} | Score BM25: {:.2f}\".format(perguntas[i],score[i])) # Print da pergunta similiar e o score do BM25\n",
    "except:\n",
    "    print(\"Posicao invalida\")"
   ]
  },
  {
   "cell_type": "markdown",
   "metadata": {
    "id": "tFooN70s2wLp"
   },
   "source": [
    "### Analise de metricas"
   ]
  },
  {
   "cell_type": "code",
   "execution_count": 15,
   "metadata": {
    "colab": {
     "base_uri": "https://localhost:8080/",
     "height": 276
    },
    "executionInfo": {
     "elapsed": 2960,
     "status": "ok",
     "timestamp": 1607448492332,
     "user": {
      "displayName": "Lucas Migliorin Da Rosa",
      "photoUrl": "https://lh3.googleusercontent.com/a-/AOh14GiBmV9LJ9GR86LZhgmzw0IrPEj7MFgo40KUBpvH=s64",
      "userId": "00231293753892268585"
     },
     "user_tz": 240
    },
    "id": "3Y8z2MoH3RKl",
    "outputId": "2b92972d-8e76-479d-9091-9505eb0236fb"
   },
   "outputs": [
    {
     "data": {
      "text/html": [
       "<div>\n",
       "<style scoped>\n",
       "    .dataframe tbody tr th:only-of-type {\n",
       "        vertical-align: middle;\n",
       "    }\n",
       "\n",
       "    .dataframe tbody tr th {\n",
       "        vertical-align: top;\n",
       "    }\n",
       "\n",
       "    .dataframe thead th {\n",
       "        text-align: right;\n",
       "    }\n",
       "</style>\n",
       "<table border=\"1\" class=\"dataframe\">\n",
       "  <thead>\n",
       "    <tr style=\"text-align: right;\">\n",
       "      <th></th>\n",
       "      <th>pergunta</th>\n",
       "      <th>assimilacao_um</th>\n",
       "      <th>nota_um</th>\n",
       "      <th>assimilacao_dois</th>\n",
       "      <th>nota_dois</th>\n",
       "      <th>assimilacao_tres</th>\n",
       "      <th>nota_tres</th>\n",
       "    </tr>\n",
       "  </thead>\n",
       "  <tbody>\n",
       "    <tr>\n",
       "      <th>0</th>\n",
       "      <td>quais sao os sintomas do novo coronavirus?</td>\n",
       "      <td>quais os sintomas do coronavirus?</td>\n",
       "      <td>100</td>\n",
       "      <td>quais sao os sintomas?</td>\n",
       "      <td>100</td>\n",
       "      <td>quais sao as complicacoes do novo coronavirus?</td>\n",
       "      <td>75</td>\n",
       "    </tr>\n",
       "    <tr>\n",
       "      <th>1</th>\n",
       "      <td>o que sao coronavirus?</td>\n",
       "      <td>o que e o novo coronavirus?</td>\n",
       "      <td>100</td>\n",
       "      <td>o que sao os coronavirus?</td>\n",
       "      <td>100</td>\n",
       "      <td>o que e covid-19?</td>\n",
       "      <td>100</td>\n",
       "    </tr>\n",
       "    <tr>\n",
       "      <th>2</th>\n",
       "      <td>qual o plano da secretaria da saude para monit...</td>\n",
       "      <td>como a rede municipal de saude se preparou par...</td>\n",
       "      <td>60</td>\n",
       "      <td>qual a orientacao para os profissionais da sau...</td>\n",
       "      <td>0</td>\n",
       "      <td>o ministerio da saude tem uma plataforma para ...</td>\n",
       "      <td>80</td>\n",
       "    </tr>\n",
       "    <tr>\n",
       "      <th>3</th>\n",
       "      <td>quem precisa ficar em isolamento?</td>\n",
       "      <td>casos suspeitos tem sido mantidos em isolament...</td>\n",
       "      <td>60</td>\n",
       "      <td>o que significa isolamento domiciliar?</td>\n",
       "      <td>10</td>\n",
       "      <td>que cuidados devo ter se estiver em isolamento?</td>\n",
       "      <td>0</td>\n",
       "    </tr>\n",
       "    <tr>\n",
       "      <th>4</th>\n",
       "      <td>como e feito o diagnostico do covid-19?</td>\n",
       "      <td>como e feito o diagnostico da covid-19?</td>\n",
       "      <td>100</td>\n",
       "      <td>como e feito o diagnostico?</td>\n",
       "      <td>100</td>\n",
       "      <td>como e feito o tratamento contra o coronavirus?</td>\n",
       "      <td>0</td>\n",
       "    </tr>\n",
       "  </tbody>\n",
       "</table>\n",
       "</div>"
      ],
      "text/plain": [
       "                                            pergunta  \\\n",
       "0         quais sao os sintomas do novo coronavirus?   \n",
       "1                             o que sao coronavirus?   \n",
       "2  qual o plano da secretaria da saude para monit...   \n",
       "3                 quem precisa ficar em isolamento?    \n",
       "4            como e feito o diagnostico do covid-19?   \n",
       "\n",
       "                                      assimilacao_um  nota_um  \\\n",
       "0                  quais os sintomas do coronavirus?      100   \n",
       "1                        o que e o novo coronavirus?      100   \n",
       "2  como a rede municipal de saude se preparou par...       60   \n",
       "3  casos suspeitos tem sido mantidos em isolament...       60   \n",
       "4            como e feito o diagnostico da covid-19?      100   \n",
       "\n",
       "                                    assimilacao_dois  nota_dois  \\\n",
       "0                             quais sao os sintomas?        100   \n",
       "1                          o que sao os coronavirus?        100   \n",
       "2  qual a orientacao para os profissionais da sau...          0   \n",
       "3             o que significa isolamento domiciliar?         10   \n",
       "4                        como e feito o diagnostico?        100   \n",
       "\n",
       "                                    assimilacao_tres  nota_tres  \n",
       "0     quais sao as complicacoes do novo coronavirus?         75  \n",
       "1                                  o que e covid-19?        100  \n",
       "2  o ministerio da saude tem uma plataforma para ...         80  \n",
       "3    que cuidados devo ter se estiver em isolamento?          0  \n",
       "4    como e feito o tratamento contra o coronavirus?          0  "
      ]
     },
     "execution_count": 15,
     "metadata": {},
     "output_type": "execute_result"
    }
   ],
   "source": [
    "df_avaliado = pd.read_csv('../DataSets/Projeto_Repositorio/repositorio_avaliado_v2.csv')\n",
    "df_avaliado.head()"
   ]
  },
  {
   "cell_type": "code",
   "execution_count": 16,
   "metadata": {
    "colab": {
     "base_uri": "https://localhost:8080/"
    },
    "executionInfo": {
     "elapsed": 2032,
     "status": "ok",
     "timestamp": 1607448495238,
     "user": {
      "displayName": "Lucas Migliorin Da Rosa",
      "photoUrl": "https://lh3.googleusercontent.com/a-/AOh14GiBmV9LJ9GR86LZhgmzw0IrPEj7MFgo40KUBpvH=s64",
      "userId": "00231293753892268585"
     },
     "user_tz": 240
    },
    "id": "3AzpGGV4g2m4",
    "outputId": "a543f512-990b-4f50-be05-b2d6573feed4"
   },
   "outputs": [
    {
     "name": "stdout",
     "output_type": "stream",
     "text": [
      "Media 1: 56.7 +- 40.46\n",
      "Media 2: 40.26 +- 42.96\n",
      "Media 3: 25.1 +- 37.78\n",
      "Media geral: 40.69\n"
     ]
    }
   ],
   "source": [
    "media_um = df_avaliado['nota_um'].mean()\n",
    "desvio_um = df_avaliado['nota_um'].std()\n",
    "media_dois = df_avaliado['nota_dois'].mean()\n",
    "desvio_dois = df_avaliado['nota_dois'].std()\n",
    "media_tres = df_avaliado['nota_tres'].mean()\n",
    "desvio_tres = df_avaliado['nota_tres'].std()\n",
    "print(\"Media 1: {} +- {:.2f}\\nMedia 2: {} +- {:.2f}\\nMedia 3: {} +- {:.2f}\".format(media_um,desvio_um,media_dois,desvio_dois,media_tres,desvio_tres))\n",
    "print(\"Media geral: {:.2f}\".format(np.array([media_um,media_dois,media_tres]).mean()))"
   ]
  },
  {
   "cell_type": "code",
   "execution_count": 17,
   "metadata": {
    "executionInfo": {
     "elapsed": 1032,
     "status": "ok",
     "timestamp": 1607448500355,
     "user": {
      "displayName": "Lucas Migliorin Da Rosa",
      "photoUrl": "https://lh3.googleusercontent.com/a-/AOh14GiBmV9LJ9GR86LZhgmzw0IrPEj7MFgo40KUBpvH=s64",
      "userId": "00231293753892268585"
     },
     "user_tz": 240
    },
    "id": "FtTW7PBCzhXk"
   },
   "outputs": [],
   "source": [
    "df_avaliado.drop(['pergunta','assimilacao_um','assimilacao_dois','assimilacao_tres'],axis = 1,inplace = True)"
   ]
  },
  {
   "cell_type": "code",
   "execution_count": 18,
   "metadata": {
    "executionInfo": {
     "elapsed": 1747,
     "status": "ok",
     "timestamp": 1607448502873,
     "user": {
      "displayName": "Lucas Migliorin Da Rosa",
      "photoUrl": "https://lh3.googleusercontent.com/a-/AOh14GiBmV9LJ9GR86LZhgmzw0IrPEj7MFgo40KUBpvH=s64",
      "userId": "00231293753892268585"
     },
     "user_tz": 240
    },
    "id": "oafthyZAj5_U"
   },
   "outputs": [],
   "source": [
    "descriminante = 0 # Qualquer valor maior que... \n",
    "matrix_avaliacao = np.zeros(df_avaliado.shape,dtype = int)\n",
    "matrix_cumali = np.zeros(df_avaliado.shape,dtype=int) # Cumulative Gain@k (CG@k)\n",
    "matrix_disc_cumali = np.zeros(df_avaliado.shape) # Discounted Cumulative Gain@k (DCG@k)\n",
    "matrix_disc_i_cumali = np.zeros(df_avaliado.shape) # Ideal Discounted Cumulative Gain@k (IDCG@k)\n",
    "df_array = df_avaliado.values\n",
    "for posi in range(df_array.shape[0]):\n",
    "    soma_cg = 0\n",
    "    soma_dcg = 0\n",
    "    soma_idcg = 0\n",
    "    sorted_matrix = np.sort(df_array[posi])[::-1]\n",
    "    for posi_interno in range(df_array[posi].size):\n",
    "\n",
    "        #----------------------------------------------#\n",
    "        if(df_array[posi][posi_interno] > descriminante):\n",
    "            matrix_avaliacao[posi][posi_interno] = 1\n",
    "        #----------------------------------------------#\n",
    "\n",
    "        #----------------------------------------------#\n",
    "        soma_cg += df_array[posi][posi_interno]\n",
    "        matrix_cumali[posi][posi_interno] = soma_cg # (CG@k)\n",
    "\n",
    "        #----------------------------------------------#\n",
    "        soma_dcg += (df_array[posi][posi_interno]/np.log2(posi_interno + 2))\n",
    "        matrix_disc_cumali[posi][posi_interno] = soma_dcg # (DCG@k)\n",
    "\n",
    "        #----------------------------------------------#\n",
    "        soma_idcg += (sorted_matrix[posi_interno]/np.log2(posi_interno + 2))\n",
    "        matrix_disc_i_cumali[posi][posi_interno] = soma_idcg # (IDCG@k)\n",
    "      \n",
    "    "
   ]
  },
  {
   "cell_type": "code",
   "execution_count": 19,
   "metadata": {
    "executionInfo": {
     "elapsed": 999,
     "status": "ok",
     "timestamp": 1607448505831,
     "user": {
      "displayName": "Lucas Migliorin Da Rosa",
      "photoUrl": "https://lh3.googleusercontent.com/a-/AOh14GiBmV9LJ9GR86LZhgmzw0IrPEj7MFgo40KUBpvH=s64",
      "userId": "00231293753892268585"
     },
     "user_tz": 240
    },
    "id": "l9hg8R2dkntf"
   },
   "outputs": [],
   "source": [
    "matrix_pre = np.zeros(df_avaliado.shape) # precision@k\n",
    "matrix_recall = np.zeros(df_avaliado.shape) # recall@k\n",
    "for posi in range(matrix_avaliacao.shape[0]):\n",
    "    soma = matrix_avaliacao[posi].sum()\n",
    "    if(soma != 0):\n",
    "        tp = 0\n",
    "        fp = 0\n",
    "        for i,j in zip(matrix_avaliacao[posi],range(matrix_avaliacao[posi].size)):\n",
    "            if(i == 1):\n",
    "                tp += 1\n",
    "                matrix_pre[posi][j] = round((tp/(tp+fp)),2)\n",
    "                matrix_recall[posi][j] = round((tp/soma),2)\n",
    "            else:\n",
    "                fp += 1\n",
    "                matrix_pre[posi][j] = round((tp/(tp+fp)),2)\n",
    "                matrix_recall[posi][j] = round((tp/soma),2)"
   ]
  },
  {
   "cell_type": "code",
   "execution_count": 20,
   "metadata": {
    "executionInfo": {
     "elapsed": 1310,
     "status": "ok",
     "timestamp": 1607448508715,
     "user": {
      "displayName": "Lucas Migliorin Da Rosa",
      "photoUrl": "https://lh3.googleusercontent.com/a-/AOh14GiBmV9LJ9GR86LZhgmzw0IrPEj7MFgo40KUBpvH=s64",
      "userId": "00231293753892268585"
     },
     "user_tz": 240
    },
    "id": "hEgWnjNGrkat"
   },
   "outputs": [],
   "source": [
    "matrix_ap = np.zeros(df_avaliado.shape[0]) # average precision\n",
    "for posi in range(matrix_avaliacao.shape[0]):\n",
    "    soma = 0\n",
    "    for i in range(matrix_avaliacao[posi].size):\n",
    "        if(matrix_avaliacao[posi][i] == 1):\n",
    "            soma += matrix_pre[posi][i]\n",
    "    matrix_ap[posi] = round((soma/matrix_avaliacao[posi].size),2)\n"
   ]
  },
  {
   "cell_type": "code",
   "execution_count": 21,
   "metadata": {
    "executionInfo": {
     "elapsed": 1078,
     "status": "ok",
     "timestamp": 1607448510661,
     "user": {
      "displayName": "Lucas Migliorin Da Rosa",
      "photoUrl": "https://lh3.googleusercontent.com/a-/AOh14GiBmV9LJ9GR86LZhgmzw0IrPEj7MFgo40KUBpvH=s64",
      "userId": "00231293753892268585"
     },
     "user_tz": 240
    },
    "id": "JIxJdsDa8-2t"
   },
   "outputs": [],
   "source": [
    "matrix_ndgc = np.zeros(df_avaliado.shape) # Normalized Discounted Cumulative Gain\n",
    "for posi in range(matrix_ndgc.shape[0]):\n",
    "    for posi_interno in range(matrix_ndgc.shape[1]):\n",
    "        if(matrix_disc_i_cumali[posi][posi_interno] != 0):\n",
    "            matrix_ndgc[posi][posi_interno] = round((matrix_disc_cumali[posi][posi_interno]/matrix_disc_i_cumali[posi][posi_interno]),2)"
   ]
  },
  {
   "cell_type": "code",
   "execution_count": 22,
   "metadata": {
    "colab": {
     "base_uri": "https://localhost:8080/"
    },
    "executionInfo": {
     "elapsed": 1650,
     "status": "ok",
     "timestamp": 1607448513010,
     "user": {
      "displayName": "Lucas Migliorin Da Rosa",
      "photoUrl": "https://lh3.googleusercontent.com/a-/AOh14GiBmV9LJ9GR86LZhgmzw0IrPEj7MFgo40KUBpvH=s64",
      "userId": "00231293753892268585"
     },
     "user_tz": 240
    },
    "id": "ccS8xqt3thD_",
    "outputId": "47547135-d465-48b6-f029-49b829e1e443"
   },
   "outputs": [
    {
     "name": "stdout",
     "output_type": "stream",
     "text": [
      "MAP: 0.56 +- 0.34\n"
     ]
    }
   ],
   "source": [
    "MAP = matrix_ap.mean() # mean average precision\n",
    "MAP_std = matrix_ap.std() # mean average precision std\n",
    "print(\"MAP: {:.2f} +- {:.2f}\".format(MAP,MAP_std))"
   ]
  },
  {
   "cell_type": "code",
   "execution_count": 23,
   "metadata": {
    "colab": {
     "base_uri": "https://localhost:8080/",
     "height": 206
    },
    "executionInfo": {
     "elapsed": 1095,
     "status": "ok",
     "timestamp": 1607448515115,
     "user": {
      "displayName": "Lucas Migliorin Da Rosa",
      "photoUrl": "https://lh3.googleusercontent.com/a-/AOh14GiBmV9LJ9GR86LZhgmzw0IrPEj7MFgo40KUBpvH=s64",
      "userId": "00231293753892268585"
     },
     "user_tz": 240
    },
    "id": "-yA2FozBwvvg",
    "outputId": "e6f0e051-58c2-4df8-f482-01861bb7c578"
   },
   "outputs": [
    {
     "data": {
      "text/html": [
       "<div>\n",
       "<style scoped>\n",
       "    .dataframe tbody tr th:only-of-type {\n",
       "        vertical-align: middle;\n",
       "    }\n",
       "\n",
       "    .dataframe tbody tr th {\n",
       "        vertical-align: top;\n",
       "    }\n",
       "\n",
       "    .dataframe thead th {\n",
       "        text-align: right;\n",
       "    }\n",
       "</style>\n",
       "<table border=\"1\" class=\"dataframe\">\n",
       "  <thead>\n",
       "    <tr style=\"text-align: right;\">\n",
       "      <th></th>\n",
       "      <th>N@1</th>\n",
       "      <th>N@2</th>\n",
       "      <th>N@3</th>\n",
       "    </tr>\n",
       "  </thead>\n",
       "  <tbody>\n",
       "    <tr>\n",
       "      <th>0</th>\n",
       "      <td>1.00</td>\n",
       "      <td>1.00</td>\n",
       "      <td>1.00</td>\n",
       "    </tr>\n",
       "    <tr>\n",
       "      <th>1</th>\n",
       "      <td>1.00</td>\n",
       "      <td>1.00</td>\n",
       "      <td>1.00</td>\n",
       "    </tr>\n",
       "    <tr>\n",
       "      <th>2</th>\n",
       "      <td>0.75</td>\n",
       "      <td>0.51</td>\n",
       "      <td>0.85</td>\n",
       "    </tr>\n",
       "    <tr>\n",
       "      <th>3</th>\n",
       "      <td>1.00</td>\n",
       "      <td>1.00</td>\n",
       "      <td>1.00</td>\n",
       "    </tr>\n",
       "    <tr>\n",
       "      <th>4</th>\n",
       "      <td>1.00</td>\n",
       "      <td>1.00</td>\n",
       "      <td>1.00</td>\n",
       "    </tr>\n",
       "  </tbody>\n",
       "</table>\n",
       "</div>"
      ],
      "text/plain": [
       "    N@1   N@2   N@3\n",
       "0  1.00  1.00  1.00\n",
       "1  1.00  1.00  1.00\n",
       "2  0.75  0.51  0.85\n",
       "3  1.00  1.00  1.00\n",
       "4  1.00  1.00  1.00"
      ]
     },
     "execution_count": 23,
     "metadata": {},
     "output_type": "execute_result"
    }
   ],
   "source": [
    "df_ndgc = pd.DataFrame(matrix_ndgc,columns=['N@1','N@2','N@3'])\n",
    "df_ndgc.head()"
   ]
  },
  {
   "cell_type": "code",
   "execution_count": 24,
   "metadata": {
    "colab": {
     "base_uri": "https://localhost:8080/",
     "height": 81
    },
    "executionInfo": {
     "elapsed": 1005,
     "status": "ok",
     "timestamp": 1607448519294,
     "user": {
      "displayName": "Lucas Migliorin Da Rosa",
      "photoUrl": "https://lh3.googleusercontent.com/a-/AOh14GiBmV9LJ9GR86LZhgmzw0IrPEj7MFgo40KUBpvH=s64",
      "userId": "00231293753892268585"
     },
     "user_tz": 240
    },
    "id": "8r1vwQ7PitQs",
    "outputId": "1641851e-9538-4833-8be3-0717e584a6f8"
   },
   "outputs": [
    {
     "data": {
      "text/html": [
       "<div>\n",
       "<style scoped>\n",
       "    .dataframe tbody tr th:only-of-type {\n",
       "        vertical-align: middle;\n",
       "    }\n",
       "\n",
       "    .dataframe tbody tr th {\n",
       "        vertical-align: top;\n",
       "    }\n",
       "\n",
       "    .dataframe thead th {\n",
       "        text-align: right;\n",
       "    }\n",
       "</style>\n",
       "<table border=\"1\" class=\"dataframe\">\n",
       "  <thead>\n",
       "    <tr style=\"text-align: right;\">\n",
       "      <th></th>\n",
       "      <th>MAP</th>\n",
       "      <th>N@1</th>\n",
       "      <th>N@2</th>\n",
       "      <th>N@3</th>\n",
       "    </tr>\n",
       "  </thead>\n",
       "  <tbody>\n",
       "    <tr>\n",
       "      <th>BM25</th>\n",
       "      <td>0.5596</td>\n",
       "      <td>0.7488</td>\n",
       "      <td>0.7742</td>\n",
       "      <td>0.8332</td>\n",
       "    </tr>\n",
       "  </tbody>\n",
       "</table>\n",
       "</div>"
      ],
      "text/plain": [
       "         MAP     N@1     N@2     N@3\n",
       "BM25  0.5596  0.7488  0.7742  0.8332"
      ]
     },
     "execution_count": 24,
     "metadata": {},
     "output_type": "execute_result"
    }
   ],
   "source": [
    "dici = {'MAP': [round(MAP,4)], 'N@1' : [round(df_ndgc['N@1'].mean(),4)], 'N@2' : [round(df_ndgc['N@2'].mean(),4)], 'N@3' : [round(df_ndgc['N@3'].mean(),4)]}\n",
    "new_df_ndgc = pd.DataFrame(dici,index=['BM25'])\n",
    "new_df_ndgc"
   ]
  },
  {
   "cell_type": "code",
   "execution_count": 29,
   "metadata": {
    "executionInfo": {
     "elapsed": 1478,
     "status": "ok",
     "timestamp": 1607448525688,
     "user": {
      "displayName": "Lucas Migliorin Da Rosa",
      "photoUrl": "https://lh3.googleusercontent.com/a-/AOh14GiBmV9LJ9GR86LZhgmzw0IrPEj7MFgo40KUBpvH=s64",
      "userId": "00231293753892268585"
     },
     "user_tz": 240
    },
    "id": "1EPbfXoPqbcC"
   },
   "outputs": [],
   "source": [
    "new_df_ndgc.to_csv('../Tabelas/metricas_bm25.csv')"
   ]
  },
  {
   "cell_type": "code",
   "execution_count": 30,
   "metadata": {
    "executionInfo": {
     "elapsed": 684,
     "status": "ok",
     "timestamp": 1607449218086,
     "user": {
      "displayName": "Lucas Migliorin Da Rosa",
      "photoUrl": "https://lh3.googleusercontent.com/a-/AOh14GiBmV9LJ9GR86LZhgmzw0IrPEj7MFgo40KUBpvH=s64",
      "userId": "00231293753892268585"
     },
     "user_tz": 240
    },
    "id": "Oxu4OWZQbKUm"
   },
   "outputs": [],
   "source": [
    "new_df_ndgc.to_latex('../Tabelas/metricas_bm25.tex')"
   ]
  },
  {
   "cell_type": "markdown",
   "metadata": {
    "id": "VI7DQsu-A5ld"
   },
   "source": [
    "### Correcao manual valores nulos "
   ]
  },
  {
   "cell_type": "code",
   "execution_count": 25,
   "metadata": {
    "colab": {
     "base_uri": "https://localhost:8080/",
     "height": 293
    },
    "executionInfo": {
     "elapsed": 767,
     "status": "ok",
     "timestamp": 1607047783523,
     "user": {
      "displayName": "Lucas Migliorin Da Rosa",
      "photoUrl": "https://lh3.googleusercontent.com/a-/AOh14GiBmV9LJ9GR86LZhgmzw0IrPEj7MFgo40KUBpvH=s64",
      "userId": "00231293753892268585"
     },
     "user_tz": 240
    },
    "id": "x1Kr7jkP4fR9",
    "outputId": "eb7f2ff1-368a-43c0-d6bb-272389aeaf8d"
   },
   "outputs": [
    {
     "data": {
      "text/html": [
       "<div>\n",
       "<style scoped>\n",
       "    .dataframe tbody tr th:only-of-type {\n",
       "        vertical-align: middle;\n",
       "    }\n",
       "\n",
       "    .dataframe tbody tr th {\n",
       "        vertical-align: top;\n",
       "    }\n",
       "\n",
       "    .dataframe thead th {\n",
       "        text-align: right;\n",
       "    }\n",
       "</style>\n",
       "<table border=\"1\" class=\"dataframe\">\n",
       "  <thead>\n",
       "    <tr style=\"text-align: right;\">\n",
       "      <th></th>\n",
       "      <th>nota_um</th>\n",
       "      <th>nota_dois</th>\n",
       "      <th>nota_tres</th>\n",
       "    </tr>\n",
       "  </thead>\n",
       "  <tbody>\n",
       "    <tr>\n",
       "      <th>11</th>\n",
       "      <td>0</td>\n",
       "      <td>0</td>\n",
       "      <td>0</td>\n",
       "    </tr>\n",
       "    <tr>\n",
       "      <th>20</th>\n",
       "      <td>0</td>\n",
       "      <td>0</td>\n",
       "      <td>0</td>\n",
       "    </tr>\n",
       "    <tr>\n",
       "      <th>29</th>\n",
       "      <td>0</td>\n",
       "      <td>0</td>\n",
       "      <td>0</td>\n",
       "    </tr>\n",
       "    <tr>\n",
       "      <th>35</th>\n",
       "      <td>0</td>\n",
       "      <td>0</td>\n",
       "      <td>0</td>\n",
       "    </tr>\n",
       "    <tr>\n",
       "      <th>36</th>\n",
       "      <td>0</td>\n",
       "      <td>0</td>\n",
       "      <td>0</td>\n",
       "    </tr>\n",
       "  </tbody>\n",
       "</table>\n",
       "</div>"
      ],
      "text/plain": [
       "    nota_um  nota_dois  nota_tres\n",
       "11        0          0          0\n",
       "20        0          0          0\n",
       "29        0          0          0\n",
       "35        0          0          0\n",
       "36        0          0          0"
      ]
     },
     "execution_count": 25,
     "metadata": {},
     "output_type": "execute_result"
    }
   ],
   "source": [
    "df_avaliado = df_avaliado[df_avaliado['nota_um'] == 0]\n",
    "df_avaliado = df_avaliado[df_avaliado['nota_dois'] == 0]\n",
    "df_avaliado = df_avaliado[df_avaliado['nota_tres'] == 0]\n",
    "df_avaliado.head()"
   ]
  },
  {
   "cell_type": "code",
   "execution_count": 26,
   "metadata": {
    "colab": {
     "base_uri": "https://localhost:8080/"
    },
    "executionInfo": {
     "elapsed": 797,
     "status": "ok",
     "timestamp": 1606521620085,
     "user": {
      "displayName": "Lucas Migliorin Da Rosa",
      "photoUrl": "https://lh3.googleusercontent.com/a-/AOh14GiBmV9LJ9GR86LZhgmzw0IrPEj7MFgo40KUBpvH=s64",
      "userId": "00231293753892268585"
     },
     "user_tz": 240
    },
    "id": "XC5COXlvJYQT",
    "outputId": "ad93dfa1-952e-44fb-ed3b-bc90a518b328"
   },
   "outputs": [
    {
     "name": "stdout",
     "output_type": "stream",
     "text": [
      "Tamanho do DF avaliado: 5\n"
     ]
    }
   ],
   "source": [
    "print(\"Tamanho do DF avaliado: {}\".format(df_avaliado.shape[0]))"
   ]
  },
  {
   "cell_type": "code",
   "execution_count": 28,
   "metadata": {
    "colab": {
     "base_uri": "https://localhost:8080/"
    },
    "executionInfo": {
     "elapsed": 679,
     "status": "ok",
     "timestamp": 1606521282862,
     "user": {
      "displayName": "Lucas Migliorin Da Rosa",
      "photoUrl": "https://lh3.googleusercontent.com/a-/AOh14GiBmV9LJ9GR86LZhgmzw0IrPEj7MFgo40KUBpvH=s64",
      "userId": "00231293753892268585"
     },
     "user_tz": 240
    },
    "id": "1Q5utdrwD7ce",
    "outputId": "c3abbf6c-211f-43fe-f444-8a09a8c610da"
   },
   "outputs": [
    {
     "data": {
      "text/plain": [
       "array([0, 0, 0])"
      ]
     },
     "execution_count": 28,
     "metadata": {},
     "output_type": "execute_result"
    }
   ],
   "source": [
    "df_avaliado.values[4]"
   ]
  },
  {
   "cell_type": "code",
   "execution_count": null,
   "metadata": {
    "colab": {
     "base_uri": "https://localhost:8080/"
    },
    "executionInfo": {
     "elapsed": 741,
     "status": "ok",
     "timestamp": 1606521134790,
     "user": {
      "displayName": "Lucas Migliorin Da Rosa",
      "photoUrl": "https://lh3.googleusercontent.com/a-/AOh14GiBmV9LJ9GR86LZhgmzw0IrPEj7MFgo40KUBpvH=s64",
      "userId": "00231293753892268585"
     },
     "user_tz": 240
    },
    "id": "x5USxPJZ5S1l",
    "outputId": "f3a395b6-416b-44e1-9ab3-c2a92ab5d3f3"
   },
   "outputs": [
    {
     "name": "stdout",
     "output_type": "stream",
     "text": [
      "qual a orientacao para os profissionais da saude quando retornam a seus domicilios?\n",
      "as profissionais de saude gravidas correm maior risco de resultados adversos se cuidarem de pacientes com covid-19?\n",
      "como e a prevencao contra o coronavirus para os profissionais de saude?\n",
      "por que e importante o municipio fazer a notificacao dentro de 24 horas? quais providencias o profissional deve adotar?\n",
      "os testes rapidos sao de uso profissional?\n",
      "o profissional de enfermagem pode utilizar mascara caseira em servicos de saude?\n",
      "se um profissional da equipe testar positivo para covid-19, o que a equipe devera fazer?\n",
      "quais os cuidados a serem adotados pelos profissionais de enfer-magem que realizam assistencia em atencao domiciliar? e se o paciente estiver com quadro suspeito ou confirmado?\n",
      "posso atuar sem carteira de identidade profissional (cip)?\n",
      "a minha carteira de identidade profissional esta vencida. o que devo fazer?\n",
      "como sei que o profissional de saude esta tomando a precaucao correta contra o covid-19 no momento do atendimento?\n",
      "como e a prevencao contra o coronavirus paraos profissionais de saude?\n",
      "o profissional de enfermagem com sintomas, que cumpriu o isolamento domiciliar apos 14 dias pode retornar ao trabalho?\n",
      "o que fazer com os profissionais de enfermagem que tiveram contato com algum enfermeiro, tecnico ou auxiliar que foi diagnosticado com a covid-19?\n",
      "o profissional de enfermagem escalado para assistencia a paciente suspeito ou confirmado deve ser exclusivo?\n",
      "como e a prevencao contra o novo coronavirus para os profissionais da saude?\n"
     ]
    }
   ],
   "source": [
    "#@title Texto de título padrão { run: \"auto\" }\n",
    "variable_name = \"profissio\" #@param {type:\"string\"}\n",
    "for pergunta in perguntas:\n",
    "    if(variable_name in pergunta):\n",
    "        print(pergunta)"
   ]
  },
  {
   "cell_type": "code",
   "execution_count": null,
   "metadata": {
    "colab": {
     "base_uri": "https://localhost:8080/"
    },
    "executionInfo": {
     "elapsed": 709,
     "status": "ok",
     "timestamp": 1605990883490,
     "user": {
      "displayName": "Lucas Migliorin Da Rosa",
      "photoUrl": "https://lh3.googleusercontent.com/a-/AOh14GiBmV9LJ9GR86LZhgmzw0IrPEj7MFgo40KUBpvH=s64",
      "userId": "00231293753892268585"
     },
     "user_tz": 240
    },
    "id": "IN57woQRFIzR",
    "outputId": "1fdea0d5-f45b-44ec-dfb2-9536548e2629"
   },
   "outputs": [
    {
     "name": "stdout",
     "output_type": "stream",
     "text": [
      "quantas mascaras de tecido devo ter? \n",
      "\n",
      "Pergunta: como o usuario deve proceder para ter esse tipo de atendimento? | Score BM25: 7.47\n",
      "Pergunta: quais as recomendacoes para quem precisar viajar neste momento? | Score BM25: 6.97\n",
      "Pergunta: quantoslaboratorios publicos fazem o exame de deteccao em pernambuco? | Score BM25: 6.63\n",
      "Pergunta: o covid-19 e  transmitido pelo ar? | Score BM25: 5.78\n",
      "Pergunta: o que sao medidas de higiene e etiqueta respiratoria?  | Score BM25: 5.08\n"
     ]
    }
   ],
   "source": [
    "#query = np.array(question_test)[6]\n",
    "query = question_test.iloc[5]\n",
    "print(query,'\\n')\n",
    "query = nltk.word_tokenize(unidecode(query).lower(),language = 'portuguese')\n",
    "query = [w for w in query if not w in string.punctuation]\n",
    "score = bm25.get_scores(query)\n",
    "\n",
    "top_n = np.argsort(score)[::-1][:5] # Apresentar as 5 melhores assimilações\n",
    "for i in top_n:\n",
    "    print(\"Pergunta: {} | Score BM25: {:.2f}\".format(perguntas[i],score[i])) # Print da pergunta similiar e o score do BM25"
   ]
  }
 ],
 "metadata": {
  "colab": {
   "authorship_tag": "ABX9TyNUMGPZ3Vn1ROukNLvLRxzj",
   "collapsed_sections": [
    "aPNyXsbnbAXI",
    "cI4nhiiqbJRT",
    "io5mTwp8lHrh",
    "ebKghXLcrXOT",
    "eTdwAJdEIQ_o",
    "Ud0lO5Du1j3t",
    "EOGEPnFR1oLW",
    "IM006pMR3pYb",
    "nc_5l1cc1o8L",
    "y8B1VBfo2C8d",
    "P21vlgkI0VVQ",
    "iml7gpcw00VT",
    "VI7DQsu-A5ld"
   ],
   "mount_file_id": "1MNtK5kFO57RAiv0azNzhhF3qgxOydbR_",
   "name": "Projeto_Analise_Similariedade.ipynb",
   "provenance": []
  },
  "kernelspec": {
   "display_name": "Python 3",
   "language": "python",
   "name": "python3"
  },
  "language_info": {
   "codemirror_mode": {
    "name": "ipython",
    "version": 3
   },
   "file_extension": ".py",
   "mimetype": "text/x-python",
   "name": "python",
   "nbconvert_exporter": "python",
   "pygments_lexer": "ipython3",
   "version": "3.9.0"
  }
 },
 "nbformat": 4,
 "nbformat_minor": 1
}
