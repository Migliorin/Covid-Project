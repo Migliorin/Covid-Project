{
  "nbformat": 4,
  "nbformat_minor": 0,
  "metadata": {
    "colab": {
      "name": "Projeto_Analise_Similariedade.ipynb",
      "provenance": [],
      "collapsed_sections": [
        "aPNyXsbnbAXI",
        "cI4nhiiqbJRT",
        "io5mTwp8lHrh",
        "ebKghXLcrXOT",
        "eTdwAJdEIQ_o",
        "Ud0lO5Du1j3t",
        "EOGEPnFR1oLW",
        "IM006pMR3pYb",
        "nc_5l1cc1o8L",
        "y8B1VBfo2C8d",
        "P21vlgkI0VVQ",
        "iml7gpcw00VT",
        "VI7DQsu-A5ld"
      ],
      "mount_file_id": "1MNtK5kFO57RAiv0azNzhhF3qgxOydbR_",
      "authorship_tag": "ABX9TyNUMGPZ3Vn1ROukNLvLRxzj",
      "include_colab_link": true
    },
    "kernelspec": {
      "name": "python3",
      "display_name": "Python 3"
    }
  },
  "cells": [
    {
      "cell_type": "markdown",
      "metadata": {
        "id": "view-in-github",
        "colab_type": "text"
      },
      "source": [
        "<a href=\"https://colab.research.google.com/github/Migliorin/COVID_Project/blob/main/Projeto_Analise_Similariedade.ipynb\" target=\"_parent\"><img src=\"https://colab.research.google.com/assets/colab-badge.svg\" alt=\"Open In Colab\"/></a>"
      ]
    },
    {
      "cell_type": "code",
      "metadata": {
        "id": "GIgWEvr8bdBT"
      },
      "source": [
        "!pip install sentence-transformers\n",
        "!brew install libomp # if you are on OSX, for faiss\n",
        "!pip install transformers faiss torch\n",
        "!sudo apt-get install libgomp1\n",
        "!pip install faiss-cpu --no-cache\n",
        "!pip3 install sent2vec"
      ],
      "execution_count": null,
      "outputs": []
    },
    {
      "cell_type": "markdown",
      "metadata": {
        "id": "aPNyXsbnbAXI"
      },
      "source": [
        "# Importes"
      ]
    },
    {
      "cell_type": "code",
      "metadata": {
        "id": "tDJ4q4oCbDsL"
      },
      "source": [
        "import json\n",
        "import pandas as pd\n",
        "\n",
        "# Importes transformers\n",
        "import numpy as np\n",
        "from transformers import AutoModel, AutoTokenizer\n",
        "import torch\n",
        "import faiss\n",
        "\n",
        "# BERT\n",
        "from scipy import spatial\n",
        "from sent2vec.vectorizer import Vectorizer"
      ],
      "execution_count": null,
      "outputs": []
    },
    {
      "cell_type": "markdown",
      "metadata": {
        "id": "cI4nhiiqbJRT"
      },
      "source": [
        "# Abertura do dataset"
      ]
    },
    {
      "cell_type": "code",
      "metadata": {
        "id": "tjsgQi8za2FT"
      },
      "source": [
        "with open('/content/drive/Shareddrives/COVID - Projeto/dataset_v1.json','r') as f:\n",
        "    df_json = json.load(f)"
      ],
      "execution_count": null,
      "outputs": []
    },
    {
      "cell_type": "code",
      "metadata": {
        "id": "DykkXbWebUT0"
      },
      "source": [
        "perguntas = []\n",
        "for i in df_json['data'][:1]:\n",
        "    for j in i['paragraphs']:\n",
        "        for k in j['qas']:\n",
        "            perguntas.append(k['question'])"
      ],
      "execution_count": null,
      "outputs": []
    },
    {
      "cell_type": "code",
      "metadata": {
        "colab": {
          "base_uri": "https://localhost:8080/"
        },
        "id": "0nPFJycldrnR",
        "outputId": "4afca955-673f-434a-835c-e1819894c116"
      },
      "source": [
        "print(len(perguntas),perguntas[:5])"
      ],
      "execution_count": null,
      "outputs": [
        {
          "output_type": "stream",
          "text": [
            "767 ['Quando Beyonce começou a se tornar popular?', 'Em quais áreas Beyonce competiu quando ela estava crescendo?', \"Quando Beyoncé deixou Destiny's Child e se tornou uma cantora solo?\", 'Em que cidade e estado Beyonce cresceu?', 'Em qual década Beyonce se tornou famosa?']\n"
          ],
          "name": "stdout"
        }
      ]
    },
    {
      "cell_type": "markdown",
      "metadata": {
        "id": "io5mTwp8lHrh"
      },
      "source": [
        "# Utilizando transformers"
      ]
    },
    {
      "cell_type": "code",
      "metadata": {
        "id": "gL8Axn1ubS80"
      },
      "source": [
        "tokenizer = AutoTokenizer.from_pretrained('neuralmind/bert-base-portuguese-cased')\n",
        "model = AutoModel.from_pretrained('neuralmind/bert-base-portuguese-cased')"
      ],
      "execution_count": null,
      "outputs": []
    },
    {
      "cell_type": "code",
      "metadata": {
        "id": "6U8bCFmEj1Yk"
      },
      "source": [
        "documents = perguntas\n",
        "\n",
        "vectors = [\n",
        "  # tokenize the document, return it as PyTorch tensors (vectors),\n",
        "  # and pass it onto the model\n",
        "  model(**tokenizer(document, return_tensors='pt'))[0].detach().squeeze()\n",
        "  for document in documents\n",
        "]\n",
        "\n",
        "#[v.size() for v in vectors]"
      ],
      "execution_count": null,
      "outputs": []
    },
    {
      "cell_type": "code",
      "metadata": {
        "colab": {
          "base_uri": "https://localhost:8080/"
        },
        "id": "q2TlSIv3noVq",
        "outputId": "a6282519-1814-43c0-a8cd-0d8279cb1a83"
      },
      "source": [
        "aux = [v.size() for v in vectors]\n",
        "aux[:3]"
      ],
      "execution_count": null,
      "outputs": [
        {
          "output_type": "execute_result",
          "data": {
            "text/plain": [
              "[torch.Size([12, 768]), torch.Size([14, 768]), torch.Size([18, 768])]"
            ]
          },
          "metadata": {
            "tags": []
          },
          "execution_count": 54
        }
      ]
    },
    {
      "cell_type": "code",
      "metadata": {
        "id": "AhFZGr-Yl_3k"
      },
      "source": [
        "averaged_vectors = [torch.mean(vector, dim=0) for vector in vectors]"
      ],
      "execution_count": null,
      "outputs": []
    },
    {
      "cell_type": "code",
      "metadata": {
        "id": "xAuA8xodmgha"
      },
      "source": [
        "def encode(document: str) -> torch.Tensor:\n",
        "  tokens = tokenizer(document, return_tensors='pt')\n",
        "  vector = model(**tokens)[0].detach().squeeze()\n",
        "  return torch.mean(vector, dim=0)"
      ],
      "execution_count": null,
      "outputs": []
    },
    {
      "cell_type": "code",
      "metadata": {
        "id": "p07MYnwjnCiT"
      },
      "source": [
        "index = faiss.IndexIDMap(faiss.IndexFlatIP(768)) # the size of our vector space\n",
        "# index all the documents, we need them as numpy arrays first\n",
        "index.add_with_ids(\n",
        "    np.array([t.numpy() for t in averaged_vectors]),\n",
        "    # the IDs will be 0 to len(documents)\n",
        "    np.array(range(0, len(documents)))\n",
        ")\n",
        "\n",
        "def search(query: str, k=1):\n",
        "  encoded_query = encode(query).unsqueeze(dim=0).numpy()\n",
        "  top_k = index.search(encoded_query, k)\n",
        "  scores = top_k[0][0]\n",
        "  results = [documents[_id] for _id in top_k[1][0]]\n",
        "  return list(zip(results, scores))"
      ],
      "execution_count": null,
      "outputs": []
    },
    {
      "cell_type": "code",
      "metadata": {
        "colab": {
          "base_uri": "https://localhost:8080/",
          "height": 35
        },
        "id": "nkiU0RaYnwOW",
        "outputId": "2d87d7dd-3e1b-4a16-8391-7ba074419ff5"
      },
      "source": [
        "perguntas_teste[1]"
      ],
      "execution_count": null,
      "outputs": [
        {
          "output_type": "execute_result",
          "data": {
            "application/vnd.google.colaboratory.intrinsic+json": {
              "type": "string"
            },
            "text/plain": [
              "'Com que música Beyonce contribuiu para a campanha?'"
            ]
          },
          "metadata": {
            "tags": []
          },
          "execution_count": 57
        }
      ]
    },
    {
      "cell_type": "code",
      "metadata": {
        "colab": {
          "base_uri": "https://localhost:8080/"
        },
        "id": "j1Y9eb2NoA-9",
        "outputId": "8d2eba0e-f25b-4959-9e77-c9102073c9f4"
      },
      "source": [
        "search(\"Onde beyonce nasceu?\",k=3)"
      ],
      "execution_count": null,
      "outputs": [
        {
          "output_type": "execute_result",
          "data": {
            "text/plain": [
              "[('Onde Blue Ivy nasceu?', 33.20627),\n",
              " ('Onde Beyonce se apresentou em 2011?', 32.617737),\n",
              " ('Quando Beyonce começou a se tornar popular?', 32.591763)]"
            ]
          },
          "metadata": {
            "tags": []
          },
          "execution_count": 68
        }
      ]
    },
    {
      "cell_type": "markdown",
      "metadata": {
        "id": "ebKghXLcrXOT"
      },
      "source": [
        "# Usando BERT"
      ]
    },
    {
      "cell_type": "code",
      "metadata": {
        "id": "5t-rj40JoKm2"
      },
      "source": [
        "sentences = perguntas\n",
        "\n",
        "vectorizer = Vectorizer()\n",
        "vectorizer.bert(sentences)"
      ],
      "execution_count": null,
      "outputs": []
    },
    {
      "cell_type": "code",
      "metadata": {
        "colab": {
          "base_uri": "https://localhost:8080/"
        },
        "id": "ZdgtxwqrsLYQ",
        "outputId": "9945eccf-59ba-4f3a-d430-478332cf1fb0"
      },
      "source": [
        "vectorizer.__dict__"
      ],
      "execution_count": null,
      "outputs": [
        {
          "output_type": "execute_result",
          "data": {
            "text/plain": [
              "{'vectors': array([[-0.16396935, -0.27253982,  0.14399289, ...,  0.05619444,\n",
              "          0.4985507 ,  0.18187934],\n",
              "        [-0.23593178, -0.3083715 ,  0.19492105, ...,  0.10151217,\n",
              "          0.40506238,  0.20356336],\n",
              "        [-0.20170058, -0.36552688,  0.08919662, ...,  0.09863595,\n",
              "          0.44682708,  0.13105403],\n",
              "        ...,\n",
              "        [-0.15903749, -0.18028979,  0.13669719, ...,  0.10021325,\n",
              "          0.49533468,  0.28977045],\n",
              "        [-0.13491194, -0.28364253,  0.19597052, ...,  0.06666869,\n",
              "          0.3542019 ,  0.18729764],\n",
              "        [-0.13491194, -0.28364253,  0.19597052, ...,  0.06666869,\n",
              "          0.3542019 ,  0.18729764]], dtype=float32)}"
            ]
          },
          "metadata": {
            "tags": []
          },
          "execution_count": 73
        }
      ]
    },
    {
      "cell_type": "code",
      "metadata": {
        "id": "xyjmsZ9ir16E"
      },
      "source": [
        "vectors_bert = vectorizer.vectors"
      ],
      "execution_count": null,
      "outputs": []
    },
    {
      "cell_type": "code",
      "metadata": {
        "colab": {
          "base_uri": "https://localhost:8080/"
        },
        "id": "XdR2aTJ9t2VN",
        "outputId": "507b92bd-6312-4e47-a3ee-815b23566c7f"
      },
      "source": [
        "p = procura('Onde beyonce morou?')\n",
        "print(\"Distancia: {:.4f}\\nPergunta próxima: {}\".format(p[0],sentences[p[1]]))"
      ],
      "execution_count": null,
      "outputs": [
        {
          "output_type": "stream",
          "text": [
            "Distancia: 0.2942\n",
            "Pergunta próxima: O que B.I.C. apoiar?\n"
          ],
          "name": "stdout"
        }
      ]
    },
    {
      "cell_type": "markdown",
      "metadata": {
        "id": "eTdwAJdEIQ_o"
      },
      "source": [
        "# Similaridade"
      ]
    },
    {
      "cell_type": "markdown",
      "metadata": {
        "id": "UgEb6LPePVlZ"
      },
      "source": [
        "## Por distância (TF)"
      ]
    },
    {
      "cell_type": "markdown",
      "metadata": {
        "id": "dSW2Hjs3IiqU"
      },
      "source": [
        "### Importes"
      ]
    },
    {
      "cell_type": "code",
      "metadata": {
        "id": "381gGCdPuRP5",
        "colab": {
          "base_uri": "https://localhost:8080/"
        },
        "outputId": "7427f431-f226-4fdd-a231-579ba8710574"
      },
      "source": [
        "from sklearn.feature_extraction.text import CountVectorizer\n",
        "from nltk.corpus import stopwords\n",
        "import numpy as np\n",
        "import nltk\n",
        "nltk.download('stopwords')"
      ],
      "execution_count": null,
      "outputs": [
        {
          "output_type": "stream",
          "text": [
            "[nltk_data] Downloading package stopwords to /root/nltk_data...\n",
            "[nltk_data]   Unzipping corpora/stopwords.zip.\n"
          ],
          "name": "stdout"
        },
        {
          "output_type": "execute_result",
          "data": {
            "text/plain": [
              "True"
            ]
          },
          "metadata": {
            "tags": []
          },
          "execution_count": 1
        }
      ]
    },
    {
      "cell_type": "markdown",
      "metadata": {
        "id": "_Nm2WSW4PzhT"
      },
      "source": [
        "### TF"
      ]
    },
    {
      "cell_type": "code",
      "metadata": {
        "id": "n-CD9togIz09"
      },
      "source": [
        "# Documentos\n",
        "C = [\"notícias sobre\",\"notícias sobre campanha de comidas orgânicas\", \"notícias da campanha presidencial\",\n",
        "     \"notícias da campanha presidencial, eleição presidencial.\", \"notícias sobre campanha de comidas orgânicas, campanha, campanha, campanha\",\n",
        "     \"notícias sobre campanha presidencial.\"]\n",
        "\n",
        "q = C[-1] # Query\n",
        "\n",
        "stopWords = stopwords.words('portuguese')"
      ],
      "execution_count": null,
      "outputs": []
    },
    {
      "cell_type": "code",
      "metadata": {
        "id": "lAJuAvlmKVB9"
      },
      "source": [
        "vectorizer = CountVectorizer(stop_words = stopWords)\n",
        "tf_docs = vectorizer.fit_transform(C).toarray() # Bag of words dos documentos\n",
        "tf_query = tf_docs[-1][:] # Bag of words da query\n",
        "tf_docs = tf_docs[:-1][:] # Bag of words dos documentos"
      ],
      "execution_count": null,
      "outputs": []
    },
    {
      "cell_type": "code",
      "metadata": {
        "colab": {
          "base_uri": "https://localhost:8080/"
        },
        "id": "OIive30YKx3E",
        "outputId": "17a6dd03-04b7-4538-fdfd-1ad3b9512e04"
      },
      "source": [
        "print('TF de cada documento:\\n',tf_docs)\n",
        "print('\\nTF da query:\\n',tf_query)\n",
        "print('\\n')"
      ],
      "execution_count": null,
      "outputs": [
        {
          "output_type": "stream",
          "text": [
            "TF de cada documento:\n",
            " [[0 0 0 1 0 0 1]\n",
            " [1 1 0 1 1 0 1]\n",
            " [1 0 0 1 0 1 0]\n",
            " [1 0 1 1 0 2 0]\n",
            " [4 1 0 1 1 0 1]]\n",
            "\n",
            "TF da query:\n",
            " [1 0 0 1 0 1 1]\n",
            "\n",
            "\n"
          ],
          "name": "stdout"
        }
      ]
    },
    {
      "cell_type": "code",
      "metadata": {
        "colab": {
          "base_uri": "https://localhost:8080/"
        },
        "id": "CnP1cNICKyqz",
        "outputId": "da4d3659-cb22-415a-fdd8-f5cc812100c9"
      },
      "source": [
        "for doc, i in zip(C[:-1],range(tf_docs.shape[0])):\n",
        "    f = np.dot(tf_docs[i][:],tf_query) # Produto interno por meio de matrix entre a query e o documento\n",
        "    print('f(\"{}\",\"{}\") = {}'.format(q,doc,f))"
      ],
      "execution_count": null,
      "outputs": [
        {
          "output_type": "stream",
          "text": [
            "f(\"notícias sobre campanha presidencial.\",\"notícias sobre\") = 2\n",
            "f(\"notícias sobre campanha presidencial.\",\"notícias sobre campanha de comidas orgânicas\") = 3\n",
            "f(\"notícias sobre campanha presidencial.\",\"notícias da campanha presidencial\") = 3\n",
            "f(\"notícias sobre campanha presidencial.\",\"notícias da campanha presidencial, eleição presidencial.\") = 4\n",
            "f(\"notícias sobre campanha presidencial.\",\"notícias sobre campanha de comidas orgânicas, campanha, campanha, campanha\") = 6\n"
          ],
          "name": "stdout"
        }
      ]
    },
    {
      "cell_type": "markdown",
      "metadata": {
        "id": "Ti-ovGKiPfkO"
      },
      "source": [
        "## Por distância com ponderamento (TF-IDF)"
      ]
    },
    {
      "cell_type": "markdown",
      "metadata": {
        "id": "Mm93jrAXPuFT"
      },
      "source": [
        "### Importes"
      ]
    },
    {
      "cell_type": "code",
      "metadata": {
        "id": "HD4nLFSlPwB3"
      },
      "source": [
        "from sklearn.feature_extraction.text import TfidfVectorizer"
      ],
      "execution_count": null,
      "outputs": []
    },
    {
      "cell_type": "markdown",
      "metadata": {
        "id": "KahNYKbZP-py"
      },
      "source": [
        "### TF-IDF"
      ]
    },
    {
      "cell_type": "code",
      "metadata": {
        "id": "tOBA-1BxPe-s"
      },
      "source": [
        "vectorizer = TfidfVectorizer(stop_words = stopWords)\n",
        "tf_docs = vectorizer.fit_transform(C).toarray() # Bag of words dos documentos\n",
        "tf_query = tf_docs[-1][:] # Bag of words da query\n",
        "tf_docs = tf_docs[:-1][:] # Bag of words dos documentos"
      ],
      "execution_count": null,
      "outputs": []
    },
    {
      "cell_type": "code",
      "metadata": {
        "colab": {
          "base_uri": "https://localhost:8080/"
        },
        "id": "A3gWi5WLNYNb",
        "outputId": "cac7eb9a-6d2d-4a91-e1f1-e1c519107107"
      },
      "source": [
        "np.dot(tf_docs[0],tf_query)"
      ],
      "execution_count": null,
      "outputs": [
        {
          "output_type": "execute_result",
          "data": {
            "text/plain": [
              "0.6521711197303464"
            ]
          },
          "metadata": {
            "tags": []
          },
          "execution_count": 8
        }
      ]
    },
    {
      "cell_type": "code",
      "metadata": {
        "colab": {
          "base_uri": "https://localhost:8080/"
        },
        "id": "IbiqY2-GO2Bi",
        "outputId": "1c288f4f-181d-469b-81d1-7e6f0b7221bc"
      },
      "source": [
        "print('BoW de cada documento:\\n',tf_docs)\n",
        "print('\\nBow da query:\\n',tf_query)\n",
        "print('\\n')"
      ],
      "execution_count": null,
      "outputs": [
        {
          "output_type": "stream",
          "text": [
            "BoW de cada documento:\n",
            " [[0.         0.         0.         0.59909697 0.         0.\n",
            "  0.80067647]\n",
            " [0.34889082 0.55842384 0.         0.30229226 0.55842384 0.\n",
            "  0.40400521]\n",
            " [0.52875615 0.         0.         0.45813442 0.         0.71451367\n",
            "  0.        ]\n",
            " [0.27880467 0.         0.54419311 0.24156696 0.         0.7535033\n",
            "  0.        ]\n",
            " [0.83018195 0.33219088 0.         0.17982529 0.33219088 0.\n",
            "  0.24033151]]\n",
            "\n",
            "Bow da query:\n",
            " [0.45094253 0.         0.         0.39071374 0.         0.60936332\n",
            " 0.52217807]\n",
            "\n",
            "\n"
          ],
          "name": "stdout"
        }
      ]
    },
    {
      "cell_type": "code",
      "metadata": {
        "colab": {
          "base_uri": "https://localhost:8080/"
        },
        "id": "99FM6YG5PLDo",
        "outputId": "2e9f172e-9724-4d4c-a0d7-da6ef2e1905f"
      },
      "source": [
        "for doc, i in zip(C[:-1],range(tf_docs.shape[0])):\n",
        "    f = np.dot(tf_docs[i][:],tf_query) # Produto interno por meio de matrix entre a query e o documento\n",
        "    print('f(\"{}\",\"{}\") = {}'.format(q,doc,f))"
      ],
      "execution_count": null,
      "outputs": [
        {
          "output_type": "stream",
          "text": [
            "f(\"notícias sobre campanha presidencial.\",\"notícias sobre\") = 0.6521711197303464\n",
            "f(\"notícias sobre campanha presidencial.\",\"notícias sobre campanha de comidas orgânicas\") = 0.486402111825811\n",
            "f(\"notícias sobre campanha presidencial.\",\"notícias da campanha presidencial\") = 0.8528364795638876\n",
            "f(\"notícias sobre campanha presidencial.\",\"notícias da campanha presidencial, eleição presidencial.\") = 0.6792656928379586\n",
            "f(\"notícias sobre campanha presidencial.\",\"notícias sobre campanha de comidas orgânicas, campanha, campanha, campanha\") = 0.5701204110655602\n"
          ],
          "name": "stdout"
        }
      ]
    },
    {
      "cell_type": "markdown",
      "metadata": {
        "id": "rQ0CSo_8zcfK"
      },
      "source": [
        "## Por BM25"
      ]
    },
    {
      "cell_type": "code",
      "metadata": {
        "id": "SlQY8AZMQmKK"
      },
      "source": [
        "!pip install rank_bm25"
      ],
      "execution_count": null,
      "outputs": []
    },
    {
      "cell_type": "code",
      "metadata": {
        "id": "XfQSQ6lcziBK"
      },
      "source": [
        "from rank_bm25 import BM25Okapi\n",
        "\n",
        "corpus = [\n",
        "    \"Hello there good man!\",\n",
        "    \"It is quite windy in London\",\n",
        "    \"How is the weather today?\"\n",
        "]\n",
        "\n",
        "tokenized_corpus = [doc.split(\" \") for doc in corpus]\n",
        "\n",
        "bm25 = BM25Okapi(tokenized_corpus)"
      ],
      "execution_count": null,
      "outputs": []
    },
    {
      "cell_type": "code",
      "metadata": {
        "id": "ir5CfHh00GZw"
      },
      "source": [
        "query = \"windy London\"\n",
        "tokenized_query = query.split(\" \")"
      ],
      "execution_count": null,
      "outputs": []
    },
    {
      "cell_type": "code",
      "metadata": {
        "colab": {
          "base_uri": "https://localhost:8080/"
        },
        "id": "XwAfR6LE0r_8",
        "outputId": "644bb0e2-f784-48ac-a7c5-401aff847ad7"
      },
      "source": [
        "doc_scores = bm25.get_scores(tokenized_query)\n",
        "print(doc_scores)"
      ],
      "execution_count": null,
      "outputs": [
        {
          "output_type": "stream",
          "text": [
            "[0.         0.93729472 0.        ]\n"
          ],
          "name": "stdout"
        }
      ]
    },
    {
      "cell_type": "code",
      "metadata": {
        "colab": {
          "base_uri": "https://localhost:8080/"
        },
        "id": "vtP8FV8t0uTT",
        "outputId": "32846401-8604-48a7-a6b8-4f9606df0823"
      },
      "source": [
        "bm25.get_top_n(tokenized_query, corpus, n=1)"
      ],
      "execution_count": null,
      "outputs": [
        {
          "output_type": "execute_result",
          "data": {
            "text/plain": [
              "['It is quite windy in London']"
            ]
          },
          "metadata": {
            "tags": []
          },
          "execution_count": 6
        }
      ]
    },
    {
      "cell_type": "markdown",
      "metadata": {
        "id": "94sinX1BBJQN"
      },
      "source": [
        ""
      ]
    },
    {
      "cell_type": "markdown",
      "metadata": {
        "id": "CBpOSc2wBPDH"
      },
      "source": [
        "# ---------------------------------------\n"
      ]
    },
    {
      "cell_type": "markdown",
      "metadata": {
        "id": "xDpqnqoh1fVi"
      },
      "source": [
        "# Usando Dataset Projeto"
      ]
    },
    {
      "cell_type": "markdown",
      "metadata": {
        "id": "Ud0lO5Du1j3t"
      },
      "source": [
        "## Bibliotecas"
      ]
    },
    {
      "cell_type": "code",
      "metadata": {
        "id": "xdzheu0y5PUi",
        "colab": {
          "base_uri": "https://localhost:8080/"
        },
        "outputId": "e6676673-0483-46e2-f32b-65fce59be3df"
      },
      "source": [
        "!pip install rank_bm25\n",
        "!pip install unidecode\n",
        "!pip install --upgrade gensim"
      ],
      "execution_count": null,
      "outputs": [
        {
          "output_type": "stream",
          "text": [
            "Collecting rank_bm25\n",
            "  Downloading https://files.pythonhosted.org/packages/16/5a/23ed3132063a0684ea66fb410260c71c4ffda3b99f8f1c021d1e245401b5/rank_bm25-0.2.1-py3-none-any.whl\n",
            "Requirement already satisfied: numpy in /usr/local/lib/python3.6/dist-packages (from rank_bm25) (1.18.5)\n",
            "Installing collected packages: rank-bm25\n",
            "Successfully installed rank-bm25-0.2.1\n",
            "Collecting unidecode\n",
            "\u001b[?25l  Downloading https://files.pythonhosted.org/packages/d0/42/d9edfed04228bacea2d824904cae367ee9efd05e6cce7ceaaedd0b0ad964/Unidecode-1.1.1-py2.py3-none-any.whl (238kB)\n",
            "\u001b[K     |████████████████████████████████| 245kB 9.2MB/s \n",
            "\u001b[?25hInstalling collected packages: unidecode\n",
            "Successfully installed unidecode-1.1.1\n",
            "Collecting gensim\n",
            "\u001b[?25l  Downloading https://files.pythonhosted.org/packages/2b/e0/fa6326251692056dc880a64eb22117e03269906ba55a6864864d24ec8b4e/gensim-3.8.3-cp36-cp36m-manylinux1_x86_64.whl (24.2MB)\n",
            "\u001b[K     |████████████████████████████████| 24.2MB 8.5MB/s \n",
            "\u001b[?25hRequirement already satisfied, skipping upgrade: smart-open>=1.8.1 in /usr/local/lib/python3.6/dist-packages (from gensim) (3.0.0)\n",
            "Requirement already satisfied, skipping upgrade: scipy>=0.18.1 in /usr/local/lib/python3.6/dist-packages (from gensim) (1.4.1)\n",
            "Requirement already satisfied, skipping upgrade: six>=1.5.0 in /usr/local/lib/python3.6/dist-packages (from gensim) (1.15.0)\n",
            "Requirement already satisfied, skipping upgrade: numpy>=1.11.3 in /usr/local/lib/python3.6/dist-packages (from gensim) (1.18.5)\n",
            "Requirement already satisfied, skipping upgrade: requests in /usr/local/lib/python3.6/dist-packages (from smart-open>=1.8.1->gensim) (2.23.0)\n",
            "Requirement already satisfied, skipping upgrade: certifi>=2017.4.17 in /usr/local/lib/python3.6/dist-packages (from requests->smart-open>=1.8.1->gensim) (2020.11.8)\n",
            "Requirement already satisfied, skipping upgrade: chardet<4,>=3.0.2 in /usr/local/lib/python3.6/dist-packages (from requests->smart-open>=1.8.1->gensim) (3.0.4)\n",
            "Requirement already satisfied, skipping upgrade: idna<3,>=2.5 in /usr/local/lib/python3.6/dist-packages (from requests->smart-open>=1.8.1->gensim) (2.10)\n",
            "Requirement already satisfied, skipping upgrade: urllib3!=1.25.0,!=1.25.1,<1.26,>=1.21.1 in /usr/local/lib/python3.6/dist-packages (from requests->smart-open>=1.8.1->gensim) (1.24.3)\n",
            "Installing collected packages: gensim\n",
            "  Found existing installation: gensim 3.6.0\n",
            "    Uninstalling gensim-3.6.0:\n",
            "      Successfully uninstalled gensim-3.6.0\n",
            "Successfully installed gensim-3.8.3\n"
          ],
          "name": "stdout"
        }
      ]
    },
    {
      "cell_type": "code",
      "metadata": {
        "id": "wMGxeC3903qn"
      },
      "source": [
        "import pandas as pd\n",
        "import numpy as np\n",
        "import json\n",
        "import nltk\n",
        "import string\n",
        "from rank_bm25 import BM25Okapi\n",
        "from unidecode import unidecode\n",
        "import gensim\n",
        "from gensim.summarization.bm25 import BM25\n",
        "from sklearn.model_selection import train_test_split"
      ],
      "execution_count": null,
      "outputs": []
    },
    {
      "cell_type": "code",
      "metadata": {
        "id": "hyABACPf-jex",
        "colab": {
          "base_uri": "https://localhost:8080/"
        },
        "outputId": "15ba4704-8e36-45ee-fdb4-87a97c10226e"
      },
      "source": [
        "nltk.download('punkt')"
      ],
      "execution_count": null,
      "outputs": [
        {
          "output_type": "stream",
          "text": [
            "[nltk_data] Downloading package punkt to /root/nltk_data...\n",
            "[nltk_data]   Unzipping tokenizers/punkt.zip.\n"
          ],
          "name": "stdout"
        },
        {
          "output_type": "execute_result",
          "data": {
            "text/plain": [
              "True"
            ]
          },
          "metadata": {
            "tags": []
          },
          "execution_count": 3
        }
      ]
    },
    {
      "cell_type": "markdown",
      "metadata": {
        "id": "EOGEPnFR1oLW"
      },
      "source": [
        "## Abertura do dataset"
      ]
    },
    {
      "cell_type": "code",
      "metadata": {
        "colab": {
          "base_uri": "https://localhost:8080/"
        },
        "id": "iz3LyNRO1uCX",
        "outputId": "dc919778-0bb8-42fb-9f7e-23b5023546da"
      },
      "source": [
        "with open('/content/drive/Shareddrives/COVID - Projeto/Repositório Perguntas_Respostas - Página1.csv','r') as f:\n",
        "    df = pd.read_csv(f)\n",
        "df.head()"
      ],
      "execution_count": null,
      "outputs": [
        {
          "output_type": "execute_result",
          "data": {
            "text/html": [
              "<div>\n",
              "<style scoped>\n",
              "    .dataframe tbody tr th:only-of-type {\n",
              "        vertical-align: middle;\n",
              "    }\n",
              "\n",
              "    .dataframe tbody tr th {\n",
              "        vertical-align: top;\n",
              "    }\n",
              "\n",
              "    .dataframe thead th {\n",
              "        text-align: right;\n",
              "    }\n",
              "</style>\n",
              "<table border=\"1\" class=\"dataframe\">\n",
              "  <thead>\n",
              "    <tr style=\"text-align: right;\">\n",
              "      <th></th>\n",
              "      <th>Classificação (FioCruz)</th>\n",
              "      <th>Sentença</th>\n",
              "      <th>Resposta</th>\n",
              "    </tr>\n",
              "  </thead>\n",
              "  <tbody>\n",
              "    <tr>\n",
              "      <th>0</th>\n",
              "      <td>O que é ?</td>\n",
              "      <td>O que é o novo coronavírus?</td>\n",
              "      <td>Os coronavírus causam infecções respiratórias ...</td>\n",
              "    </tr>\n",
              "    <tr>\n",
              "      <th>1</th>\n",
              "      <td>O que é ?</td>\n",
              "      <td>Por que a doença causada pelo novo vírus receb...</td>\n",
              "      <td>Desde o início de fevereiro, a Organização Mun...</td>\n",
              "    </tr>\n",
              "    <tr>\n",
              "      <th>2</th>\n",
              "      <td>Boatos</td>\n",
              "      <td>A Organização Mundial de Saúde (OMS) disse que...</td>\n",
              "      <td>Não. A Organização Mundial da Saúde não disse ...</td>\n",
              "    </tr>\n",
              "    <tr>\n",
              "      <th>3</th>\n",
              "      <td>Boatos</td>\n",
              "      <td>Diante da falta de álcool gel podemos colocar ...</td>\n",
              "      <td>Preparações caseiras não possuem a certificaçã...</td>\n",
              "    </tr>\n",
              "    <tr>\n",
              "      <th>4</th>\n",
              "      <td>Boatos</td>\n",
              "      <td>Chá de abacate com hortelã, mel, uísque ou out...</td>\n",
              "      <td>Até o momento, não há nenhum medicamento, subs...</td>\n",
              "    </tr>\n",
              "  </tbody>\n",
              "</table>\n",
              "</div>"
            ],
            "text/plain": [
              "  Classificação (FioCruz)  ...                                           Resposta\n",
              "0               O que é ?  ...  Os coronavírus causam infecções respiratórias ...\n",
              "1               O que é ?  ...  Desde o início de fevereiro, a Organização Mun...\n",
              "2                  Boatos  ...  Não. A Organização Mundial da Saúde não disse ...\n",
              "3                  Boatos  ...  Preparações caseiras não possuem a certificaçã...\n",
              "4                  Boatos  ...  Até o momento, não há nenhum medicamento, subs...\n",
              "\n",
              "[5 rows x 3 columns]"
            ]
          },
          "metadata": {
            "tags": []
          },
          "execution_count": 4
        }
      ]
    },
    {
      "cell_type": "code",
      "metadata": {
        "id": "7aKe-bha2E_I",
        "colab": {
          "base_uri": "https://localhost:8080/"
        },
        "outputId": "151e850d-83ef-4547-ca2d-ecd3d0b4cbfe"
      },
      "source": [
        "new_df = df[df['Sentença'] != 'Sentença'].copy()\n",
        "new_df.shape"
      ],
      "execution_count": null,
      "outputs": [
        {
          "output_type": "execute_result",
          "data": {
            "text/plain": [
              "(722, 3)"
            ]
          },
          "metadata": {
            "tags": []
          },
          "execution_count": 5
        }
      ]
    },
    {
      "cell_type": "markdown",
      "metadata": {
        "id": "IM006pMR3pYb"
      },
      "source": [
        "## Pre-processamento do dataset"
      ]
    },
    {
      "cell_type": "code",
      "metadata": {
        "colab": {
          "base_uri": "https://localhost:8080/",
          "height": 206
        },
        "id": "p9-Gitxm3hmH",
        "outputId": "7d9573ac-d4ca-44d2-8bbe-d7ee600c6926"
      },
      "source": [
        "new_df.columns = ['classe','pergunta','resposta']\n",
        "new_df.drop(['classe'],axis=1,inplace=True)\n",
        "new_df.head()"
      ],
      "execution_count": null,
      "outputs": [
        {
          "output_type": "execute_result",
          "data": {
            "text/html": [
              "<div>\n",
              "<style scoped>\n",
              "    .dataframe tbody tr th:only-of-type {\n",
              "        vertical-align: middle;\n",
              "    }\n",
              "\n",
              "    .dataframe tbody tr th {\n",
              "        vertical-align: top;\n",
              "    }\n",
              "\n",
              "    .dataframe thead th {\n",
              "        text-align: right;\n",
              "    }\n",
              "</style>\n",
              "<table border=\"1\" class=\"dataframe\">\n",
              "  <thead>\n",
              "    <tr style=\"text-align: right;\">\n",
              "      <th></th>\n",
              "      <th>pergunta</th>\n",
              "      <th>resposta</th>\n",
              "    </tr>\n",
              "  </thead>\n",
              "  <tbody>\n",
              "    <tr>\n",
              "      <th>0</th>\n",
              "      <td>O que é o novo coronavírus?</td>\n",
              "      <td>Os coronavírus causam infecções respiratórias ...</td>\n",
              "    </tr>\n",
              "    <tr>\n",
              "      <th>1</th>\n",
              "      <td>Por que a doença causada pelo novo vírus receb...</td>\n",
              "      <td>Desde o início de fevereiro, a Organização Mun...</td>\n",
              "    </tr>\n",
              "    <tr>\n",
              "      <th>2</th>\n",
              "      <td>A Organização Mundial de Saúde (OMS) disse que...</td>\n",
              "      <td>Não. A Organização Mundial da Saúde não disse ...</td>\n",
              "    </tr>\n",
              "    <tr>\n",
              "      <th>3</th>\n",
              "      <td>Diante da falta de álcool gel podemos colocar ...</td>\n",
              "      <td>Preparações caseiras não possuem a certificaçã...</td>\n",
              "    </tr>\n",
              "    <tr>\n",
              "      <th>4</th>\n",
              "      <td>Chá de abacate com hortelã, mel, uísque ou out...</td>\n",
              "      <td>Até o momento, não há nenhum medicamento, subs...</td>\n",
              "    </tr>\n",
              "  </tbody>\n",
              "</table>\n",
              "</div>"
            ],
            "text/plain": [
              "                                            pergunta                                           resposta\n",
              "0                        O que é o novo coronavírus?  Os coronavírus causam infecções respiratórias ...\n",
              "1  Por que a doença causada pelo novo vírus receb...  Desde o início de fevereiro, a Organização Mun...\n",
              "2  A Organização Mundial de Saúde (OMS) disse que...  Não. A Organização Mundial da Saúde não disse ...\n",
              "3  Diante da falta de álcool gel podemos colocar ...  Preparações caseiras não possuem a certificaçã...\n",
              "4  Chá de abacate com hortelã, mel, uísque ou out...  Até o momento, não há nenhum medicamento, subs..."
            ]
          },
          "metadata": {
            "tags": []
          },
          "execution_count": 6
        }
      ]
    },
    {
      "cell_type": "code",
      "metadata": {
        "colab": {
          "base_uri": "https://localhost:8080/"
        },
        "id": "0R0SST1o76rY",
        "outputId": "8c13f5a4-93b9-49fd-d25e-e11fb4d7b0fb"
      },
      "source": [
        "new_df.isna().sum()"
      ],
      "execution_count": null,
      "outputs": [
        {
          "output_type": "execute_result",
          "data": {
            "text/plain": [
              "pergunta    24\n",
              "resposta    24\n",
              "dtype: int64"
            ]
          },
          "metadata": {
            "tags": []
          },
          "execution_count": 7
        }
      ]
    },
    {
      "cell_type": "code",
      "metadata": {
        "colab": {
          "base_uri": "https://localhost:8080/",
          "height": 206
        },
        "id": "plOApWyH8ChW",
        "outputId": "a827a11b-a76f-4518-b3b8-4a69384edb64"
      },
      "source": [
        "new_df.dropna(inplace = True)\n",
        "new_df.reset_index(inplace= True,drop=True)\n",
        "new_df.head()"
      ],
      "execution_count": null,
      "outputs": [
        {
          "output_type": "execute_result",
          "data": {
            "text/html": [
              "<div>\n",
              "<style scoped>\n",
              "    .dataframe tbody tr th:only-of-type {\n",
              "        vertical-align: middle;\n",
              "    }\n",
              "\n",
              "    .dataframe tbody tr th {\n",
              "        vertical-align: top;\n",
              "    }\n",
              "\n",
              "    .dataframe thead th {\n",
              "        text-align: right;\n",
              "    }\n",
              "</style>\n",
              "<table border=\"1\" class=\"dataframe\">\n",
              "  <thead>\n",
              "    <tr style=\"text-align: right;\">\n",
              "      <th></th>\n",
              "      <th>pergunta</th>\n",
              "      <th>resposta</th>\n",
              "    </tr>\n",
              "  </thead>\n",
              "  <tbody>\n",
              "    <tr>\n",
              "      <th>0</th>\n",
              "      <td>O que é o novo coronavírus?</td>\n",
              "      <td>Os coronavírus causam infecções respiratórias ...</td>\n",
              "    </tr>\n",
              "    <tr>\n",
              "      <th>1</th>\n",
              "      <td>Por que a doença causada pelo novo vírus receb...</td>\n",
              "      <td>Desde o início de fevereiro, a Organização Mun...</td>\n",
              "    </tr>\n",
              "    <tr>\n",
              "      <th>2</th>\n",
              "      <td>A Organização Mundial de Saúde (OMS) disse que...</td>\n",
              "      <td>Não. A Organização Mundial da Saúde não disse ...</td>\n",
              "    </tr>\n",
              "    <tr>\n",
              "      <th>3</th>\n",
              "      <td>Diante da falta de álcool gel podemos colocar ...</td>\n",
              "      <td>Preparações caseiras não possuem a certificaçã...</td>\n",
              "    </tr>\n",
              "    <tr>\n",
              "      <th>4</th>\n",
              "      <td>Chá de abacate com hortelã, mel, uísque ou out...</td>\n",
              "      <td>Até o momento, não há nenhum medicamento, subs...</td>\n",
              "    </tr>\n",
              "  </tbody>\n",
              "</table>\n",
              "</div>"
            ],
            "text/plain": [
              "                                            pergunta                                           resposta\n",
              "0                        O que é o novo coronavírus?  Os coronavírus causam infecções respiratórias ...\n",
              "1  Por que a doença causada pelo novo vírus receb...  Desde o início de fevereiro, a Organização Mun...\n",
              "2  A Organização Mundial de Saúde (OMS) disse que...  Não. A Organização Mundial da Saúde não disse ...\n",
              "3  Diante da falta de álcool gel podemos colocar ...  Preparações caseiras não possuem a certificaçã...\n",
              "4  Chá de abacate com hortelã, mel, uísque ou out...  Até o momento, não há nenhum medicamento, subs..."
            ]
          },
          "metadata": {
            "tags": []
          },
          "execution_count": 8
        }
      ]
    },
    {
      "cell_type": "code",
      "metadata": {
        "colab": {
          "base_uri": "https://localhost:8080/",
          "height": 206
        },
        "id": "ndWq7kKz37Ug",
        "outputId": "edf7f2ec-4e22-44a8-e447-b51dfb8a78b8"
      },
      "source": [
        "perguntas = new_df['pergunta']\n",
        "for i in range(perguntas.size):\n",
        "    perguntas[i] = unidecode(perguntas[i]).lower()\n",
        "new_df['pergunta'] = perguntas\n",
        "new_df.head()"
      ],
      "execution_count": null,
      "outputs": [
        {
          "output_type": "execute_result",
          "data": {
            "text/html": [
              "<div>\n",
              "<style scoped>\n",
              "    .dataframe tbody tr th:only-of-type {\n",
              "        vertical-align: middle;\n",
              "    }\n",
              "\n",
              "    .dataframe tbody tr th {\n",
              "        vertical-align: top;\n",
              "    }\n",
              "\n",
              "    .dataframe thead th {\n",
              "        text-align: right;\n",
              "    }\n",
              "</style>\n",
              "<table border=\"1\" class=\"dataframe\">\n",
              "  <thead>\n",
              "    <tr style=\"text-align: right;\">\n",
              "      <th></th>\n",
              "      <th>pergunta</th>\n",
              "      <th>resposta</th>\n",
              "    </tr>\n",
              "  </thead>\n",
              "  <tbody>\n",
              "    <tr>\n",
              "      <th>0</th>\n",
              "      <td>o que e o novo coronavirus?</td>\n",
              "      <td>Os coronavírus causam infecções respiratórias ...</td>\n",
              "    </tr>\n",
              "    <tr>\n",
              "      <th>1</th>\n",
              "      <td>por que a doenca causada pelo novo virus receb...</td>\n",
              "      <td>Desde o início de fevereiro, a Organização Mun...</td>\n",
              "    </tr>\n",
              "    <tr>\n",
              "      <th>2</th>\n",
              "      <td>a organizacao mundial de saude (oms) disse que...</td>\n",
              "      <td>Não. A Organização Mundial da Saúde não disse ...</td>\n",
              "    </tr>\n",
              "    <tr>\n",
              "      <th>3</th>\n",
              "      <td>diante da falta de alcool gel podemos colocar ...</td>\n",
              "      <td>Preparações caseiras não possuem a certificaçã...</td>\n",
              "    </tr>\n",
              "    <tr>\n",
              "      <th>4</th>\n",
              "      <td>cha de abacate com hortela, mel, uisque ou out...</td>\n",
              "      <td>Até o momento, não há nenhum medicamento, subs...</td>\n",
              "    </tr>\n",
              "  </tbody>\n",
              "</table>\n",
              "</div>"
            ],
            "text/plain": [
              "                                            pergunta                                           resposta\n",
              "0                        o que e o novo coronavirus?  Os coronavírus causam infecções respiratórias ...\n",
              "1  por que a doenca causada pelo novo virus receb...  Desde o início de fevereiro, a Organização Mun...\n",
              "2  a organizacao mundial de saude (oms) disse que...  Não. A Organização Mundial da Saúde não disse ...\n",
              "3  diante da falta de alcool gel podemos colocar ...  Preparações caseiras não possuem a certificaçã...\n",
              "4  cha de abacate com hortela, mel, uisque ou out...  Até o momento, não há nenhum medicamento, subs..."
            ]
          },
          "metadata": {
            "tags": []
          },
          "execution_count": 9
        }
      ]
    },
    {
      "cell_type": "code",
      "metadata": {
        "colab": {
          "base_uri": "https://localhost:8080/"
        },
        "id": "52CM4EOgcRkt",
        "outputId": "be261745-13ae-4b65-e689-e0983b2b807b"
      },
      "source": [
        "print((\"Dados duplicados: %d\")%(new_df.duplicated(['pergunta']).sum()))\n",
        "new_df.drop_duplicates(['pergunta'],inplace=True)\n",
        "new_df.reset_index(inplace= True,drop = True)\n",
        "print(\"Shape dataset: {}\".format(new_df.shape))"
      ],
      "execution_count": null,
      "outputs": [
        {
          "output_type": "stream",
          "text": [
            "Dados duplicados: 133\n",
            "Shape dataset: (565, 2)\n"
          ],
          "name": "stdout"
        }
      ]
    },
    {
      "cell_type": "markdown",
      "metadata": {
        "id": "nc_5l1cc1o8L"
      },
      "source": [
        "### Salvando dataset\n"
      ]
    },
    {
      "cell_type": "code",
      "metadata": {
        "id": "06HgJN0n400w"
      },
      "source": [
        "new_df.to_csv('/content/drive/Shareddrives/COVID - Projeto/repositorio_projeto.csv')"
      ],
      "execution_count": null,
      "outputs": []
    },
    {
      "cell_type": "markdown",
      "metadata": {
        "id": "y8B1VBfo2C8d"
      },
      "source": [
        "### Abrindo dataset"
      ]
    },
    {
      "cell_type": "code",
      "metadata": {
        "id": "U8Ib0plL2Iq5"
      },
      "source": [
        "new_df = pd.read_csv('/content/drive/Shareddrives/COVID - Projeto/repositorio_projeto.csv')"
      ],
      "execution_count": null,
      "outputs": []
    },
    {
      "cell_type": "code",
      "metadata": {
        "id": "9WYrIMR6NuCI"
      },
      "source": [
        "perguntas = new_df['pergunta']"
      ],
      "execution_count": null,
      "outputs": []
    },
    {
      "cell_type": "code",
      "metadata": {
        "id": "4LPwqQ5e4JM0"
      },
      "source": [
        "document = []\n",
        "for pergunta,i in zip(perguntas,range(perguntas.size)):\n",
        "    try:\n",
        "      tokens = nltk.word_tokenize(pergunta,language = 'portuguese')\n",
        "      tokens = [w for w in tokens if not w in string.punctuation]\n",
        "      document.append(tokens)\n",
        "    except:\n",
        "      print(pergunta, i)\n",
        "document = np.array(document)"
      ],
      "execution_count": null,
      "outputs": []
    },
    {
      "cell_type": "markdown",
      "metadata": {
        "id": "P21vlgkI0VVQ"
      },
      "source": [
        "## Salvando amostra"
      ]
    },
    {
      "cell_type": "code",
      "metadata": {
        "id": "Fv7xcd9r55B1"
      },
      "source": [
        "sample = np.random.choice(document,size=50,replace=False)"
      ],
      "execution_count": null,
      "outputs": []
    },
    {
      "cell_type": "code",
      "metadata": {
        "id": "Ytlmja3GGIK4"
      },
      "source": [
        "with open('/content/drive/Shareddrives/COVID - Projeto/amostra.json','w') as outfile:\n",
        "    json.dump(sample,outfile)"
      ],
      "execution_count": null,
      "outputs": []
    },
    {
      "cell_type": "markdown",
      "metadata": {
        "id": "iml7gpcw00VT"
      },
      "source": [
        "## Abrindo amostra\n"
      ]
    },
    {
      "cell_type": "code",
      "metadata": {
        "id": "zh2FLKNU04iF"
      },
      "source": [
        "with open('/content/drive/Shareddrives/COVID - Projeto/amostra.json','r') as f:\n",
        "    sample = json.load(f)"
      ],
      "execution_count": null,
      "outputs": []
    },
    {
      "cell_type": "markdown",
      "metadata": {
        "id": "iaj5YrS59BK7"
      },
      "source": [
        "## Utilizando BM25"
      ]
    },
    {
      "cell_type": "code",
      "metadata": {
        "id": "GikC9tvPEGIe"
      },
      "source": [
        "bm25 = BM25(document)\n",
        "#bm25 = BM25Okapi(document)"
      ],
      "execution_count": null,
      "outputs": []
    },
    {
      "cell_type": "code",
      "metadata": {
        "colab": {
          "base_uri": "https://localhost:8080/"
        },
        "id": "kTXWA_KK6l7n",
        "outputId": "f82b6329-8cb5-4ce7-dbcb-768334260605"
      },
      "source": [
        "#@title Texto de título padrão { run: \"auto\" }\n",
        "posicao =  1#@param {type:\"integer\"}\n",
        "try:\n",
        "    query = sample[posicao]\n",
        "    print('Query:',\" \".join(query) + '?','\\n')\n",
        "    score = bm25.get_scores(query)\n",
        "    top_n = np.argsort(score)[::-1][2:6] # Apresentar as 3 melhores assimilações\n",
        "    for i in top_n:\n",
        "        print(\"Pergunta: {} | Score BM25: {:.2f}\".format(perguntas[i],score[i])) # Print da pergunta similiar e o score do BM25\n",
        "except:\n",
        "    print(\"Posicao invalida\")"
      ],
      "execution_count": null,
      "outputs": [
        {
          "output_type": "stream",
          "text": [
            "Query: o que sao coronavirus? \n",
            "\n",
            "Pergunta: o que sao testes rapidos (igm/igg)? | Score BM25: 4.49\n",
            "Pergunta: o que sao os testes rapidos? | Score BM25: 4.49\n",
            "Pergunta: o que sao testes rt- pcr? | Score BM25: 4.49\n",
            "Pergunta: quais sao as complicacoes do novo coronavirus? | Score BM25: 4.42\n"
          ],
          "name": "stdout"
        }
      ]
    },
    {
      "cell_type": "markdown",
      "metadata": {
        "id": "tFooN70s2wLp"
      },
      "source": [
        "### Analise de metricas"
      ]
    },
    {
      "cell_type": "code",
      "metadata": {
        "colab": {
          "base_uri": "https://localhost:8080/",
          "height": 276
        },
        "id": "3Y8z2MoH3RKl",
        "outputId": "2b92972d-8e76-479d-9091-9505eb0236fb"
      },
      "source": [
        "df_avaliado = pd.read_csv('/content/drive/Shareddrives/COVID - Projeto/repositorio_avaliado_v2.csv')\n",
        "df_avaliado.head()"
      ],
      "execution_count": null,
      "outputs": [
        {
          "output_type": "execute_result",
          "data": {
            "text/html": [
              "<div>\n",
              "<style scoped>\n",
              "    .dataframe tbody tr th:only-of-type {\n",
              "        vertical-align: middle;\n",
              "    }\n",
              "\n",
              "    .dataframe tbody tr th {\n",
              "        vertical-align: top;\n",
              "    }\n",
              "\n",
              "    .dataframe thead th {\n",
              "        text-align: right;\n",
              "    }\n",
              "</style>\n",
              "<table border=\"1\" class=\"dataframe\">\n",
              "  <thead>\n",
              "    <tr style=\"text-align: right;\">\n",
              "      <th></th>\n",
              "      <th>pergunta</th>\n",
              "      <th>assimilacao_um</th>\n",
              "      <th>nota_um</th>\n",
              "      <th>assimilacao_dois</th>\n",
              "      <th>nota_dois</th>\n",
              "      <th>assimilacao_tres</th>\n",
              "      <th>nota_tres</th>\n",
              "    </tr>\n",
              "  </thead>\n",
              "  <tbody>\n",
              "    <tr>\n",
              "      <th>0</th>\n",
              "      <td>quais sao os sintomas do novo coronavirus?</td>\n",
              "      <td>quais os sintomas do coronavirus?</td>\n",
              "      <td>100</td>\n",
              "      <td>quais sao os sintomas?</td>\n",
              "      <td>100</td>\n",
              "      <td>quais sao as complicacoes do novo coronavirus?</td>\n",
              "      <td>75</td>\n",
              "    </tr>\n",
              "    <tr>\n",
              "      <th>1</th>\n",
              "      <td>o que sao coronavirus?</td>\n",
              "      <td>o que e o novo coronavirus?</td>\n",
              "      <td>100</td>\n",
              "      <td>o que sao os coronavirus?</td>\n",
              "      <td>100</td>\n",
              "      <td>o que e covid-19?</td>\n",
              "      <td>100</td>\n",
              "    </tr>\n",
              "    <tr>\n",
              "      <th>2</th>\n",
              "      <td>qual o plano da secretaria da saude para monit...</td>\n",
              "      <td>como a rede municipal de saude se preparou par...</td>\n",
              "      <td>60</td>\n",
              "      <td>qual a orientacao para os profissionais da sau...</td>\n",
              "      <td>0</td>\n",
              "      <td>o ministerio da saude tem uma plataforma para ...</td>\n",
              "      <td>80</td>\n",
              "    </tr>\n",
              "    <tr>\n",
              "      <th>3</th>\n",
              "      <td>quem precisa ficar em isolamento?</td>\n",
              "      <td>casos suspeitos tem sido mantidos em isolament...</td>\n",
              "      <td>60</td>\n",
              "      <td>o que significa isolamento domiciliar?</td>\n",
              "      <td>10</td>\n",
              "      <td>que cuidados devo ter se estiver em isolamento?</td>\n",
              "      <td>0</td>\n",
              "    </tr>\n",
              "    <tr>\n",
              "      <th>4</th>\n",
              "      <td>como e feito o diagnostico do covid-19?</td>\n",
              "      <td>como e feito o diagnostico da covid-19?</td>\n",
              "      <td>100</td>\n",
              "      <td>como e feito o diagnostico?</td>\n",
              "      <td>100</td>\n",
              "      <td>como e feito o tratamento contra o coronavirus?</td>\n",
              "      <td>0</td>\n",
              "    </tr>\n",
              "  </tbody>\n",
              "</table>\n",
              "</div>"
            ],
            "text/plain": [
              "                                            pergunta  ... nota_tres\n",
              "0         quais sao os sintomas do novo coronavirus?  ...        75\n",
              "1                             o que sao coronavirus?  ...       100\n",
              "2  qual o plano da secretaria da saude para monit...  ...        80\n",
              "3                 quem precisa ficar em isolamento?   ...         0\n",
              "4            como e feito o diagnostico do covid-19?  ...         0\n",
              "\n",
              "[5 rows x 7 columns]"
            ]
          },
          "metadata": {
            "tags": []
          },
          "execution_count": 12
        }
      ]
    },
    {
      "cell_type": "code",
      "metadata": {
        "colab": {
          "base_uri": "https://localhost:8080/"
        },
        "id": "3AzpGGV4g2m4",
        "outputId": "a543f512-990b-4f50-be05-b2d6573feed4"
      },
      "source": [
        "media_um = df_avaliado['nota_um'].mean()\n",
        "desvio_um = df_avaliado['nota_um'].std()\n",
        "media_dois = df_avaliado['nota_dois'].mean()\n",
        "desvio_dois = df_avaliado['nota_dois'].std()\n",
        "media_tres = df_avaliado['nota_tres'].mean()\n",
        "desvio_tres = df_avaliado['nota_tres'].std()\n",
        "print(\"Media 1: {} +- {:.2f}\\nMedia 2: {} +- {:.2f}\\nMedia 3: {} +- {:.2f}\".format(media_um,desvio_um,media_dois,desvio_dois,media_tres,desvio_tres))\n",
        "print(\"Media geral: {:.2f}\".format(np.array([media_um,media_dois,media_tres]).mean()))"
      ],
      "execution_count": null,
      "outputs": [
        {
          "output_type": "stream",
          "text": [
            "Media 1: 56.7 +- 40.46\n",
            "Media 2: 40.26 +- 42.96\n",
            "Media 3: 25.1 +- 37.78\n",
            "Media geral: 40.69\n"
          ],
          "name": "stdout"
        }
      ]
    },
    {
      "cell_type": "code",
      "metadata": {
        "id": "FtTW7PBCzhXk"
      },
      "source": [
        "df_avaliado.drop(['pergunta','assimilacao_um','assimilacao_dois','assimilacao_tres'],axis = 1,inplace = True)"
      ],
      "execution_count": null,
      "outputs": []
    },
    {
      "cell_type": "code",
      "metadata": {
        "id": "oafthyZAj5_U"
      },
      "source": [
        "descriminante = 0 # Qualquer valor maior que... \n",
        "matrix_avaliacao = np.zeros(df_avaliado.shape,dtype = int)\n",
        "matrix_cumali = np.zeros(df_avaliado.shape,dtype=int) # Cumulative Gain@k (CG@k)\n",
        "matrix_disc_cumali = np.zeros(df_avaliado.shape) # Discounted Cumulative Gain@k (DCG@k)\n",
        "matrix_disc_i_cumali = np.zeros(df_avaliado.shape) # Ideal Discounted Cumulative Gain@k (IDCG@k)\n",
        "df_array = df_avaliado.values\n",
        "for posi in range(df_array.shape[0]):\n",
        "    soma_cg = 0\n",
        "    soma_dcg = 0\n",
        "    soma_idcg = 0\n",
        "    sorted_matrix = np.sort(df_array[posi])[::-1]\n",
        "    for posi_interno in range(df_array[posi].size):\n",
        "\n",
        "      #----------------------------------------------#\n",
        "      if(df_array[posi][posi_interno] > descriminante):\n",
        "          matrix_avaliacao[posi][posi_interno] = 1\n",
        "      #----------------------------------------------#\n",
        "\n",
        "      #----------------------------------------------#\n",
        "      soma_cg += df_array[posi][posi_interno]\n",
        "      matrix_cumali[posi][posi_interno] = soma_cg # (CG@k)\n",
        "\n",
        "      #----------------------------------------------#\n",
        "      soma_dcg += (df_array[posi][posi_interno]/np.log2(posi_interno + 2))\n",
        "      matrix_disc_cumali[posi][posi_interno] = soma_dcg # (DCG@k)\n",
        "\n",
        "      #----------------------------------------------#\n",
        "      soma_idcg += (sorted_matrix[posi_interno]/np.log2(posi_interno + 2))\n",
        "      matrix_disc_i_cumali[posi][posi_interno] = soma_idcg # (IDCG@k)\n",
        "      \n",
        "    "
      ],
      "execution_count": null,
      "outputs": []
    },
    {
      "cell_type": "code",
      "metadata": {
        "id": "l9hg8R2dkntf"
      },
      "source": [
        "matrix_pre = np.zeros(df_avaliado.shape) # precision@k\n",
        "matrix_recall = np.zeros(df_avaliado.shape) # recall@k\n",
        "for posi in range(matrix_avaliacao.shape[0]):\n",
        "    soma = matrix_avaliacao[posi].sum()\n",
        "    if(soma != 0):\n",
        "        tp = 0\n",
        "        fp = 0\n",
        "        for i,j in zip(matrix_avaliacao[posi],range(matrix_avaliacao[posi].size)):\n",
        "            if(i == 1):\n",
        "                tp += 1\n",
        "                matrix_pre[posi][j] = round((tp/(tp+fp)),2)\n",
        "                matrix_recall[posi][j] = round((tp/soma),2)\n",
        "            else:\n",
        "                fp += 1\n",
        "                matrix_pre[posi][j] = round((tp/(tp+fp)),2)\n",
        "                matrix_recall[posi][j] = round((tp/soma),2)"
      ],
      "execution_count": null,
      "outputs": []
    },
    {
      "cell_type": "code",
      "metadata": {
        "id": "hEgWnjNGrkat"
      },
      "source": [
        "matrix_ap = np.zeros(df_avaliado.shape[0]) # average precision\n",
        "for posi in range(matrix_avaliacao.shape[0]):\n",
        "    soma = 0\n",
        "    for i in range(matrix_avaliacao[posi].size):\n",
        "        if(matrix_avaliacao[posi][i] == 1):\n",
        "            soma += matrix_pre[posi][i]\n",
        "    matrix_ap[posi] = round((soma/matrix_avaliacao[posi].size),2)\n"
      ],
      "execution_count": null,
      "outputs": []
    },
    {
      "cell_type": "code",
      "metadata": {
        "id": "JIxJdsDa8-2t"
      },
      "source": [
        "matrix_ndgc = np.zeros(df_avaliado.shape) # Normalized Discounted Cumulative Gain\n",
        "for posi in range(matrix_ndgc.shape[0]):\n",
        "    for posi_interno in range(matrix_ndgc.shape[1]):\n",
        "        if(matrix_disc_i_cumali[posi][posi_interno] != 0):\n",
        "            matrix_ndgc[posi][posi_interno] = round((matrix_disc_cumali[posi][posi_interno]/matrix_disc_i_cumali[posi][posi_interno]),2)"
      ],
      "execution_count": null,
      "outputs": []
    },
    {
      "cell_type": "code",
      "metadata": {
        "colab": {
          "base_uri": "https://localhost:8080/"
        },
        "id": "ccS8xqt3thD_",
        "outputId": "47547135-d465-48b6-f029-49b829e1e443"
      },
      "source": [
        "MAP = matrix_ap.mean() # mean average precision\n",
        "MAP_std = matrix_ap.std() # mean average precision std\n",
        "print(\"MAP: {:.2f} +- {:.2f}\".format(MAP,MAP_std))"
      ],
      "execution_count": null,
      "outputs": [
        {
          "output_type": "stream",
          "text": [
            "MAP: 0.56 +- 0.34\n"
          ],
          "name": "stdout"
        }
      ]
    },
    {
      "cell_type": "code",
      "metadata": {
        "colab": {
          "base_uri": "https://localhost:8080/",
          "height": 206
        },
        "id": "-yA2FozBwvvg",
        "outputId": "e6f0e051-58c2-4df8-f482-01861bb7c578"
      },
      "source": [
        "df_ndgc = pd.DataFrame(matrix_ndgc,columns=['N@1','N@2','N@3'])\n",
        "df_ndgc.head()"
      ],
      "execution_count": null,
      "outputs": [
        {
          "output_type": "execute_result",
          "data": {
            "text/html": [
              "<div>\n",
              "<style scoped>\n",
              "    .dataframe tbody tr th:only-of-type {\n",
              "        vertical-align: middle;\n",
              "    }\n",
              "\n",
              "    .dataframe tbody tr th {\n",
              "        vertical-align: top;\n",
              "    }\n",
              "\n",
              "    .dataframe thead th {\n",
              "        text-align: right;\n",
              "    }\n",
              "</style>\n",
              "<table border=\"1\" class=\"dataframe\">\n",
              "  <thead>\n",
              "    <tr style=\"text-align: right;\">\n",
              "      <th></th>\n",
              "      <th>N@1</th>\n",
              "      <th>N@2</th>\n",
              "      <th>N@3</th>\n",
              "    </tr>\n",
              "  </thead>\n",
              "  <tbody>\n",
              "    <tr>\n",
              "      <th>0</th>\n",
              "      <td>1.00</td>\n",
              "      <td>1.00</td>\n",
              "      <td>1.00</td>\n",
              "    </tr>\n",
              "    <tr>\n",
              "      <th>1</th>\n",
              "      <td>1.00</td>\n",
              "      <td>1.00</td>\n",
              "      <td>1.00</td>\n",
              "    </tr>\n",
              "    <tr>\n",
              "      <th>2</th>\n",
              "      <td>0.75</td>\n",
              "      <td>0.51</td>\n",
              "      <td>0.85</td>\n",
              "    </tr>\n",
              "    <tr>\n",
              "      <th>3</th>\n",
              "      <td>1.00</td>\n",
              "      <td>1.00</td>\n",
              "      <td>1.00</td>\n",
              "    </tr>\n",
              "    <tr>\n",
              "      <th>4</th>\n",
              "      <td>1.00</td>\n",
              "      <td>1.00</td>\n",
              "      <td>1.00</td>\n",
              "    </tr>\n",
              "  </tbody>\n",
              "</table>\n",
              "</div>"
            ],
            "text/plain": [
              "    N@1   N@2   N@3\n",
              "0  1.00  1.00  1.00\n",
              "1  1.00  1.00  1.00\n",
              "2  0.75  0.51  0.85\n",
              "3  1.00  1.00  1.00\n",
              "4  1.00  1.00  1.00"
            ]
          },
          "metadata": {
            "tags": []
          },
          "execution_count": 20
        }
      ]
    },
    {
      "cell_type": "code",
      "metadata": {
        "colab": {
          "base_uri": "https://localhost:8080/",
          "height": 81
        },
        "id": "8r1vwQ7PitQs",
        "outputId": "1641851e-9538-4833-8be3-0717e584a6f8"
      },
      "source": [
        "dici = {'MAP': [round(MAP,4)], 'N@1' : [round(df_ndgc['N@1'].mean(),4)], 'N@2' : [round(df_ndgc['N@2'].mean(),4)], 'N@3' : [round(df_ndgc['N@3'].mean(),4)]}\n",
        "new_df_ndgc = pd.DataFrame(dici,index=['BM25'])\n",
        "new_df_ndgc"
      ],
      "execution_count": null,
      "outputs": [
        {
          "output_type": "execute_result",
          "data": {
            "text/html": [
              "<div>\n",
              "<style scoped>\n",
              "    .dataframe tbody tr th:only-of-type {\n",
              "        vertical-align: middle;\n",
              "    }\n",
              "\n",
              "    .dataframe tbody tr th {\n",
              "        vertical-align: top;\n",
              "    }\n",
              "\n",
              "    .dataframe thead th {\n",
              "        text-align: right;\n",
              "    }\n",
              "</style>\n",
              "<table border=\"1\" class=\"dataframe\">\n",
              "  <thead>\n",
              "    <tr style=\"text-align: right;\">\n",
              "      <th></th>\n",
              "      <th>MAP</th>\n",
              "      <th>N@1</th>\n",
              "      <th>N@2</th>\n",
              "      <th>N@3</th>\n",
              "    </tr>\n",
              "  </thead>\n",
              "  <tbody>\n",
              "    <tr>\n",
              "      <th>BM25</th>\n",
              "      <td>0.5596</td>\n",
              "      <td>0.7488</td>\n",
              "      <td>0.7742</td>\n",
              "      <td>0.8332</td>\n",
              "    </tr>\n",
              "  </tbody>\n",
              "</table>\n",
              "</div>"
            ],
            "text/plain": [
              "         MAP     N@1     N@2     N@3\n",
              "BM25  0.5596  0.7488  0.7742  0.8332"
            ]
          },
          "metadata": {
            "tags": []
          },
          "execution_count": 21
        }
      ]
    },
    {
      "cell_type": "code",
      "metadata": {
        "id": "1EPbfXoPqbcC"
      },
      "source": [
        "new_df_ndgc.to_csv('/content/drive/Shareddrives/COVID - Projeto/metricas_bm25.csv')"
      ],
      "execution_count": null,
      "outputs": []
    },
    {
      "cell_type": "code",
      "metadata": {
        "id": "Oxu4OWZQbKUm"
      },
      "source": [
        "new_df_ndgc.to_latex('/content/drive/Shareddrives/COVID - Projeto/metricas_bm25.tex')"
      ],
      "execution_count": null,
      "outputs": []
    },
    {
      "cell_type": "markdown",
      "metadata": {
        "id": "VI7DQsu-A5ld"
      },
      "source": [
        "### Correcao valores nulos"
      ]
    },
    {
      "cell_type": "code",
      "metadata": {
        "colab": {
          "base_uri": "https://localhost:8080/",
          "height": 293
        },
        "id": "x1Kr7jkP4fR9",
        "outputId": "eb7f2ff1-368a-43c0-d6bb-272389aeaf8d"
      },
      "source": [
        "df_avaliado = df_avaliado[df_avaliado['nota_um'] == 0]\n",
        "df_avaliado = df_avaliado[df_avaliado['nota_dois'] == 0]\n",
        "df_avaliado = df_avaliado[df_avaliado['nota_tres'] == 0]\n",
        "df_avaliado.head()"
      ],
      "execution_count": null,
      "outputs": [
        {
          "output_type": "execute_result",
          "data": {
            "text/html": [
              "<div>\n",
              "<style scoped>\n",
              "    .dataframe tbody tr th:only-of-type {\n",
              "        vertical-align: middle;\n",
              "    }\n",
              "\n",
              "    .dataframe tbody tr th {\n",
              "        vertical-align: top;\n",
              "    }\n",
              "\n",
              "    .dataframe thead th {\n",
              "        text-align: right;\n",
              "    }\n",
              "</style>\n",
              "<table border=\"1\" class=\"dataframe\">\n",
              "  <thead>\n",
              "    <tr style=\"text-align: right;\">\n",
              "      <th></th>\n",
              "      <th>pergunta</th>\n",
              "      <th>assimilacao_um</th>\n",
              "      <th>nota_um</th>\n",
              "      <th>assimilacao_dois</th>\n",
              "      <th>nota_dois</th>\n",
              "      <th>assimilacao_tres</th>\n",
              "      <th>nota_tres</th>\n",
              "    </tr>\n",
              "  </thead>\n",
              "  <tbody>\n",
              "    <tr>\n",
              "      <th>11</th>\n",
              "      <td>o alcool em gel e obrigatorio?</td>\n",
              "      <td>diante da falta de alcool gel podemos colocar ...</td>\n",
              "      <td>0</td>\n",
              "      <td>o alcool 92% e eficiente? e o alcool de cereai...</td>\n",
              "      <td>0</td>\n",
              "      <td>usar o alcool em gel e mais eficiente do que l...</td>\n",
              "      <td>0</td>\n",
              "    </tr>\n",
              "    <tr>\n",
              "      <th>20</th>\n",
              "      <td>como faco para comunicar um desvio de qualidad...</td>\n",
              "      <td>quais sao os equipamentos de protecao individu...</td>\n",
              "      <td>0</td>\n",
              "      <td>como faco para saber se estou com o novo coron...</td>\n",
              "      <td>0</td>\n",
              "      <td>o que e um contato domiciliar de caso suspeito...</td>\n",
              "      <td>0</td>\n",
              "    </tr>\n",
              "    <tr>\n",
              "      <th>29</th>\n",
              "      <td>havera abordagem e multa para cidadaos em veic...</td>\n",
              "      <td>havera medida de restricao ou bloqueio a pesso...</td>\n",
              "      <td>0</td>\n",
              "      <td>o alcool em gel e obrigatorio?</td>\n",
              "      <td>0</td>\n",
              "      <td>qual o risco para as criancas? em caso de infe...</td>\n",
              "      <td>0</td>\n",
              "    </tr>\n",
              "    <tr>\n",
              "      <th>35</th>\n",
              "      <td>qual e a definicao de pessoasmonitoradas?</td>\n",
              "      <td>qual e a definicao de caso excluido?</td>\n",
              "      <td>0</td>\n",
              "      <td>qual e a definicao de caso descartado?</td>\n",
              "      <td>0</td>\n",
              "      <td>qual e a definicao de caso confirmado?</td>\n",
              "      <td>0</td>\n",
              "    </tr>\n",
              "    <tr>\n",
              "      <th>36</th>\n",
              "      <td>como e que as pessoas podem ajudar a acabar co...</td>\n",
              "      <td>com as aulas suspensas, as criancas podem brin...</td>\n",
              "      <td>0</td>\n",
              "      <td>como as pessoas que precisam trabalhar podem s...</td>\n",
              "      <td>0</td>\n",
              "      <td>quantos e quais hospitais podem receber pacien...</td>\n",
              "      <td>0</td>\n",
              "    </tr>\n",
              "  </tbody>\n",
              "</table>\n",
              "</div>"
            ],
            "text/plain": [
              "                                             pergunta  ... nota_tres\n",
              "11                    o alcool em gel e obrigatorio?   ...         0\n",
              "20  como faco para comunicar um desvio de qualidad...  ...         0\n",
              "29  havera abordagem e multa para cidadaos em veic...  ...         0\n",
              "35          qual e a definicao de pessoasmonitoradas?  ...         0\n",
              "36  como e que as pessoas podem ajudar a acabar co...  ...         0\n",
              "\n",
              "[5 rows x 7 columns]"
            ]
          },
          "metadata": {
            "tags": []
          },
          "execution_count": 13
        }
      ]
    },
    {
      "cell_type": "code",
      "metadata": {
        "colab": {
          "base_uri": "https://localhost:8080/"
        },
        "id": "XC5COXlvJYQT",
        "outputId": "ad93dfa1-952e-44fb-ed3b-bc90a518b328"
      },
      "source": [
        "print(\"Tamanho do DF avaliado: {}\".format(df_avaliado.shape[0]))"
      ],
      "execution_count": null,
      "outputs": [
        {
          "output_type": "stream",
          "text": [
            "Tamanho do DF avaliado: 5\n"
          ],
          "name": "stdout"
        }
      ]
    },
    {
      "cell_type": "code",
      "metadata": {
        "colab": {
          "base_uri": "https://localhost:8080/"
        },
        "id": "1Q5utdrwD7ce",
        "outputId": "c3abbf6c-211f-43fe-f444-8a09a8c610da"
      },
      "source": [
        "df_avaliado.values[9]"
      ],
      "execution_count": null,
      "outputs": [
        {
          "output_type": "execute_result",
          "data": {
            "text/plain": [
              "array(['como e que as pessoas podem ajudar a acabar com o estigma relacionado com o covid-19?',\n",
              "       'com as aulas suspensas, as criancas podem brincar na rua? e recomendavel?',\n",
              "       0,\n",
              "       'como as pessoas que precisam trabalhar podem se prevenir de covid-19 ao usarem o transporte publico?',\n",
              "       0,\n",
              "       'quantos e quais hospitais podem receber pacientes com a covid-19?',\n",
              "       0], dtype=object)"
            ]
          },
          "metadata": {
            "tags": []
          },
          "execution_count": 96
        }
      ]
    },
    {
      "cell_type": "code",
      "metadata": {
        "colab": {
          "base_uri": "https://localhost:8080/"
        },
        "id": "x5USxPJZ5S1l",
        "outputId": "f3a395b6-416b-44e1-9ab3-c2a92ab5d3f3"
      },
      "source": [
        "#@title Texto de título padrão { run: \"auto\" }\n",
        "variable_name = \"profissio\" #@param {type:\"string\"}\n",
        "for pergunta in perguntas:\n",
        "    if(variable_name in pergunta):\n",
        "        print(pergunta)"
      ],
      "execution_count": null,
      "outputs": [
        {
          "output_type": "stream",
          "text": [
            "qual a orientacao para os profissionais da saude quando retornam a seus domicilios?\n",
            "as profissionais de saude gravidas correm maior risco de resultados adversos se cuidarem de pacientes com covid-19?\n",
            "como e a prevencao contra o coronavirus para os profissionais de saude?\n",
            "por que e importante o municipio fazer a notificacao dentro de 24 horas? quais providencias o profissional deve adotar?\n",
            "os testes rapidos sao de uso profissional?\n",
            "o profissional de enfermagem pode utilizar mascara caseira em servicos de saude?\n",
            "se um profissional da equipe testar positivo para covid-19, o que a equipe devera fazer?\n",
            "quais os cuidados a serem adotados pelos profissionais de enfer-magem que realizam assistencia em atencao domiciliar? e se o paciente estiver com quadro suspeito ou confirmado?\n",
            "posso atuar sem carteira de identidade profissional (cip)?\n",
            "a minha carteira de identidade profissional esta vencida. o que devo fazer?\n",
            "como sei que o profissional de saude esta tomando a precaucao correta contra o covid-19 no momento do atendimento?\n",
            "como e a prevencao contra o coronavirus paraos profissionais de saude?\n",
            "o profissional de enfermagem com sintomas, que cumpriu o isolamento domiciliar apos 14 dias pode retornar ao trabalho?\n",
            "o que fazer com os profissionais de enfermagem que tiveram contato com algum enfermeiro, tecnico ou auxiliar que foi diagnosticado com a covid-19?\n",
            "o profissional de enfermagem escalado para assistencia a paciente suspeito ou confirmado deve ser exclusivo?\n",
            "como e a prevencao contra o novo coronavirus para os profissionais da saude?\n"
          ],
          "name": "stdout"
        }
      ]
    },
    {
      "cell_type": "code",
      "metadata": {
        "colab": {
          "base_uri": "https://localhost:8080/"
        },
        "id": "IN57woQRFIzR",
        "outputId": "1fdea0d5-f45b-44ec-dfb2-9536548e2629"
      },
      "source": [
        "#query = np.array(question_test)[6]\n",
        "query = question_test.iloc[5]\n",
        "print(query,'\\n')\n",
        "query = nltk.word_tokenize(unidecode(query).lower(),language = 'portuguese')\n",
        "query = [w for w in query if not w in string.punctuation]\n",
        "score = bm25.get_scores(query)\n",
        "\n",
        "top_n = np.argsort(score)[::-1][:5] # Apresentar as 5 melhores assimilações\n",
        "for i in top_n:\n",
        "    print(\"Pergunta: {} | Score BM25: {:.2f}\".format(perguntas[i],score[i])) # Print da pergunta similiar e o score do BM25"
      ],
      "execution_count": null,
      "outputs": [
        {
          "output_type": "stream",
          "text": [
            "quantas mascaras de tecido devo ter? \n",
            "\n",
            "Pergunta: como o usuario deve proceder para ter esse tipo de atendimento? | Score BM25: 7.47\n",
            "Pergunta: quais as recomendacoes para quem precisar viajar neste momento? | Score BM25: 6.97\n",
            "Pergunta: quantoslaboratorios publicos fazem o exame de deteccao em pernambuco? | Score BM25: 6.63\n",
            "Pergunta: o covid-19 e  transmitido pelo ar? | Score BM25: 5.78\n",
            "Pergunta: o que sao medidas de higiene e etiqueta respiratoria?  | Score BM25: 5.08\n"
          ],
          "name": "stdout"
        }
      ]
    }
  ]
}